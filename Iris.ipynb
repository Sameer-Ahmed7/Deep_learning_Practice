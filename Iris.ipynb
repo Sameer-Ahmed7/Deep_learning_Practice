{
  "nbformat": 4,
  "nbformat_minor": 0,
  "metadata": {
    "colab": {
      "name": "Iris.ipynb",
      "provenance": [],
      "collapsed_sections": [],
      "authorship_tag": "ABX9TyMKpkQZvuYJMVgE12VgLtlg",
      "include_colab_link": true
    },
    "kernelspec": {
      "name": "python3",
      "display_name": "Python 3"
    }
  },
  "cells": [
    {
      "cell_type": "markdown",
      "metadata": {
        "id": "view-in-github",
        "colab_type": "text"
      },
      "source": [
        "<a href=\"https://colab.research.google.com/github/Sameer-Ahmed7/Deep_learning_Practice/blob/IRIS/Iris.ipynb\" target=\"_parent\"><img src=\"https://colab.research.google.com/assets/colab-badge.svg\" alt=\"Open In Colab\"/></a>"
      ]
    },
    {
      "cell_type": "code",
      "metadata": {
        "id": "eZkuCcJ-egMx",
        "colab_type": "code",
        "colab": {}
      },
      "source": [
        "#!pip install tensorflow --upgrade"
      ],
      "execution_count": 0,
      "outputs": []
    },
    {
      "cell_type": "code",
      "metadata": {
        "id": "9OcpR9-NexHw",
        "colab_type": "code",
        "colab": {}
      },
      "source": [
        "import tensorflow as tf\n",
        "import pandas as pd\n",
        "import numpy as np\n",
        "import matplotlib.pyplot as plt\n"
      ],
      "execution_count": 0,
      "outputs": []
    },
    {
      "cell_type": "code",
      "metadata": {
        "id": "BvetdulDfaIL",
        "colab_type": "code",
        "colab": {}
      },
      "source": [
        "df = pd.read_csv(\"IRIS.csv\")"
      ],
      "execution_count": 0,
      "outputs": []
    },
    {
      "cell_type": "code",
      "metadata": {
        "id": "Cjy0Upc0fghW",
        "colab_type": "code",
        "colab": {
          "base_uri": "https://localhost:8080/",
          "height": 204
        },
        "outputId": "8f3fbc9b-2b81-4eba-f53f-dd23d4dc4c48"
      },
      "source": [
        "df.head()"
      ],
      "execution_count": 207,
      "outputs": [
        {
          "output_type": "execute_result",
          "data": {
            "text/html": [
              "<div>\n",
              "<style scoped>\n",
              "    .dataframe tbody tr th:only-of-type {\n",
              "        vertical-align: middle;\n",
              "    }\n",
              "\n",
              "    .dataframe tbody tr th {\n",
              "        vertical-align: top;\n",
              "    }\n",
              "\n",
              "    .dataframe thead th {\n",
              "        text-align: right;\n",
              "    }\n",
              "</style>\n",
              "<table border=\"1\" class=\"dataframe\">\n",
              "  <thead>\n",
              "    <tr style=\"text-align: right;\">\n",
              "      <th></th>\n",
              "      <th>sepal_length</th>\n",
              "      <th>sepal_width</th>\n",
              "      <th>petal_length</th>\n",
              "      <th>petal_width</th>\n",
              "      <th>species</th>\n",
              "    </tr>\n",
              "  </thead>\n",
              "  <tbody>\n",
              "    <tr>\n",
              "      <th>0</th>\n",
              "      <td>5.1</td>\n",
              "      <td>3.5</td>\n",
              "      <td>1.4</td>\n",
              "      <td>0.2</td>\n",
              "      <td>Iris-setosa</td>\n",
              "    </tr>\n",
              "    <tr>\n",
              "      <th>1</th>\n",
              "      <td>4.9</td>\n",
              "      <td>3.0</td>\n",
              "      <td>1.4</td>\n",
              "      <td>0.2</td>\n",
              "      <td>Iris-setosa</td>\n",
              "    </tr>\n",
              "    <tr>\n",
              "      <th>2</th>\n",
              "      <td>4.7</td>\n",
              "      <td>3.2</td>\n",
              "      <td>1.3</td>\n",
              "      <td>0.2</td>\n",
              "      <td>Iris-setosa</td>\n",
              "    </tr>\n",
              "    <tr>\n",
              "      <th>3</th>\n",
              "      <td>4.6</td>\n",
              "      <td>3.1</td>\n",
              "      <td>1.5</td>\n",
              "      <td>0.2</td>\n",
              "      <td>Iris-setosa</td>\n",
              "    </tr>\n",
              "    <tr>\n",
              "      <th>4</th>\n",
              "      <td>5.0</td>\n",
              "      <td>3.6</td>\n",
              "      <td>1.4</td>\n",
              "      <td>0.2</td>\n",
              "      <td>Iris-setosa</td>\n",
              "    </tr>\n",
              "  </tbody>\n",
              "</table>\n",
              "</div>"
            ],
            "text/plain": [
              "   sepal_length  sepal_width  petal_length  petal_width      species\n",
              "0           5.1          3.5           1.4          0.2  Iris-setosa\n",
              "1           4.9          3.0           1.4          0.2  Iris-setosa\n",
              "2           4.7          3.2           1.3          0.2  Iris-setosa\n",
              "3           4.6          3.1           1.5          0.2  Iris-setosa\n",
              "4           5.0          3.6           1.4          0.2  Iris-setosa"
            ]
          },
          "metadata": {
            "tags": []
          },
          "execution_count": 207
        }
      ]
    },
    {
      "cell_type": "code",
      "metadata": {
        "id": "gMsCLZRAfh7t",
        "colab_type": "code",
        "colab": {
          "base_uri": "https://localhost:8080/",
          "height": 297
        },
        "outputId": "08cd8076-1293-4057-ebd2-73e42e1da232"
      },
      "source": [
        "df.describe()"
      ],
      "execution_count": 208,
      "outputs": [
        {
          "output_type": "execute_result",
          "data": {
            "text/html": [
              "<div>\n",
              "<style scoped>\n",
              "    .dataframe tbody tr th:only-of-type {\n",
              "        vertical-align: middle;\n",
              "    }\n",
              "\n",
              "    .dataframe tbody tr th {\n",
              "        vertical-align: top;\n",
              "    }\n",
              "\n",
              "    .dataframe thead th {\n",
              "        text-align: right;\n",
              "    }\n",
              "</style>\n",
              "<table border=\"1\" class=\"dataframe\">\n",
              "  <thead>\n",
              "    <tr style=\"text-align: right;\">\n",
              "      <th></th>\n",
              "      <th>sepal_length</th>\n",
              "      <th>sepal_width</th>\n",
              "      <th>petal_length</th>\n",
              "      <th>petal_width</th>\n",
              "    </tr>\n",
              "  </thead>\n",
              "  <tbody>\n",
              "    <tr>\n",
              "      <th>count</th>\n",
              "      <td>150.000000</td>\n",
              "      <td>150.000000</td>\n",
              "      <td>150.000000</td>\n",
              "      <td>150.000000</td>\n",
              "    </tr>\n",
              "    <tr>\n",
              "      <th>mean</th>\n",
              "      <td>5.843333</td>\n",
              "      <td>3.054000</td>\n",
              "      <td>3.758667</td>\n",
              "      <td>1.198667</td>\n",
              "    </tr>\n",
              "    <tr>\n",
              "      <th>std</th>\n",
              "      <td>0.828066</td>\n",
              "      <td>0.433594</td>\n",
              "      <td>1.764420</td>\n",
              "      <td>0.763161</td>\n",
              "    </tr>\n",
              "    <tr>\n",
              "      <th>min</th>\n",
              "      <td>4.300000</td>\n",
              "      <td>2.000000</td>\n",
              "      <td>1.000000</td>\n",
              "      <td>0.100000</td>\n",
              "    </tr>\n",
              "    <tr>\n",
              "      <th>25%</th>\n",
              "      <td>5.100000</td>\n",
              "      <td>2.800000</td>\n",
              "      <td>1.600000</td>\n",
              "      <td>0.300000</td>\n",
              "    </tr>\n",
              "    <tr>\n",
              "      <th>50%</th>\n",
              "      <td>5.800000</td>\n",
              "      <td>3.000000</td>\n",
              "      <td>4.350000</td>\n",
              "      <td>1.300000</td>\n",
              "    </tr>\n",
              "    <tr>\n",
              "      <th>75%</th>\n",
              "      <td>6.400000</td>\n",
              "      <td>3.300000</td>\n",
              "      <td>5.100000</td>\n",
              "      <td>1.800000</td>\n",
              "    </tr>\n",
              "    <tr>\n",
              "      <th>max</th>\n",
              "      <td>7.900000</td>\n",
              "      <td>4.400000</td>\n",
              "      <td>6.900000</td>\n",
              "      <td>2.500000</td>\n",
              "    </tr>\n",
              "  </tbody>\n",
              "</table>\n",
              "</div>"
            ],
            "text/plain": [
              "       sepal_length  sepal_width  petal_length  petal_width\n",
              "count    150.000000   150.000000    150.000000   150.000000\n",
              "mean       5.843333     3.054000      3.758667     1.198667\n",
              "std        0.828066     0.433594      1.764420     0.763161\n",
              "min        4.300000     2.000000      1.000000     0.100000\n",
              "25%        5.100000     2.800000      1.600000     0.300000\n",
              "50%        5.800000     3.000000      4.350000     1.300000\n",
              "75%        6.400000     3.300000      5.100000     1.800000\n",
              "max        7.900000     4.400000      6.900000     2.500000"
            ]
          },
          "metadata": {
            "tags": []
          },
          "execution_count": 208
        }
      ]
    },
    {
      "cell_type": "code",
      "metadata": {
        "id": "ZSo9OXuhflty",
        "colab_type": "code",
        "colab": {
          "base_uri": "https://localhost:8080/",
          "height": 187
        },
        "outputId": "ff43f40e-b864-48ca-fc18-6ea5a4c8d426"
      },
      "source": [
        "df.info()"
      ],
      "execution_count": 209,
      "outputs": [
        {
          "output_type": "stream",
          "text": [
            "<class 'pandas.core.frame.DataFrame'>\n",
            "RangeIndex: 150 entries, 0 to 149\n",
            "Data columns (total 5 columns):\n",
            "sepal_length    150 non-null float64\n",
            "sepal_width     150 non-null float64\n",
            "petal_length    150 non-null float64\n",
            "petal_width     150 non-null float64\n",
            "species         150 non-null object\n",
            "dtypes: float64(4), object(1)\n",
            "memory usage: 6.0+ KB\n"
          ],
          "name": "stdout"
        }
      ]
    },
    {
      "cell_type": "code",
      "metadata": {
        "id": "io9qMVgmfnx7",
        "colab_type": "code",
        "colab": {}
      },
      "source": [
        "from sklearn.utils import shuffle\n",
        "shuffleData = shuffle(df)"
      ],
      "execution_count": 0,
      "outputs": []
    },
    {
      "cell_type": "code",
      "metadata": {
        "id": "2bsWsf0lf-wY",
        "colab_type": "code",
        "colab": {
          "base_uri": "https://localhost:8080/",
          "height": 359
        },
        "outputId": "a94c6fb3-fe62-492b-9f6d-6767d9b3d469"
      },
      "source": [
        "shuffleData.head(10)"
      ],
      "execution_count": 211,
      "outputs": [
        {
          "output_type": "execute_result",
          "data": {
            "text/html": [
              "<div>\n",
              "<style scoped>\n",
              "    .dataframe tbody tr th:only-of-type {\n",
              "        vertical-align: middle;\n",
              "    }\n",
              "\n",
              "    .dataframe tbody tr th {\n",
              "        vertical-align: top;\n",
              "    }\n",
              "\n",
              "    .dataframe thead th {\n",
              "        text-align: right;\n",
              "    }\n",
              "</style>\n",
              "<table border=\"1\" class=\"dataframe\">\n",
              "  <thead>\n",
              "    <tr style=\"text-align: right;\">\n",
              "      <th></th>\n",
              "      <th>sepal_length</th>\n",
              "      <th>sepal_width</th>\n",
              "      <th>petal_length</th>\n",
              "      <th>petal_width</th>\n",
              "      <th>species</th>\n",
              "    </tr>\n",
              "  </thead>\n",
              "  <tbody>\n",
              "    <tr>\n",
              "      <th>135</th>\n",
              "      <td>7.7</td>\n",
              "      <td>3.0</td>\n",
              "      <td>6.1</td>\n",
              "      <td>2.3</td>\n",
              "      <td>Iris-virginica</td>\n",
              "    </tr>\n",
              "    <tr>\n",
              "      <th>149</th>\n",
              "      <td>5.9</td>\n",
              "      <td>3.0</td>\n",
              "      <td>5.1</td>\n",
              "      <td>1.8</td>\n",
              "      <td>Iris-virginica</td>\n",
              "    </tr>\n",
              "    <tr>\n",
              "      <th>10</th>\n",
              "      <td>5.4</td>\n",
              "      <td>3.7</td>\n",
              "      <td>1.5</td>\n",
              "      <td>0.2</td>\n",
              "      <td>Iris-setosa</td>\n",
              "    </tr>\n",
              "    <tr>\n",
              "      <th>7</th>\n",
              "      <td>5.0</td>\n",
              "      <td>3.4</td>\n",
              "      <td>1.5</td>\n",
              "      <td>0.2</td>\n",
              "      <td>Iris-setosa</td>\n",
              "    </tr>\n",
              "    <tr>\n",
              "      <th>77</th>\n",
              "      <td>6.7</td>\n",
              "      <td>3.0</td>\n",
              "      <td>5.0</td>\n",
              "      <td>1.7</td>\n",
              "      <td>Iris-versicolor</td>\n",
              "    </tr>\n",
              "    <tr>\n",
              "      <th>67</th>\n",
              "      <td>5.8</td>\n",
              "      <td>2.7</td>\n",
              "      <td>4.1</td>\n",
              "      <td>1.0</td>\n",
              "      <td>Iris-versicolor</td>\n",
              "    </tr>\n",
              "    <tr>\n",
              "      <th>49</th>\n",
              "      <td>5.0</td>\n",
              "      <td>3.3</td>\n",
              "      <td>1.4</td>\n",
              "      <td>0.2</td>\n",
              "      <td>Iris-setosa</td>\n",
              "    </tr>\n",
              "    <tr>\n",
              "      <th>69</th>\n",
              "      <td>5.6</td>\n",
              "      <td>2.5</td>\n",
              "      <td>3.9</td>\n",
              "      <td>1.1</td>\n",
              "      <td>Iris-versicolor</td>\n",
              "    </tr>\n",
              "    <tr>\n",
              "      <th>142</th>\n",
              "      <td>5.8</td>\n",
              "      <td>2.7</td>\n",
              "      <td>5.1</td>\n",
              "      <td>1.9</td>\n",
              "      <td>Iris-virginica</td>\n",
              "    </tr>\n",
              "    <tr>\n",
              "      <th>119</th>\n",
              "      <td>6.0</td>\n",
              "      <td>2.2</td>\n",
              "      <td>5.0</td>\n",
              "      <td>1.5</td>\n",
              "      <td>Iris-virginica</td>\n",
              "    </tr>\n",
              "  </tbody>\n",
              "</table>\n",
              "</div>"
            ],
            "text/plain": [
              "     sepal_length  sepal_width  petal_length  petal_width          species\n",
              "135           7.7          3.0           6.1          2.3   Iris-virginica\n",
              "149           5.9          3.0           5.1          1.8   Iris-virginica\n",
              "10            5.4          3.7           1.5          0.2      Iris-setosa\n",
              "7             5.0          3.4           1.5          0.2      Iris-setosa\n",
              "77            6.7          3.0           5.0          1.7  Iris-versicolor\n",
              "67            5.8          2.7           4.1          1.0  Iris-versicolor\n",
              "49            5.0          3.3           1.4          0.2      Iris-setosa\n",
              "69            5.6          2.5           3.9          1.1  Iris-versicolor\n",
              "142           5.8          2.7           5.1          1.9   Iris-virginica\n",
              "119           6.0          2.2           5.0          1.5   Iris-virginica"
            ]
          },
          "metadata": {
            "tags": []
          },
          "execution_count": 211
        }
      ]
    },
    {
      "cell_type": "code",
      "metadata": {
        "id": "0E_zX50Wgh_1",
        "colab_type": "code",
        "colab": {
          "base_uri": "https://localhost:8080/",
          "height": 34
        },
        "outputId": "5a4f6612-d15f-4741-e891-63efed4d3cd7"
      },
      "source": [
        "shuffleData.species.unique()"
      ],
      "execution_count": 212,
      "outputs": [
        {
          "output_type": "execute_result",
          "data": {
            "text/plain": [
              "array(['Iris-virginica', 'Iris-setosa', 'Iris-versicolor'], dtype=object)"
            ]
          },
          "metadata": {
            "tags": []
          },
          "execution_count": 212
        }
      ]
    },
    {
      "cell_type": "code",
      "metadata": {
        "id": "dQurqqcQg6WJ",
        "colab_type": "code",
        "colab": {}
      },
      "source": [
        "shuffleData[shuffleData.species == \"Iris-setosa\"]=0"
      ],
      "execution_count": 0,
      "outputs": []
    },
    {
      "cell_type": "code",
      "metadata": {
        "id": "bcYkmN1mht7Y",
        "colab_type": "code",
        "colab": {
          "base_uri": "https://localhost:8080/",
          "height": 34
        },
        "outputId": "ed99519e-7089-4fcf-feeb-b56f6457198b"
      },
      "source": [
        "shuffleData.species.unique()"
      ],
      "execution_count": 214,
      "outputs": [
        {
          "output_type": "execute_result",
          "data": {
            "text/plain": [
              "array(['Iris-virginica', 0, 'Iris-versicolor'], dtype=object)"
            ]
          },
          "metadata": {
            "tags": []
          },
          "execution_count": 214
        }
      ]
    },
    {
      "cell_type": "code",
      "metadata": {
        "id": "1vPxbDTshKgH",
        "colab_type": "code",
        "colab": {}
      },
      "source": [
        "shuffleData[shuffleData.species == \"Iris-versicolor\"]=1"
      ],
      "execution_count": 0,
      "outputs": []
    },
    {
      "cell_type": "code",
      "metadata": {
        "id": "UHjgYXiOhob3",
        "colab_type": "code",
        "colab": {}
      },
      "source": [
        "shuffleData[shuffleData.species == \"Iris-virginica\"]=2"
      ],
      "execution_count": 0,
      "outputs": []
    },
    {
      "cell_type": "code",
      "metadata": {
        "id": "dll_5TqRh-Y4",
        "colab_type": "code",
        "colab": {
          "base_uri": "https://localhost:8080/",
          "height": 34
        },
        "outputId": "4a573bb1-4f33-4e83-d33c-9e376ca968ee"
      },
      "source": [
        "shuffleData.species.unique()"
      ],
      "execution_count": 217,
      "outputs": [
        {
          "output_type": "execute_result",
          "data": {
            "text/plain": [
              "array([2, 0, 1])"
            ]
          },
          "metadata": {
            "tags": []
          },
          "execution_count": 217
        }
      ]
    },
    {
      "cell_type": "code",
      "metadata": {
        "id": "WDovtayciCmp",
        "colab_type": "code",
        "colab": {
          "base_uri": "https://localhost:8080/",
          "height": 34
        },
        "outputId": "a9da00e4-2ac1-4f50-8949-128402ea140c"
      },
      "source": [
        "shuffleData.shape"
      ],
      "execution_count": 218,
      "outputs": [
        {
          "output_type": "execute_result",
          "data": {
            "text/plain": [
              "(150, 5)"
            ]
          },
          "metadata": {
            "tags": []
          },
          "execution_count": 218
        }
      ]
    },
    {
      "cell_type": "code",
      "metadata": {
        "id": "cbDICqxCiKQv",
        "colab_type": "code",
        "colab": {}
      },
      "source": [
        "train_x = shuffleData.iloc[:120,:4]"
      ],
      "execution_count": 0,
      "outputs": []
    },
    {
      "cell_type": "code",
      "metadata": {
        "id": "uBptG-AmiX3w",
        "colab_type": "code",
        "colab": {
          "base_uri": "https://localhost:8080/",
          "height": 204
        },
        "outputId": "c8add785-79b7-41e0-ebf3-a4f870f732d5"
      },
      "source": [
        "train_x.head()"
      ],
      "execution_count": 220,
      "outputs": [
        {
          "output_type": "execute_result",
          "data": {
            "text/html": [
              "<div>\n",
              "<style scoped>\n",
              "    .dataframe tbody tr th:only-of-type {\n",
              "        vertical-align: middle;\n",
              "    }\n",
              "\n",
              "    .dataframe tbody tr th {\n",
              "        vertical-align: top;\n",
              "    }\n",
              "\n",
              "    .dataframe thead th {\n",
              "        text-align: right;\n",
              "    }\n",
              "</style>\n",
              "<table border=\"1\" class=\"dataframe\">\n",
              "  <thead>\n",
              "    <tr style=\"text-align: right;\">\n",
              "      <th></th>\n",
              "      <th>sepal_length</th>\n",
              "      <th>sepal_width</th>\n",
              "      <th>petal_length</th>\n",
              "      <th>petal_width</th>\n",
              "    </tr>\n",
              "  </thead>\n",
              "  <tbody>\n",
              "    <tr>\n",
              "      <th>135</th>\n",
              "      <td>2.0</td>\n",
              "      <td>2.0</td>\n",
              "      <td>2.0</td>\n",
              "      <td>2.0</td>\n",
              "    </tr>\n",
              "    <tr>\n",
              "      <th>149</th>\n",
              "      <td>2.0</td>\n",
              "      <td>2.0</td>\n",
              "      <td>2.0</td>\n",
              "      <td>2.0</td>\n",
              "    </tr>\n",
              "    <tr>\n",
              "      <th>10</th>\n",
              "      <td>0.0</td>\n",
              "      <td>0.0</td>\n",
              "      <td>0.0</td>\n",
              "      <td>0.0</td>\n",
              "    </tr>\n",
              "    <tr>\n",
              "      <th>7</th>\n",
              "      <td>0.0</td>\n",
              "      <td>0.0</td>\n",
              "      <td>0.0</td>\n",
              "      <td>0.0</td>\n",
              "    </tr>\n",
              "    <tr>\n",
              "      <th>77</th>\n",
              "      <td>1.0</td>\n",
              "      <td>1.0</td>\n",
              "      <td>1.0</td>\n",
              "      <td>1.0</td>\n",
              "    </tr>\n",
              "  </tbody>\n",
              "</table>\n",
              "</div>"
            ],
            "text/plain": [
              "     sepal_length  sepal_width  petal_length  petal_width\n",
              "135           2.0          2.0           2.0          2.0\n",
              "149           2.0          2.0           2.0          2.0\n",
              "10            0.0          0.0           0.0          0.0\n",
              "7             0.0          0.0           0.0          0.0\n",
              "77            1.0          1.0           1.0          1.0"
            ]
          },
          "metadata": {
            "tags": []
          },
          "execution_count": 220
        }
      ]
    },
    {
      "cell_type": "code",
      "metadata": {
        "id": "Rg9hqL-biaWr",
        "colab_type": "code",
        "colab": {}
      },
      "source": [
        "train_y = shuffleData.iloc[:120,4]"
      ],
      "execution_count": 0,
      "outputs": []
    },
    {
      "cell_type": "code",
      "metadata": {
        "id": "ONyLU8Jxij5s",
        "colab_type": "code",
        "colab": {
          "base_uri": "https://localhost:8080/",
          "height": 221
        },
        "outputId": "d2049a68-39bb-4e2f-a675-f8dcc331e791"
      },
      "source": [
        "train_y"
      ],
      "execution_count": 222,
      "outputs": [
        {
          "output_type": "execute_result",
          "data": {
            "text/plain": [
              "135    2\n",
              "149    2\n",
              "10     0\n",
              "7      0\n",
              "77     1\n",
              "      ..\n",
              "120    2\n",
              "38     0\n",
              "134    2\n",
              "40     0\n",
              "107    2\n",
              "Name: species, Length: 120, dtype: int64"
            ]
          },
          "metadata": {
            "tags": []
          },
          "execution_count": 222
        }
      ]
    },
    {
      "cell_type": "code",
      "metadata": {
        "id": "B3-DawWoik3q",
        "colab_type": "code",
        "colab": {}
      },
      "source": [
        "test_x = shuffleData.iloc[120:,:4]"
      ],
      "execution_count": 0,
      "outputs": []
    },
    {
      "cell_type": "code",
      "metadata": {
        "id": "KrB_3iaRis8o",
        "colab_type": "code",
        "colab": {}
      },
      "source": [
        "test_y = shuffleData.iloc[120:,4]"
      ],
      "execution_count": 0,
      "outputs": []
    },
    {
      "cell_type": "code",
      "metadata": {
        "id": "jLfSW_7nixl9",
        "colab_type": "code",
        "colab": {
          "base_uri": "https://localhost:8080/",
          "height": 34
        },
        "outputId": "2c483223-1533-4cff-cfdb-43925910ce9d"
      },
      "source": [
        "train_x.shape,train_y.shape,test_x.shape,test_y.shape"
      ],
      "execution_count": 225,
      "outputs": [
        {
          "output_type": "execute_result",
          "data": {
            "text/plain": [
              "((120, 4), (120,), (30, 4), (30,))"
            ]
          },
          "metadata": {
            "tags": []
          },
          "execution_count": 225
        }
      ]
    },
    {
      "cell_type": "code",
      "metadata": {
        "id": "KLGPp9u_i6GW",
        "colab_type": "code",
        "colab": {}
      },
      "source": [
        "train_x = train_x.values"
      ],
      "execution_count": 0,
      "outputs": []
    },
    {
      "cell_type": "code",
      "metadata": {
        "id": "wA9a7mXxjI8n",
        "colab_type": "code",
        "colab": {}
      },
      "source": [
        "\n",
        "test_x = test_x.values"
      ],
      "execution_count": 0,
      "outputs": []
    },
    {
      "cell_type": "code",
      "metadata": {
        "id": "3BN8P_HkjQTL",
        "colab_type": "code",
        "colab": {}
      },
      "source": [
        "from tensorflow.keras import models,layers"
      ],
      "execution_count": 0,
      "outputs": []
    },
    {
      "cell_type": "code",
      "metadata": {
        "id": "suRMfbOjjduP",
        "colab_type": "code",
        "colab": {}
      },
      "source": [
        "def buildModel():\n",
        "  model = models.Sequential()\n",
        "  model.add(layers.Dense(50,activation=\"relu\"))\n",
        "  model.add(layers.Dense(3,activation=\"softmax\"))\n",
        "  model.compile(optimizer=\"rmsprop\",loss=\"categorical_crossentropy\",metrics=['accuracy'])\n",
        "  return model"
      ],
      "execution_count": 0,
      "outputs": []
    },
    {
      "cell_type": "code",
      "metadata": {
        "id": "NF1inz4skJNp",
        "colab_type": "code",
        "colab": {}
      },
      "source": [
        "model = buildModel()"
      ],
      "execution_count": 0,
      "outputs": []
    },
    {
      "cell_type": "code",
      "metadata": {
        "id": "jpwypx0mlsv6",
        "colab_type": "code",
        "colab": {}
      },
      "source": [
        "train_y = train_y.values\n",
        "test_y = test_y.values"
      ],
      "execution_count": 0,
      "outputs": []
    },
    {
      "cell_type": "code",
      "metadata": {
        "id": "u-UKg-aokRbS",
        "colab_type": "code",
        "colab": {}
      },
      "source": [
        "from tensorflow.keras.utils import to_categorical"
      ],
      "execution_count": 0,
      "outputs": []
    },
    {
      "cell_type": "code",
      "metadata": {
        "id": "ayBrr5Hwkd-4",
        "colab_type": "code",
        "colab": {}
      },
      "source": [
        "train_labels = to_categorical(train_y)\n",
        "test_labels = to_categorical(test_y)"
      ],
      "execution_count": 0,
      "outputs": []
    },
    {
      "cell_type": "code",
      "metadata": {
        "id": "N8uP40lokqEr",
        "colab_type": "code",
        "colab": {
          "base_uri": "https://localhost:8080/",
          "height": 1000
        },
        "outputId": "7b17e5ff-d144-4f18-dd81-44b0cb551da2"
      },
      "source": [
        "model.fit(train_x,train_labels,epochs=60)"
      ],
      "execution_count": 234,
      "outputs": [
        {
          "output_type": "stream",
          "text": [
            "Train on 120 samples\n",
            "Epoch 1/60\n",
            "120/120 [==============================] - 0s 3ms/sample - loss: 1.1762 - accuracy: 0.4000\n",
            "Epoch 2/60\n",
            "120/120 [==============================] - 0s 99us/sample - loss: 1.0756 - accuracy: 0.2667\n",
            "Epoch 3/60\n",
            "120/120 [==============================] - 0s 122us/sample - loss: 1.0221 - accuracy: 0.3500\n",
            "Epoch 4/60\n",
            "120/120 [==============================] - 0s 89us/sample - loss: 0.9848 - accuracy: 0.3500\n",
            "Epoch 5/60\n",
            "120/120 [==============================] - 0s 105us/sample - loss: 0.9573 - accuracy: 0.4583\n",
            "Epoch 6/60\n",
            "120/120 [==============================] - 0s 121us/sample - loss: 0.9342 - accuracy: 0.6750\n",
            "Epoch 7/60\n",
            "120/120 [==============================] - 0s 104us/sample - loss: 0.9155 - accuracy: 0.6750\n",
            "Epoch 8/60\n",
            "120/120 [==============================] - 0s 140us/sample - loss: 0.9000 - accuracy: 0.6750\n",
            "Epoch 9/60\n",
            "120/120 [==============================] - 0s 113us/sample - loss: 0.8870 - accuracy: 0.6750\n",
            "Epoch 10/60\n",
            "120/120 [==============================] - 0s 111us/sample - loss: 0.8711 - accuracy: 0.6750\n",
            "Epoch 11/60\n",
            "120/120 [==============================] - 0s 130us/sample - loss: 0.8624 - accuracy: 0.6750\n",
            "Epoch 12/60\n",
            "120/120 [==============================] - 0s 100us/sample - loss: 0.8490 - accuracy: 0.6750\n",
            "Epoch 13/60\n",
            "120/120 [==============================] - 0s 100us/sample - loss: 0.8394 - accuracy: 0.6750\n",
            "Epoch 14/60\n",
            "120/120 [==============================] - 0s 111us/sample - loss: 0.8306 - accuracy: 0.6750\n",
            "Epoch 15/60\n",
            "120/120 [==============================] - 0s 147us/sample - loss: 0.8232 - accuracy: 0.6750\n",
            "Epoch 16/60\n",
            "120/120 [==============================] - 0s 117us/sample - loss: 0.8151 - accuracy: 0.6750\n",
            "Epoch 17/60\n",
            "120/120 [==============================] - 0s 122us/sample - loss: 0.8057 - accuracy: 0.6750\n",
            "Epoch 18/60\n",
            "120/120 [==============================] - 0s 114us/sample - loss: 0.7995 - accuracy: 0.6750\n",
            "Epoch 19/60\n",
            "120/120 [==============================] - 0s 118us/sample - loss: 0.7918 - accuracy: 0.6750\n",
            "Epoch 20/60\n",
            "120/120 [==============================] - 0s 104us/sample - loss: 0.7854 - accuracy: 0.6750\n",
            "Epoch 21/60\n",
            "120/120 [==============================] - 0s 131us/sample - loss: 0.7796 - accuracy: 0.6750\n",
            "Epoch 22/60\n",
            "120/120 [==============================] - 0s 108us/sample - loss: 0.7731 - accuracy: 0.6750\n",
            "Epoch 23/60\n",
            "120/120 [==============================] - 0s 130us/sample - loss: 0.7693 - accuracy: 0.6750\n",
            "Epoch 24/60\n",
            "120/120 [==============================] - 0s 96us/sample - loss: 0.7621 - accuracy: 0.6750\n",
            "Epoch 25/60\n",
            "120/120 [==============================] - 0s 89us/sample - loss: 0.7576 - accuracy: 0.6750\n",
            "Epoch 26/60\n",
            "120/120 [==============================] - 0s 114us/sample - loss: 0.7516 - accuracy: 0.6750\n",
            "Epoch 27/60\n",
            "120/120 [==============================] - 0s 146us/sample - loss: 0.7474 - accuracy: 0.6750\n",
            "Epoch 28/60\n",
            "120/120 [==============================] - 0s 102us/sample - loss: 0.7435 - accuracy: 0.6750\n",
            "Epoch 29/60\n",
            "120/120 [==============================] - 0s 109us/sample - loss: 0.7381 - accuracy: 0.6750\n",
            "Epoch 30/60\n",
            "120/120 [==============================] - 0s 98us/sample - loss: 0.7327 - accuracy: 0.6750\n",
            "Epoch 31/60\n",
            "120/120 [==============================] - 0s 95us/sample - loss: 0.7278 - accuracy: 0.6750\n",
            "Epoch 32/60\n",
            "120/120 [==============================] - 0s 94us/sample - loss: 0.7232 - accuracy: 0.6750\n",
            "Epoch 33/60\n",
            "120/120 [==============================] - 0s 104us/sample - loss: 0.7198 - accuracy: 0.6750\n",
            "Epoch 34/60\n",
            "120/120 [==============================] - 0s 124us/sample - loss: 0.7134 - accuracy: 0.6750\n",
            "Epoch 35/60\n",
            "120/120 [==============================] - 0s 119us/sample - loss: 0.7110 - accuracy: 0.6750\n",
            "Epoch 36/60\n",
            "120/120 [==============================] - 0s 112us/sample - loss: 0.7060 - accuracy: 0.6750\n",
            "Epoch 37/60\n",
            "120/120 [==============================] - 0s 117us/sample - loss: 0.6998 - accuracy: 0.6750\n",
            "Epoch 38/60\n",
            "120/120 [==============================] - 0s 117us/sample - loss: 0.6954 - accuracy: 0.6750\n",
            "Epoch 39/60\n",
            "120/120 [==============================] - 0s 129us/sample - loss: 0.6907 - accuracy: 0.6750\n",
            "Epoch 40/60\n",
            "120/120 [==============================] - 0s 105us/sample - loss: 0.6871 - accuracy: 0.6750\n",
            "Epoch 41/60\n",
            "120/120 [==============================] - 0s 114us/sample - loss: 0.6817 - accuracy: 0.6750\n",
            "Epoch 42/60\n",
            "120/120 [==============================] - 0s 120us/sample - loss: 0.6769 - accuracy: 0.6750\n",
            "Epoch 43/60\n",
            "120/120 [==============================] - 0s 128us/sample - loss: 0.6718 - accuracy: 0.6750\n",
            "Epoch 44/60\n",
            "120/120 [==============================] - 0s 113us/sample - loss: 0.6672 - accuracy: 0.6750\n",
            "Epoch 45/60\n",
            "120/120 [==============================] - 0s 116us/sample - loss: 0.6635 - accuracy: 0.6750\n",
            "Epoch 46/60\n",
            "120/120 [==============================] - 0s 109us/sample - loss: 0.6592 - accuracy: 0.6750\n",
            "Epoch 47/60\n",
            "120/120 [==============================] - 0s 110us/sample - loss: 0.6546 - accuracy: 0.6750\n",
            "Epoch 48/60\n",
            "120/120 [==============================] - 0s 118us/sample - loss: 0.6495 - accuracy: 0.6750\n",
            "Epoch 49/60\n",
            "120/120 [==============================] - 0s 117us/sample - loss: 0.6446 - accuracy: 0.6750\n",
            "Epoch 50/60\n",
            "120/120 [==============================] - 0s 139us/sample - loss: 0.6406 - accuracy: 0.6750\n",
            "Epoch 51/60\n",
            "120/120 [==============================] - 0s 117us/sample - loss: 0.6381 - accuracy: 0.7083\n",
            "Epoch 52/60\n",
            "120/120 [==============================] - 0s 162us/sample - loss: 0.6319 - accuracy: 0.6750\n",
            "Epoch 53/60\n",
            "120/120 [==============================] - 0s 94us/sample - loss: 0.6267 - accuracy: 0.7583\n",
            "Epoch 54/60\n",
            "120/120 [==============================] - 0s 90us/sample - loss: 0.6253 - accuracy: 0.8167\n",
            "Epoch 55/60\n",
            "120/120 [==============================] - 0s 105us/sample - loss: 0.6190 - accuracy: 0.6750\n",
            "Epoch 56/60\n",
            "120/120 [==============================] - 0s 129us/sample - loss: 0.6133 - accuracy: 0.9167\n",
            "Epoch 57/60\n",
            "120/120 [==============================] - 0s 112us/sample - loss: 0.6084 - accuracy: 1.0000\n",
            "Epoch 58/60\n",
            "120/120 [==============================] - 0s 103us/sample - loss: 0.6037 - accuracy: 1.0000\n",
            "Epoch 59/60\n",
            "120/120 [==============================] - 0s 98us/sample - loss: 0.5987 - accuracy: 1.0000\n",
            "Epoch 60/60\n",
            "120/120 [==============================] - 0s 89us/sample - loss: 0.5977 - accuracy: 0.8750\n"
          ],
          "name": "stdout"
        },
        {
          "output_type": "execute_result",
          "data": {
            "text/plain": [
              "<tensorflow.python.keras.callbacks.History at 0x7fb140225748>"
            ]
          },
          "metadata": {
            "tags": []
          },
          "execution_count": 234
        }
      ]
    },
    {
      "cell_type": "code",
      "metadata": {
        "id": "u3DJLQ-0k1dv",
        "colab_type": "code",
        "colab": {
          "base_uri": "https://localhost:8080/",
          "height": 34
        },
        "outputId": "5018dff8-e32c-4be2-a4ef-b3fd9716418e"
      },
      "source": [
        "test_loss, test_acc = model.evaluate(test_x,test_labels)"
      ],
      "execution_count": 235,
      "outputs": [
        {
          "output_type": "stream",
          "text": [
            "\r30/30 [==============================] - 0s 3ms/sample - loss: 0.6355 - accuracy: 1.0000\n"
          ],
          "name": "stdout"
        }
      ]
    },
    {
      "cell_type": "code",
      "metadata": {
        "id": "amSSq-tInshy",
        "colab_type": "code",
        "colab": {
          "base_uri": "https://localhost:8080/",
          "height": 34
        },
        "outputId": "4468d093-7ad4-406c-df47-907beb72ab56"
      },
      "source": [
        "df.species.unique()"
      ],
      "execution_count": 237,
      "outputs": [
        {
          "output_type": "execute_result",
          "data": {
            "text/plain": [
              "array(['Iris-setosa', 'Iris-versicolor', 'Iris-virginica'], dtype=object)"
            ]
          },
          "metadata": {
            "tags": []
          },
          "execution_count": 237
        }
      ]
    },
    {
      "cell_type": "code",
      "metadata": {
        "id": "D7GLsd0mlePb",
        "colab_type": "code",
        "colab": {}
      },
      "source": [
        "predict = model.predict(test_x)"
      ],
      "execution_count": 0,
      "outputs": []
    },
    {
      "cell_type": "code",
      "metadata": {
        "id": "Ix3ROqpwnMWR",
        "colab_type": "code",
        "colab": {}
      },
      "source": [
        "def prediction(value):\n",
        "  if value.argmax()==0:\n",
        "    pred = 'Iris-setosa'\n",
        "  elif value.argmax() ==1:\n",
        "    pred = \"Iris-versicolor\"\n",
        "  else:\n",
        "    pred = \"Iris-virginica\" \n",
        "  return pred   "
      ],
      "execution_count": 0,
      "outputs": []
    },
    {
      "cell_type": "code",
      "metadata": {
        "id": "2QPcLwYxn2e9",
        "colab_type": "code",
        "colab": {}
      },
      "source": [
        "predicted = []\n",
        "for i in range(len(predict)):\n",
        "  a = prediction(predict[i])\n",
        "  predicted.append(a)"
      ],
      "execution_count": 0,
      "outputs": []
    },
    {
      "cell_type": "code",
      "metadata": {
        "id": "fwAZij5ZoSOC",
        "colab_type": "code",
        "colab": {
          "base_uri": "https://localhost:8080/",
          "height": 561
        },
        "outputId": "d5588cfd-6899-4811-f14f-7341b172eac1"
      },
      "source": [
        "predicted,test_y"
      ],
      "execution_count": 243,
      "outputs": [
        {
          "output_type": "execute_result",
          "data": {
            "text/plain": [
              "(['Iris-virginica',\n",
              "  'Iris-setosa',\n",
              "  'Iris-versicolor',\n",
              "  'Iris-setosa',\n",
              "  'Iris-setosa',\n",
              "  'Iris-setosa',\n",
              "  'Iris-versicolor',\n",
              "  'Iris-versicolor',\n",
              "  'Iris-setosa',\n",
              "  'Iris-virginica',\n",
              "  'Iris-setosa',\n",
              "  'Iris-versicolor',\n",
              "  'Iris-virginica',\n",
              "  'Iris-virginica',\n",
              "  'Iris-setosa',\n",
              "  'Iris-versicolor',\n",
              "  'Iris-virginica',\n",
              "  'Iris-virginica',\n",
              "  'Iris-setosa',\n",
              "  'Iris-versicolor',\n",
              "  'Iris-virginica',\n",
              "  'Iris-versicolor',\n",
              "  'Iris-setosa',\n",
              "  'Iris-versicolor',\n",
              "  'Iris-versicolor',\n",
              "  'Iris-versicolor',\n",
              "  'Iris-virginica',\n",
              "  'Iris-setosa',\n",
              "  'Iris-setosa',\n",
              "  'Iris-versicolor'],\n",
              " array([2, 0, 1, 0, 0, 0, 1, 1, 0, 2, 0, 1, 2, 2, 0, 1, 2, 2, 0, 1, 2, 1,\n",
              "        0, 1, 1, 1, 2, 0, 0, 1]))"
            ]
          },
          "metadata": {
            "tags": []
          },
          "execution_count": 243
        }
      ]
    },
    {
      "cell_type": "code",
      "metadata": {
        "id": "UOtvLzSTrlNX",
        "colab_type": "code",
        "colab": {
          "base_uri": "https://localhost:8080/",
          "height": 527
        },
        "outputId": "f68d58cf-3b7f-45c4-e6f8-b4a873534d26"
      },
      "source": [
        "test_x"
      ],
      "execution_count": 273,
      "outputs": [
        {
          "output_type": "execute_result",
          "data": {
            "text/plain": [
              "array([[2., 2., 2., 2.],\n",
              "       [0., 0., 0., 0.],\n",
              "       [1., 1., 1., 1.],\n",
              "       [0., 0., 0., 0.],\n",
              "       [0., 0., 0., 0.],\n",
              "       [0., 0., 0., 0.],\n",
              "       [1., 1., 1., 1.],\n",
              "       [1., 1., 1., 1.],\n",
              "       [0., 0., 0., 0.],\n",
              "       [2., 2., 2., 2.],\n",
              "       [0., 0., 0., 0.],\n",
              "       [1., 1., 1., 1.],\n",
              "       [2., 2., 2., 2.],\n",
              "       [2., 2., 2., 2.],\n",
              "       [0., 0., 0., 0.],\n",
              "       [1., 1., 1., 1.],\n",
              "       [2., 2., 2., 2.],\n",
              "       [2., 2., 2., 2.],\n",
              "       [0., 0., 0., 0.],\n",
              "       [1., 1., 1., 1.],\n",
              "       [2., 2., 2., 2.],\n",
              "       [1., 1., 1., 1.],\n",
              "       [0., 0., 0., 0.],\n",
              "       [1., 1., 1., 1.],\n",
              "       [1., 1., 1., 1.],\n",
              "       [1., 1., 1., 1.],\n",
              "       [2., 2., 2., 2.],\n",
              "       [0., 0., 0., 0.],\n",
              "       [0., 0., 0., 0.],\n",
              "       [1., 1., 1., 1.]])"
            ]
          },
          "metadata": {
            "tags": []
          },
          "execution_count": 273
        }
      ]
    },
    {
      "cell_type": "code",
      "metadata": {
        "id": "-A8KbIGMoZrr",
        "colab_type": "code",
        "colab": {}
      },
      "source": [
        "import csv\n",
        "with open(\"test_Data.csv\",\"w+\") as f:\n",
        "  write = csv.writer(f)\n",
        "  write.writerow([\"Species\"])\n",
        "  for i in range(len(predicted)):\n",
        "    write.writerow([predicted[i]])"
      ],
      "execution_count": 0,
      "outputs": []
    },
    {
      "cell_type": "code",
      "metadata": {
        "id": "9NQhzWr2pF4Y",
        "colab_type": "code",
        "colab": {}
      },
      "source": [
        "df1 = pd.read_csv(\"test_Data.csv\")"
      ],
      "execution_count": 0,
      "outputs": []
    },
    {
      "cell_type": "code",
      "metadata": {
        "id": "xyRxmha7pR1i",
        "colab_type": "code",
        "colab": {}
      },
      "source": [
        "import csv\n",
        "with open(\"test_Data_Inputs.csv\",\"w+\") as f:\n",
        "  write = csv.writer(f)\n",
        "  write.writerow(['sepal_length','sepal_width',\"petal_length\",\"petal_width\"])\n",
        "  for i in range(len(test_x)):\n",
        "    write.writerows([test_x[i]])"
      ],
      "execution_count": 0,
      "outputs": []
    },
    {
      "cell_type": "code",
      "metadata": {
        "id": "1t0JbnPopU7K",
        "colab_type": "code",
        "colab": {}
      },
      "source": [
        "df2 = pd.read_csv(\"test_Data_Inputs.csv\")"
      ],
      "execution_count": 0,
      "outputs": []
    },
    {
      "cell_type": "code",
      "metadata": {
        "id": "n7o5Q1PzrZMX",
        "colab_type": "code",
        "colab": {
          "base_uri": "https://localhost:8080/",
          "height": 204
        },
        "outputId": "11fde80d-961f-4e17-8c81-82a8e2314f6d"
      },
      "source": [
        "df2.head()"
      ],
      "execution_count": 292,
      "outputs": [
        {
          "output_type": "execute_result",
          "data": {
            "text/html": [
              "<div>\n",
              "<style scoped>\n",
              "    .dataframe tbody tr th:only-of-type {\n",
              "        vertical-align: middle;\n",
              "    }\n",
              "\n",
              "    .dataframe tbody tr th {\n",
              "        vertical-align: top;\n",
              "    }\n",
              "\n",
              "    .dataframe thead th {\n",
              "        text-align: right;\n",
              "    }\n",
              "</style>\n",
              "<table border=\"1\" class=\"dataframe\">\n",
              "  <thead>\n",
              "    <tr style=\"text-align: right;\">\n",
              "      <th></th>\n",
              "      <th>sepal_length</th>\n",
              "      <th>sepal_width</th>\n",
              "      <th>petal_length</th>\n",
              "      <th>petal_width</th>\n",
              "    </tr>\n",
              "  </thead>\n",
              "  <tbody>\n",
              "    <tr>\n",
              "      <th>0</th>\n",
              "      <td>2.0</td>\n",
              "      <td>2.0</td>\n",
              "      <td>2.0</td>\n",
              "      <td>2.0</td>\n",
              "    </tr>\n",
              "    <tr>\n",
              "      <th>1</th>\n",
              "      <td>0.0</td>\n",
              "      <td>0.0</td>\n",
              "      <td>0.0</td>\n",
              "      <td>0.0</td>\n",
              "    </tr>\n",
              "    <tr>\n",
              "      <th>2</th>\n",
              "      <td>1.0</td>\n",
              "      <td>1.0</td>\n",
              "      <td>1.0</td>\n",
              "      <td>1.0</td>\n",
              "    </tr>\n",
              "    <tr>\n",
              "      <th>3</th>\n",
              "      <td>0.0</td>\n",
              "      <td>0.0</td>\n",
              "      <td>0.0</td>\n",
              "      <td>0.0</td>\n",
              "    </tr>\n",
              "    <tr>\n",
              "      <th>4</th>\n",
              "      <td>0.0</td>\n",
              "      <td>0.0</td>\n",
              "      <td>0.0</td>\n",
              "      <td>0.0</td>\n",
              "    </tr>\n",
              "  </tbody>\n",
              "</table>\n",
              "</div>"
            ],
            "text/plain": [
              "   sepal_length  sepal_width  petal_length  petal_width\n",
              "0           2.0          2.0           2.0          2.0\n",
              "1           0.0          0.0           0.0          0.0\n",
              "2           1.0          1.0           1.0          1.0\n",
              "3           0.0          0.0           0.0          0.0\n",
              "4           0.0          0.0           0.0          0.0"
            ]
          },
          "metadata": {
            "tags": []
          },
          "execution_count": 292
        }
      ]
    },
    {
      "cell_type": "code",
      "metadata": {
        "id": "-brwrH7Ytixq",
        "colab_type": "code",
        "colab": {}
      },
      "source": [
        "a = np.array([2.0,1.0,1.0,0.0])\n",
        "a = a.reshape(1,4)"
      ],
      "execution_count": 0,
      "outputs": []
    },
    {
      "cell_type": "code",
      "metadata": {
        "id": "N1IwSDMxsDZP",
        "colab_type": "code",
        "colab": {}
      },
      "source": [
        "predicted1 = model.predict(a)"
      ],
      "execution_count": 0,
      "outputs": []
    },
    {
      "cell_type": "code",
      "metadata": {
        "id": "I4Zo72gftDs7",
        "colab_type": "code",
        "colab": {
          "base_uri": "https://localhost:8080/",
          "height": 34
        },
        "outputId": "e96d97c8-43dc-4634-ec35-cee7eeab02a6"
      },
      "source": [
        "test_x.shape,a.shape"
      ],
      "execution_count": 297,
      "outputs": [
        {
          "output_type": "execute_result",
          "data": {
            "text/plain": [
              "((30, 4), (4,))"
            ]
          },
          "metadata": {
            "tags": []
          },
          "execution_count": 297
        }
      ]
    },
    {
      "cell_type": "code",
      "metadata": {
        "id": "BDLS8XzAtKDu",
        "colab_type": "code",
        "colab": {
          "base_uri": "https://localhost:8080/",
          "height": 34
        },
        "outputId": "6899055c-e683-409e-84e5-7221fbd548d0"
      },
      "source": [
        "b = prediction(predicted1)\n",
        "print(b)"
      ],
      "execution_count": 300,
      "outputs": [
        {
          "output_type": "stream",
          "text": [
            "Iris-virginica\n"
          ],
          "name": "stdout"
        }
      ]
    },
    {
      "cell_type": "code",
      "metadata": {
        "id": "DrToQoVquDT3",
        "colab_type": "code",
        "colab": {}
      },
      "source": [
        ""
      ],
      "execution_count": 0,
      "outputs": []
    }
  ]
}