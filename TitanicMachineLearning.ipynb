{
  "nbformat": 4,
  "nbformat_minor": 0,
  "metadata": {
    "colab": {
      "name": "TitanicMachineLearning.ipynb",
      "provenance": [],
      "collapsed_sections": [],
      "toc_visible": true,
      "authorship_tag": "ABX9TyNw3w+mROwzeEQBACNRmgXP",
      "include_colab_link": true
    },
    "kernelspec": {
      "name": "python3",
      "display_name": "Python 3"
    }
  },
  "cells": [
    {
      "cell_type": "markdown",
      "metadata": {
        "id": "view-in-github",
        "colab_type": "text"
      },
      "source": [
        "<a href=\"https://colab.research.google.com/github/Sameer-Ahmed7/Deep_learning_Practice/blob/TitanicML/TitanicMachineLearning.ipynb\" target=\"_parent\"><img src=\"https://colab.research.google.com/assets/colab-badge.svg\" alt=\"Open In Colab\"/></a>"
      ]
    },
    {
      "cell_type": "code",
      "metadata": {
        "id": "45yL1l5BSssz",
        "colab_type": "code",
        "colab": {}
      },
      "source": [
        "#!pip install tensorflow --upgrade      "
      ],
      "execution_count": 0,
      "outputs": []
    },
    {
      "cell_type": "code",
      "metadata": {
        "id": "9PnIzSuNS4MO",
        "colab_type": "code",
        "colab": {}
      },
      "source": [
        "import tensorflow as tf\n",
        "import pandas as pd\n",
        "import numpy as np\n",
        "import matplotlib.pyplot as plt"
      ],
      "execution_count": 0,
      "outputs": []
    },
    {
      "cell_type": "code",
      "metadata": {
        "id": "T5LaxMiNTvcr",
        "colab_type": "code",
        "outputId": "6e02a8c3-ad80-4194-99da-eaf1d74873cf",
        "colab": {
          "base_uri": "https://localhost:8080/",
          "height": 34
        }
      },
      "source": [
        "tf.__version__"
      ],
      "execution_count": 0,
      "outputs": [
        {
          "output_type": "execute_result",
          "data": {
            "text/plain": [
              "'2.1.0'"
            ]
          },
          "metadata": {
            "tags": []
          },
          "execution_count": 157
        }
      ]
    },
    {
      "cell_type": "code",
      "metadata": {
        "id": "xHQ9i7Y2duBq",
        "colab_type": "code",
        "colab": {}
      },
      "source": [
        ""
      ],
      "execution_count": 0,
      "outputs": []
    },
    {
      "cell_type": "markdown",
      "metadata": {
        "id": "EKz-5GEOdugg",
        "colab_type": "text"
      },
      "source": [
        "# Prepared Test data"
      ]
    },
    {
      "cell_type": "code",
      "metadata": {
        "id": "YhcVsCFSTx2X",
        "colab_type": "code",
        "colab": {}
      },
      "source": [
        "dfTest = pd.read_csv(\"test.csv\")"
      ],
      "execution_count": 0,
      "outputs": []
    },
    {
      "cell_type": "code",
      "metadata": {
        "id": "AIiMcOCIUID8",
        "colab_type": "code",
        "outputId": "c7a1ee08-1c5f-40ee-d1f7-a63dbe37a0f9",
        "colab": {
          "base_uri": "https://localhost:8080/",
          "height": 221
        }
      },
      "source": [
        "dfTest.head()"
      ],
      "execution_count": 0,
      "outputs": [
        {
          "output_type": "execute_result",
          "data": {
            "text/html": [
              "<div>\n",
              "<style scoped>\n",
              "    .dataframe tbody tr th:only-of-type {\n",
              "        vertical-align: middle;\n",
              "    }\n",
              "\n",
              "    .dataframe tbody tr th {\n",
              "        vertical-align: top;\n",
              "    }\n",
              "\n",
              "    .dataframe thead th {\n",
              "        text-align: right;\n",
              "    }\n",
              "</style>\n",
              "<table border=\"1\" class=\"dataframe\">\n",
              "  <thead>\n",
              "    <tr style=\"text-align: right;\">\n",
              "      <th></th>\n",
              "      <th>PassengerId</th>\n",
              "      <th>Pclass</th>\n",
              "      <th>Name</th>\n",
              "      <th>Sex</th>\n",
              "      <th>Age</th>\n",
              "      <th>SibSp</th>\n",
              "      <th>Parch</th>\n",
              "      <th>Ticket</th>\n",
              "      <th>Fare</th>\n",
              "      <th>Cabin</th>\n",
              "      <th>Embarked</th>\n",
              "    </tr>\n",
              "  </thead>\n",
              "  <tbody>\n",
              "    <tr>\n",
              "      <th>0</th>\n",
              "      <td>892</td>\n",
              "      <td>3</td>\n",
              "      <td>Kelly, Mr. James</td>\n",
              "      <td>male</td>\n",
              "      <td>34.5</td>\n",
              "      <td>0</td>\n",
              "      <td>0</td>\n",
              "      <td>330911</td>\n",
              "      <td>7.8292</td>\n",
              "      <td>NaN</td>\n",
              "      <td>Q</td>\n",
              "    </tr>\n",
              "    <tr>\n",
              "      <th>1</th>\n",
              "      <td>893</td>\n",
              "      <td>3</td>\n",
              "      <td>Wilkes, Mrs. James (Ellen Needs)</td>\n",
              "      <td>female</td>\n",
              "      <td>47.0</td>\n",
              "      <td>1</td>\n",
              "      <td>0</td>\n",
              "      <td>363272</td>\n",
              "      <td>7.0000</td>\n",
              "      <td>NaN</td>\n",
              "      <td>S</td>\n",
              "    </tr>\n",
              "    <tr>\n",
              "      <th>2</th>\n",
              "      <td>894</td>\n",
              "      <td>2</td>\n",
              "      <td>Myles, Mr. Thomas Francis</td>\n",
              "      <td>male</td>\n",
              "      <td>62.0</td>\n",
              "      <td>0</td>\n",
              "      <td>0</td>\n",
              "      <td>240276</td>\n",
              "      <td>9.6875</td>\n",
              "      <td>NaN</td>\n",
              "      <td>Q</td>\n",
              "    </tr>\n",
              "    <tr>\n",
              "      <th>3</th>\n",
              "      <td>895</td>\n",
              "      <td>3</td>\n",
              "      <td>Wirz, Mr. Albert</td>\n",
              "      <td>male</td>\n",
              "      <td>27.0</td>\n",
              "      <td>0</td>\n",
              "      <td>0</td>\n",
              "      <td>315154</td>\n",
              "      <td>8.6625</td>\n",
              "      <td>NaN</td>\n",
              "      <td>S</td>\n",
              "    </tr>\n",
              "    <tr>\n",
              "      <th>4</th>\n",
              "      <td>896</td>\n",
              "      <td>3</td>\n",
              "      <td>Hirvonen, Mrs. Alexander (Helga E Lindqvist)</td>\n",
              "      <td>female</td>\n",
              "      <td>22.0</td>\n",
              "      <td>1</td>\n",
              "      <td>1</td>\n",
              "      <td>3101298</td>\n",
              "      <td>12.2875</td>\n",
              "      <td>NaN</td>\n",
              "      <td>S</td>\n",
              "    </tr>\n",
              "  </tbody>\n",
              "</table>\n",
              "</div>"
            ],
            "text/plain": [
              "   PassengerId  Pclass  ... Cabin Embarked\n",
              "0          892       3  ...   NaN        Q\n",
              "1          893       3  ...   NaN        S\n",
              "2          894       2  ...   NaN        Q\n",
              "3          895       3  ...   NaN        S\n",
              "4          896       3  ...   NaN        S\n",
              "\n",
              "[5 rows x 11 columns]"
            ]
          },
          "metadata": {
            "tags": []
          },
          "execution_count": 159
        }
      ]
    },
    {
      "cell_type": "code",
      "metadata": {
        "id": "Ign4NSocUq59",
        "colab_type": "code",
        "outputId": "0c6cdc0f-582b-4db8-ce44-daf2075e7d96",
        "colab": {
          "base_uri": "https://localhost:8080/",
          "height": 297
        }
      },
      "source": [
        "dfTest.describe()"
      ],
      "execution_count": 0,
      "outputs": [
        {
          "output_type": "execute_result",
          "data": {
            "text/html": [
              "<div>\n",
              "<style scoped>\n",
              "    .dataframe tbody tr th:only-of-type {\n",
              "        vertical-align: middle;\n",
              "    }\n",
              "\n",
              "    .dataframe tbody tr th {\n",
              "        vertical-align: top;\n",
              "    }\n",
              "\n",
              "    .dataframe thead th {\n",
              "        text-align: right;\n",
              "    }\n",
              "</style>\n",
              "<table border=\"1\" class=\"dataframe\">\n",
              "  <thead>\n",
              "    <tr style=\"text-align: right;\">\n",
              "      <th></th>\n",
              "      <th>PassengerId</th>\n",
              "      <th>Pclass</th>\n",
              "      <th>Age</th>\n",
              "      <th>SibSp</th>\n",
              "      <th>Parch</th>\n",
              "      <th>Fare</th>\n",
              "    </tr>\n",
              "  </thead>\n",
              "  <tbody>\n",
              "    <tr>\n",
              "      <th>count</th>\n",
              "      <td>418.000000</td>\n",
              "      <td>418.000000</td>\n",
              "      <td>332.000000</td>\n",
              "      <td>418.000000</td>\n",
              "      <td>418.000000</td>\n",
              "      <td>417.000000</td>\n",
              "    </tr>\n",
              "    <tr>\n",
              "      <th>mean</th>\n",
              "      <td>1100.500000</td>\n",
              "      <td>2.265550</td>\n",
              "      <td>30.272590</td>\n",
              "      <td>0.447368</td>\n",
              "      <td>0.392344</td>\n",
              "      <td>35.627188</td>\n",
              "    </tr>\n",
              "    <tr>\n",
              "      <th>std</th>\n",
              "      <td>120.810458</td>\n",
              "      <td>0.841838</td>\n",
              "      <td>14.181209</td>\n",
              "      <td>0.896760</td>\n",
              "      <td>0.981429</td>\n",
              "      <td>55.907576</td>\n",
              "    </tr>\n",
              "    <tr>\n",
              "      <th>min</th>\n",
              "      <td>892.000000</td>\n",
              "      <td>1.000000</td>\n",
              "      <td>0.170000</td>\n",
              "      <td>0.000000</td>\n",
              "      <td>0.000000</td>\n",
              "      <td>0.000000</td>\n",
              "    </tr>\n",
              "    <tr>\n",
              "      <th>25%</th>\n",
              "      <td>996.250000</td>\n",
              "      <td>1.000000</td>\n",
              "      <td>21.000000</td>\n",
              "      <td>0.000000</td>\n",
              "      <td>0.000000</td>\n",
              "      <td>7.895800</td>\n",
              "    </tr>\n",
              "    <tr>\n",
              "      <th>50%</th>\n",
              "      <td>1100.500000</td>\n",
              "      <td>3.000000</td>\n",
              "      <td>27.000000</td>\n",
              "      <td>0.000000</td>\n",
              "      <td>0.000000</td>\n",
              "      <td>14.454200</td>\n",
              "    </tr>\n",
              "    <tr>\n",
              "      <th>75%</th>\n",
              "      <td>1204.750000</td>\n",
              "      <td>3.000000</td>\n",
              "      <td>39.000000</td>\n",
              "      <td>1.000000</td>\n",
              "      <td>0.000000</td>\n",
              "      <td>31.500000</td>\n",
              "    </tr>\n",
              "    <tr>\n",
              "      <th>max</th>\n",
              "      <td>1309.000000</td>\n",
              "      <td>3.000000</td>\n",
              "      <td>76.000000</td>\n",
              "      <td>8.000000</td>\n",
              "      <td>9.000000</td>\n",
              "      <td>512.329200</td>\n",
              "    </tr>\n",
              "  </tbody>\n",
              "</table>\n",
              "</div>"
            ],
            "text/plain": [
              "       PassengerId      Pclass         Age       SibSp       Parch        Fare\n",
              "count   418.000000  418.000000  332.000000  418.000000  418.000000  417.000000\n",
              "mean   1100.500000    2.265550   30.272590    0.447368    0.392344   35.627188\n",
              "std     120.810458    0.841838   14.181209    0.896760    0.981429   55.907576\n",
              "min     892.000000    1.000000    0.170000    0.000000    0.000000    0.000000\n",
              "25%     996.250000    1.000000   21.000000    0.000000    0.000000    7.895800\n",
              "50%    1100.500000    3.000000   27.000000    0.000000    0.000000   14.454200\n",
              "75%    1204.750000    3.000000   39.000000    1.000000    0.000000   31.500000\n",
              "max    1309.000000    3.000000   76.000000    8.000000    9.000000  512.329200"
            ]
          },
          "metadata": {
            "tags": []
          },
          "execution_count": 160
        }
      ]
    },
    {
      "cell_type": "code",
      "metadata": {
        "id": "nl5HmVHMU-Cl",
        "colab_type": "code",
        "outputId": "2f55fa39-e1c0-4c54-bab8-73dcb55fe2d4",
        "colab": {
          "base_uri": "https://localhost:8080/",
          "height": 289
        }
      },
      "source": [
        "dfTest.info()"
      ],
      "execution_count": 0,
      "outputs": [
        {
          "output_type": "stream",
          "text": [
            "<class 'pandas.core.frame.DataFrame'>\n",
            "RangeIndex: 418 entries, 0 to 417\n",
            "Data columns (total 11 columns):\n",
            "PassengerId    418 non-null int64\n",
            "Pclass         418 non-null int64\n",
            "Name           418 non-null object\n",
            "Sex            418 non-null object\n",
            "Age            332 non-null float64\n",
            "SibSp          418 non-null int64\n",
            "Parch          418 non-null int64\n",
            "Ticket         418 non-null object\n",
            "Fare           417 non-null float64\n",
            "Cabin          91 non-null object\n",
            "Embarked       418 non-null object\n",
            "dtypes: float64(2), int64(4), object(5)\n",
            "memory usage: 36.0+ KB\n"
          ],
          "name": "stdout"
        }
      ]
    },
    {
      "cell_type": "code",
      "metadata": {
        "id": "1JkMVj1MVBjU",
        "colab_type": "code",
        "outputId": "a7a6de10-b424-4537-83c5-dbe9bb54ac71",
        "colab": {
          "base_uri": "https://localhost:8080/",
          "height": 221
        }
      },
      "source": [
        "dfTest.Age"
      ],
      "execution_count": 0,
      "outputs": [
        {
          "output_type": "execute_result",
          "data": {
            "text/plain": [
              "0      34.5\n",
              "1      47.0\n",
              "2      62.0\n",
              "3      27.0\n",
              "4      22.0\n",
              "       ... \n",
              "413     NaN\n",
              "414    39.0\n",
              "415    38.5\n",
              "416     NaN\n",
              "417     NaN\n",
              "Name: Age, Length: 418, dtype: float64"
            ]
          },
          "metadata": {
            "tags": []
          },
          "execution_count": 162
        }
      ]
    },
    {
      "cell_type": "code",
      "metadata": {
        "id": "LtYtoVxSVOAh",
        "colab_type": "code",
        "colab": {}
      },
      "source": [
        "AgeMeanTest = dfTest.Age.mean()"
      ],
      "execution_count": 0,
      "outputs": []
    },
    {
      "cell_type": "code",
      "metadata": {
        "id": "v7wwS7lBVTol",
        "colab_type": "code",
        "outputId": "c1ba45ad-4763-4a77-8b5b-a8fd0d1e1f0b",
        "colab": {
          "base_uri": "https://localhost:8080/",
          "height": 34
        }
      },
      "source": [
        "AgeMeanTest"
      ],
      "execution_count": 0,
      "outputs": [
        {
          "output_type": "execute_result",
          "data": {
            "text/plain": [
              "30.272590361445783"
            ]
          },
          "metadata": {
            "tags": []
          },
          "execution_count": 164
        }
      ]
    },
    {
      "cell_type": "code",
      "metadata": {
        "id": "k9EIi_uEVbUP",
        "colab_type": "code",
        "colab": {}
      },
      "source": [
        "dfTest.Age.fillna(AgeMeanTest,inplace=True)"
      ],
      "execution_count": 0,
      "outputs": []
    },
    {
      "cell_type": "code",
      "metadata": {
        "id": "2bG62RlBWGnu",
        "colab_type": "code",
        "outputId": "840b6ddd-1d38-4ebf-9420-206ed6c34535",
        "colab": {
          "base_uri": "https://localhost:8080/",
          "height": 289
        }
      },
      "source": [
        "dfTest.info()"
      ],
      "execution_count": 0,
      "outputs": [
        {
          "output_type": "stream",
          "text": [
            "<class 'pandas.core.frame.DataFrame'>\n",
            "RangeIndex: 418 entries, 0 to 417\n",
            "Data columns (total 11 columns):\n",
            "PassengerId    418 non-null int64\n",
            "Pclass         418 non-null int64\n",
            "Name           418 non-null object\n",
            "Sex            418 non-null object\n",
            "Age            418 non-null float64\n",
            "SibSp          418 non-null int64\n",
            "Parch          418 non-null int64\n",
            "Ticket         418 non-null object\n",
            "Fare           417 non-null float64\n",
            "Cabin          91 non-null object\n",
            "Embarked       418 non-null object\n",
            "dtypes: float64(2), int64(4), object(5)\n",
            "memory usage: 36.0+ KB\n"
          ],
          "name": "stdout"
        }
      ]
    },
    {
      "cell_type": "code",
      "metadata": {
        "id": "ngoDV8fAWKJu",
        "colab_type": "code",
        "outputId": "41677184-2723-4561-ee84-32ad286e7100",
        "colab": {
          "base_uri": "https://localhost:8080/",
          "height": 68
        }
      },
      "source": [
        "dfTest.columns"
      ],
      "execution_count": 0,
      "outputs": [
        {
          "output_type": "execute_result",
          "data": {
            "text/plain": [
              "Index(['PassengerId', 'Pclass', 'Name', 'Sex', 'Age', 'SibSp', 'Parch',\n",
              "       'Ticket', 'Fare', 'Cabin', 'Embarked'],\n",
              "      dtype='object')"
            ]
          },
          "metadata": {
            "tags": []
          },
          "execution_count": 167
        }
      ]
    },
    {
      "cell_type": "code",
      "metadata": {
        "id": "zGvmHKG6WW7F",
        "colab_type": "code",
        "colab": {}
      },
      "source": [
        "dfTest.drop([\"PassengerId\",\"Pclass\",\"Name\",\"SibSp\",\"Parch\",\"Ticket\",\"Fare\",\"Cabin\",\"Embarked\"],axis=1,inplace=True)"
      ],
      "execution_count": 0,
      "outputs": []
    },
    {
      "cell_type": "code",
      "metadata": {
        "id": "fINf6GGdW9mb",
        "colab_type": "code",
        "outputId": "38559768-9e6a-4e79-c027-22bbc2497332",
        "colab": {
          "base_uri": "https://localhost:8080/",
          "height": 204
        }
      },
      "source": [
        "dfTest.head()"
      ],
      "execution_count": 0,
      "outputs": [
        {
          "output_type": "execute_result",
          "data": {
            "text/html": [
              "<div>\n",
              "<style scoped>\n",
              "    .dataframe tbody tr th:only-of-type {\n",
              "        vertical-align: middle;\n",
              "    }\n",
              "\n",
              "    .dataframe tbody tr th {\n",
              "        vertical-align: top;\n",
              "    }\n",
              "\n",
              "    .dataframe thead th {\n",
              "        text-align: right;\n",
              "    }\n",
              "</style>\n",
              "<table border=\"1\" class=\"dataframe\">\n",
              "  <thead>\n",
              "    <tr style=\"text-align: right;\">\n",
              "      <th></th>\n",
              "      <th>Sex</th>\n",
              "      <th>Age</th>\n",
              "    </tr>\n",
              "  </thead>\n",
              "  <tbody>\n",
              "    <tr>\n",
              "      <th>0</th>\n",
              "      <td>male</td>\n",
              "      <td>34.5</td>\n",
              "    </tr>\n",
              "    <tr>\n",
              "      <th>1</th>\n",
              "      <td>female</td>\n",
              "      <td>47.0</td>\n",
              "    </tr>\n",
              "    <tr>\n",
              "      <th>2</th>\n",
              "      <td>male</td>\n",
              "      <td>62.0</td>\n",
              "    </tr>\n",
              "    <tr>\n",
              "      <th>3</th>\n",
              "      <td>male</td>\n",
              "      <td>27.0</td>\n",
              "    </tr>\n",
              "    <tr>\n",
              "      <th>4</th>\n",
              "      <td>female</td>\n",
              "      <td>22.0</td>\n",
              "    </tr>\n",
              "  </tbody>\n",
              "</table>\n",
              "</div>"
            ],
            "text/plain": [
              "      Sex   Age\n",
              "0    male  34.5\n",
              "1  female  47.0\n",
              "2    male  62.0\n",
              "3    male  27.0\n",
              "4  female  22.0"
            ]
          },
          "metadata": {
            "tags": []
          },
          "execution_count": 169
        }
      ]
    },
    {
      "cell_type": "code",
      "metadata": {
        "id": "opEnv5qRXuXg",
        "colab_type": "code",
        "colab": {}
      },
      "source": [
        "dfTest.Age = dfTest.Age.astype(\"int64\")"
      ],
      "execution_count": 0,
      "outputs": []
    },
    {
      "cell_type": "code",
      "metadata": {
        "id": "vGjRtTvTXyka",
        "colab_type": "code",
        "outputId": "bb9aa60c-eec0-48cc-e9ee-15094c31dae6",
        "colab": {
          "base_uri": "https://localhost:8080/",
          "height": 204
        }
      },
      "source": [
        "dfTest.head()"
      ],
      "execution_count": 0,
      "outputs": [
        {
          "output_type": "execute_result",
          "data": {
            "text/html": [
              "<div>\n",
              "<style scoped>\n",
              "    .dataframe tbody tr th:only-of-type {\n",
              "        vertical-align: middle;\n",
              "    }\n",
              "\n",
              "    .dataframe tbody tr th {\n",
              "        vertical-align: top;\n",
              "    }\n",
              "\n",
              "    .dataframe thead th {\n",
              "        text-align: right;\n",
              "    }\n",
              "</style>\n",
              "<table border=\"1\" class=\"dataframe\">\n",
              "  <thead>\n",
              "    <tr style=\"text-align: right;\">\n",
              "      <th></th>\n",
              "      <th>Sex</th>\n",
              "      <th>Age</th>\n",
              "    </tr>\n",
              "  </thead>\n",
              "  <tbody>\n",
              "    <tr>\n",
              "      <th>0</th>\n",
              "      <td>male</td>\n",
              "      <td>34</td>\n",
              "    </tr>\n",
              "    <tr>\n",
              "      <th>1</th>\n",
              "      <td>female</td>\n",
              "      <td>47</td>\n",
              "    </tr>\n",
              "    <tr>\n",
              "      <th>2</th>\n",
              "      <td>male</td>\n",
              "      <td>62</td>\n",
              "    </tr>\n",
              "    <tr>\n",
              "      <th>3</th>\n",
              "      <td>male</td>\n",
              "      <td>27</td>\n",
              "    </tr>\n",
              "    <tr>\n",
              "      <th>4</th>\n",
              "      <td>female</td>\n",
              "      <td>22</td>\n",
              "    </tr>\n",
              "  </tbody>\n",
              "</table>\n",
              "</div>"
            ],
            "text/plain": [
              "      Sex  Age\n",
              "0    male   34\n",
              "1  female   47\n",
              "2    male   62\n",
              "3    male   27\n",
              "4  female   22"
            ]
          },
          "metadata": {
            "tags": []
          },
          "execution_count": 171
        }
      ]
    },
    {
      "cell_type": "code",
      "metadata": {
        "id": "RLzKN9VgabY9",
        "colab_type": "code",
        "colab": {}
      },
      "source": [
        ""
      ],
      "execution_count": 0,
      "outputs": []
    },
    {
      "cell_type": "code",
      "metadata": {
        "id": "-MNTIMzc8Lbx",
        "colab_type": "code",
        "colab": {}
      },
      "source": [
        "df1 = pd.get_dummies(dfTest.Sex)"
      ],
      "execution_count": 0,
      "outputs": []
    },
    {
      "cell_type": "code",
      "metadata": {
        "id": "yPkCiOVH8fsh",
        "colab_type": "code",
        "outputId": "81057f33-2d6f-4abc-fc56-b1a70d3acc6e",
        "colab": {
          "base_uri": "https://localhost:8080/",
          "height": 419
        }
      },
      "source": [
        "df1"
      ],
      "execution_count": 0,
      "outputs": [
        {
          "output_type": "execute_result",
          "data": {
            "text/html": [
              "<div>\n",
              "<style scoped>\n",
              "    .dataframe tbody tr th:only-of-type {\n",
              "        vertical-align: middle;\n",
              "    }\n",
              "\n",
              "    .dataframe tbody tr th {\n",
              "        vertical-align: top;\n",
              "    }\n",
              "\n",
              "    .dataframe thead th {\n",
              "        text-align: right;\n",
              "    }\n",
              "</style>\n",
              "<table border=\"1\" class=\"dataframe\">\n",
              "  <thead>\n",
              "    <tr style=\"text-align: right;\">\n",
              "      <th></th>\n",
              "      <th>female</th>\n",
              "      <th>male</th>\n",
              "    </tr>\n",
              "  </thead>\n",
              "  <tbody>\n",
              "    <tr>\n",
              "      <th>0</th>\n",
              "      <td>0</td>\n",
              "      <td>1</td>\n",
              "    </tr>\n",
              "    <tr>\n",
              "      <th>1</th>\n",
              "      <td>1</td>\n",
              "      <td>0</td>\n",
              "    </tr>\n",
              "    <tr>\n",
              "      <th>2</th>\n",
              "      <td>0</td>\n",
              "      <td>1</td>\n",
              "    </tr>\n",
              "    <tr>\n",
              "      <th>3</th>\n",
              "      <td>0</td>\n",
              "      <td>1</td>\n",
              "    </tr>\n",
              "    <tr>\n",
              "      <th>4</th>\n",
              "      <td>1</td>\n",
              "      <td>0</td>\n",
              "    </tr>\n",
              "    <tr>\n",
              "      <th>...</th>\n",
              "      <td>...</td>\n",
              "      <td>...</td>\n",
              "    </tr>\n",
              "    <tr>\n",
              "      <th>413</th>\n",
              "      <td>0</td>\n",
              "      <td>1</td>\n",
              "    </tr>\n",
              "    <tr>\n",
              "      <th>414</th>\n",
              "      <td>1</td>\n",
              "      <td>0</td>\n",
              "    </tr>\n",
              "    <tr>\n",
              "      <th>415</th>\n",
              "      <td>0</td>\n",
              "      <td>1</td>\n",
              "    </tr>\n",
              "    <tr>\n",
              "      <th>416</th>\n",
              "      <td>0</td>\n",
              "      <td>1</td>\n",
              "    </tr>\n",
              "    <tr>\n",
              "      <th>417</th>\n",
              "      <td>0</td>\n",
              "      <td>1</td>\n",
              "    </tr>\n",
              "  </tbody>\n",
              "</table>\n",
              "<p>418 rows × 2 columns</p>\n",
              "</div>"
            ],
            "text/plain": [
              "     female  male\n",
              "0         0     1\n",
              "1         1     0\n",
              "2         0     1\n",
              "3         0     1\n",
              "4         1     0\n",
              "..      ...   ...\n",
              "413       0     1\n",
              "414       1     0\n",
              "415       0     1\n",
              "416       0     1\n",
              "417       0     1\n",
              "\n",
              "[418 rows x 2 columns]"
            ]
          },
          "metadata": {
            "tags": []
          },
          "execution_count": 173
        }
      ]
    },
    {
      "cell_type": "code",
      "metadata": {
        "id": "hPNeMjl98idV",
        "colab_type": "code",
        "colab": {}
      },
      "source": [
        "test_x = pd.concat([dfTest,df1],axis=1)"
      ],
      "execution_count": 0,
      "outputs": []
    },
    {
      "cell_type": "code",
      "metadata": {
        "id": "AudC9oXD9AlR",
        "colab_type": "code",
        "outputId": "1e9c179a-e577-47fb-84e7-1f10090c6364",
        "colab": {
          "base_uri": "https://localhost:8080/",
          "height": 111
        }
      },
      "source": [
        "test_x.head(2)"
      ],
      "execution_count": 0,
      "outputs": [
        {
          "output_type": "execute_result",
          "data": {
            "text/html": [
              "<div>\n",
              "<style scoped>\n",
              "    .dataframe tbody tr th:only-of-type {\n",
              "        vertical-align: middle;\n",
              "    }\n",
              "\n",
              "    .dataframe tbody tr th {\n",
              "        vertical-align: top;\n",
              "    }\n",
              "\n",
              "    .dataframe thead th {\n",
              "        text-align: right;\n",
              "    }\n",
              "</style>\n",
              "<table border=\"1\" class=\"dataframe\">\n",
              "  <thead>\n",
              "    <tr style=\"text-align: right;\">\n",
              "      <th></th>\n",
              "      <th>Sex</th>\n",
              "      <th>Age</th>\n",
              "      <th>female</th>\n",
              "      <th>male</th>\n",
              "    </tr>\n",
              "  </thead>\n",
              "  <tbody>\n",
              "    <tr>\n",
              "      <th>0</th>\n",
              "      <td>male</td>\n",
              "      <td>34</td>\n",
              "      <td>0</td>\n",
              "      <td>1</td>\n",
              "    </tr>\n",
              "    <tr>\n",
              "      <th>1</th>\n",
              "      <td>female</td>\n",
              "      <td>47</td>\n",
              "      <td>1</td>\n",
              "      <td>0</td>\n",
              "    </tr>\n",
              "  </tbody>\n",
              "</table>\n",
              "</div>"
            ],
            "text/plain": [
              "      Sex  Age  female  male\n",
              "0    male   34       0     1\n",
              "1  female   47       1     0"
            ]
          },
          "metadata": {
            "tags": []
          },
          "execution_count": 175
        }
      ]
    },
    {
      "cell_type": "code",
      "metadata": {
        "id": "-d1h1y2E9FR2",
        "colab_type": "code",
        "colab": {}
      },
      "source": [
        "test_x.drop(['Sex'],axis=1,inplace=True)"
      ],
      "execution_count": 0,
      "outputs": []
    },
    {
      "cell_type": "code",
      "metadata": {
        "id": "rcTwWlHb9-Z1",
        "colab_type": "code",
        "outputId": "ac9d716d-b3b1-4093-967d-4c6a2b87b5fc",
        "colab": {
          "base_uri": "https://localhost:8080/",
          "height": 111
        }
      },
      "source": [
        "test_x.head(2)"
      ],
      "execution_count": 0,
      "outputs": [
        {
          "output_type": "execute_result",
          "data": {
            "text/html": [
              "<div>\n",
              "<style scoped>\n",
              "    .dataframe tbody tr th:only-of-type {\n",
              "        vertical-align: middle;\n",
              "    }\n",
              "\n",
              "    .dataframe tbody tr th {\n",
              "        vertical-align: top;\n",
              "    }\n",
              "\n",
              "    .dataframe thead th {\n",
              "        text-align: right;\n",
              "    }\n",
              "</style>\n",
              "<table border=\"1\" class=\"dataframe\">\n",
              "  <thead>\n",
              "    <tr style=\"text-align: right;\">\n",
              "      <th></th>\n",
              "      <th>Age</th>\n",
              "      <th>female</th>\n",
              "      <th>male</th>\n",
              "    </tr>\n",
              "  </thead>\n",
              "  <tbody>\n",
              "    <tr>\n",
              "      <th>0</th>\n",
              "      <td>34</td>\n",
              "      <td>0</td>\n",
              "      <td>1</td>\n",
              "    </tr>\n",
              "    <tr>\n",
              "      <th>1</th>\n",
              "      <td>47</td>\n",
              "      <td>1</td>\n",
              "      <td>0</td>\n",
              "    </tr>\n",
              "  </tbody>\n",
              "</table>\n",
              "</div>"
            ],
            "text/plain": [
              "   Age  female  male\n",
              "0   34       0     1\n",
              "1   47       1     0"
            ]
          },
          "metadata": {
            "tags": []
          },
          "execution_count": 177
        }
      ]
    },
    {
      "cell_type": "code",
      "metadata": {
        "id": "O7QR2wVAvVRx",
        "colab_type": "code",
        "colab": {}
      },
      "source": [
        "test_x = test_x.values"
      ],
      "execution_count": 0,
      "outputs": []
    },
    {
      "cell_type": "code",
      "metadata": {
        "id": "ZcSX_g2vvgBG",
        "colab_type": "code",
        "outputId": "cf7db40b-1b5d-43ad-a99c-6e0409c96bee",
        "colab": {
          "base_uri": "https://localhost:8080/",
          "height": 136
        }
      },
      "source": [
        "test_x"
      ],
      "execution_count": 0,
      "outputs": [
        {
          "output_type": "execute_result",
          "data": {
            "text/plain": [
              "array([[34,  0,  1],\n",
              "       [47,  1,  0],\n",
              "       [62,  0,  1],\n",
              "       ...,\n",
              "       [38,  0,  1],\n",
              "       [30,  0,  1],\n",
              "       [30,  0,  1]])"
            ]
          },
          "metadata": {
            "tags": []
          },
          "execution_count": 179
        }
      ]
    },
    {
      "cell_type": "markdown",
      "metadata": {
        "id": "g0L5euHEee-W",
        "colab_type": "text"
      },
      "source": [
        "# Prepare Train Data Set"
      ]
    },
    {
      "cell_type": "code",
      "metadata": {
        "id": "ZCBETOeJekQi",
        "colab_type": "code",
        "colab": {}
      },
      "source": [
        "dfTrain = pd.read_csv(\"train.csv\")"
      ],
      "execution_count": 0,
      "outputs": []
    },
    {
      "cell_type": "code",
      "metadata": {
        "id": "kvT3lv6TeqxQ",
        "colab_type": "code",
        "outputId": "b85e791e-a575-47a6-92e5-fff301d58736",
        "colab": {
          "base_uri": "https://localhost:8080/",
          "height": 34
        }
      },
      "source": [
        "dfTrain.shape"
      ],
      "execution_count": 0,
      "outputs": [
        {
          "output_type": "execute_result",
          "data": {
            "text/plain": [
              "(891, 12)"
            ]
          },
          "metadata": {
            "tags": []
          },
          "execution_count": 181
        }
      ]
    },
    {
      "cell_type": "code",
      "metadata": {
        "id": "jkhVltPgeunx",
        "colab_type": "code",
        "outputId": "0f202603-9c84-4b2c-af46-dd3da9da0a03",
        "colab": {
          "base_uri": "https://localhost:8080/",
          "height": 145
        }
      },
      "source": [
        "dfTrain.head(2)"
      ],
      "execution_count": 0,
      "outputs": [
        {
          "output_type": "execute_result",
          "data": {
            "text/html": [
              "<div>\n",
              "<style scoped>\n",
              "    .dataframe tbody tr th:only-of-type {\n",
              "        vertical-align: middle;\n",
              "    }\n",
              "\n",
              "    .dataframe tbody tr th {\n",
              "        vertical-align: top;\n",
              "    }\n",
              "\n",
              "    .dataframe thead th {\n",
              "        text-align: right;\n",
              "    }\n",
              "</style>\n",
              "<table border=\"1\" class=\"dataframe\">\n",
              "  <thead>\n",
              "    <tr style=\"text-align: right;\">\n",
              "      <th></th>\n",
              "      <th>PassengerId</th>\n",
              "      <th>Survived</th>\n",
              "      <th>Pclass</th>\n",
              "      <th>Name</th>\n",
              "      <th>Sex</th>\n",
              "      <th>Age</th>\n",
              "      <th>SibSp</th>\n",
              "      <th>Parch</th>\n",
              "      <th>Ticket</th>\n",
              "      <th>Fare</th>\n",
              "      <th>Cabin</th>\n",
              "      <th>Embarked</th>\n",
              "    </tr>\n",
              "  </thead>\n",
              "  <tbody>\n",
              "    <tr>\n",
              "      <th>0</th>\n",
              "      <td>1</td>\n",
              "      <td>0</td>\n",
              "      <td>3</td>\n",
              "      <td>Braund, Mr. Owen Harris</td>\n",
              "      <td>male</td>\n",
              "      <td>22.0</td>\n",
              "      <td>1</td>\n",
              "      <td>0</td>\n",
              "      <td>A/5 21171</td>\n",
              "      <td>7.2500</td>\n",
              "      <td>NaN</td>\n",
              "      <td>S</td>\n",
              "    </tr>\n",
              "    <tr>\n",
              "      <th>1</th>\n",
              "      <td>2</td>\n",
              "      <td>1</td>\n",
              "      <td>1</td>\n",
              "      <td>Cumings, Mrs. John Bradley (Florence Briggs Th...</td>\n",
              "      <td>female</td>\n",
              "      <td>38.0</td>\n",
              "      <td>1</td>\n",
              "      <td>0</td>\n",
              "      <td>PC 17599</td>\n",
              "      <td>71.2833</td>\n",
              "      <td>C85</td>\n",
              "      <td>C</td>\n",
              "    </tr>\n",
              "  </tbody>\n",
              "</table>\n",
              "</div>"
            ],
            "text/plain": [
              "   PassengerId  Survived  Pclass  ...     Fare Cabin  Embarked\n",
              "0            1         0       3  ...   7.2500   NaN         S\n",
              "1            2         1       1  ...  71.2833   C85         C\n",
              "\n",
              "[2 rows x 12 columns]"
            ]
          },
          "metadata": {
            "tags": []
          },
          "execution_count": 182
        }
      ]
    },
    {
      "cell_type": "code",
      "metadata": {
        "id": "BQoUqNsgey-u",
        "colab_type": "code",
        "outputId": "7116fb32-fa9b-4bbf-d57a-04d2f3c9a42d",
        "colab": {
          "base_uri": "https://localhost:8080/",
          "height": 306
        }
      },
      "source": [
        "dfTrain.info()"
      ],
      "execution_count": 0,
      "outputs": [
        {
          "output_type": "stream",
          "text": [
            "<class 'pandas.core.frame.DataFrame'>\n",
            "RangeIndex: 891 entries, 0 to 890\n",
            "Data columns (total 12 columns):\n",
            "PassengerId    891 non-null int64\n",
            "Survived       891 non-null int64\n",
            "Pclass         891 non-null int64\n",
            "Name           891 non-null object\n",
            "Sex            891 non-null object\n",
            "Age            714 non-null float64\n",
            "SibSp          891 non-null int64\n",
            "Parch          891 non-null int64\n",
            "Ticket         891 non-null object\n",
            "Fare           891 non-null float64\n",
            "Cabin          204 non-null object\n",
            "Embarked       889 non-null object\n",
            "dtypes: float64(2), int64(5), object(5)\n",
            "memory usage: 83.7+ KB\n"
          ],
          "name": "stdout"
        }
      ]
    },
    {
      "cell_type": "code",
      "metadata": {
        "id": "L7GwjnaFe2ls",
        "colab_type": "code",
        "outputId": "fd7b4c8b-a114-4b16-dc59-c54ffa43afd6",
        "colab": {
          "base_uri": "https://localhost:8080/",
          "height": 297
        }
      },
      "source": [
        "dfTrain.describe()"
      ],
      "execution_count": 0,
      "outputs": [
        {
          "output_type": "execute_result",
          "data": {
            "text/html": [
              "<div>\n",
              "<style scoped>\n",
              "    .dataframe tbody tr th:only-of-type {\n",
              "        vertical-align: middle;\n",
              "    }\n",
              "\n",
              "    .dataframe tbody tr th {\n",
              "        vertical-align: top;\n",
              "    }\n",
              "\n",
              "    .dataframe thead th {\n",
              "        text-align: right;\n",
              "    }\n",
              "</style>\n",
              "<table border=\"1\" class=\"dataframe\">\n",
              "  <thead>\n",
              "    <tr style=\"text-align: right;\">\n",
              "      <th></th>\n",
              "      <th>PassengerId</th>\n",
              "      <th>Survived</th>\n",
              "      <th>Pclass</th>\n",
              "      <th>Age</th>\n",
              "      <th>SibSp</th>\n",
              "      <th>Parch</th>\n",
              "      <th>Fare</th>\n",
              "    </tr>\n",
              "  </thead>\n",
              "  <tbody>\n",
              "    <tr>\n",
              "      <th>count</th>\n",
              "      <td>891.000000</td>\n",
              "      <td>891.000000</td>\n",
              "      <td>891.000000</td>\n",
              "      <td>714.000000</td>\n",
              "      <td>891.000000</td>\n",
              "      <td>891.000000</td>\n",
              "      <td>891.000000</td>\n",
              "    </tr>\n",
              "    <tr>\n",
              "      <th>mean</th>\n",
              "      <td>446.000000</td>\n",
              "      <td>0.383838</td>\n",
              "      <td>2.308642</td>\n",
              "      <td>29.699118</td>\n",
              "      <td>0.523008</td>\n",
              "      <td>0.381594</td>\n",
              "      <td>32.204208</td>\n",
              "    </tr>\n",
              "    <tr>\n",
              "      <th>std</th>\n",
              "      <td>257.353842</td>\n",
              "      <td>0.486592</td>\n",
              "      <td>0.836071</td>\n",
              "      <td>14.526497</td>\n",
              "      <td>1.102743</td>\n",
              "      <td>0.806057</td>\n",
              "      <td>49.693429</td>\n",
              "    </tr>\n",
              "    <tr>\n",
              "      <th>min</th>\n",
              "      <td>1.000000</td>\n",
              "      <td>0.000000</td>\n",
              "      <td>1.000000</td>\n",
              "      <td>0.420000</td>\n",
              "      <td>0.000000</td>\n",
              "      <td>0.000000</td>\n",
              "      <td>0.000000</td>\n",
              "    </tr>\n",
              "    <tr>\n",
              "      <th>25%</th>\n",
              "      <td>223.500000</td>\n",
              "      <td>0.000000</td>\n",
              "      <td>2.000000</td>\n",
              "      <td>20.125000</td>\n",
              "      <td>0.000000</td>\n",
              "      <td>0.000000</td>\n",
              "      <td>7.910400</td>\n",
              "    </tr>\n",
              "    <tr>\n",
              "      <th>50%</th>\n",
              "      <td>446.000000</td>\n",
              "      <td>0.000000</td>\n",
              "      <td>3.000000</td>\n",
              "      <td>28.000000</td>\n",
              "      <td>0.000000</td>\n",
              "      <td>0.000000</td>\n",
              "      <td>14.454200</td>\n",
              "    </tr>\n",
              "    <tr>\n",
              "      <th>75%</th>\n",
              "      <td>668.500000</td>\n",
              "      <td>1.000000</td>\n",
              "      <td>3.000000</td>\n",
              "      <td>38.000000</td>\n",
              "      <td>1.000000</td>\n",
              "      <td>0.000000</td>\n",
              "      <td>31.000000</td>\n",
              "    </tr>\n",
              "    <tr>\n",
              "      <th>max</th>\n",
              "      <td>891.000000</td>\n",
              "      <td>1.000000</td>\n",
              "      <td>3.000000</td>\n",
              "      <td>80.000000</td>\n",
              "      <td>8.000000</td>\n",
              "      <td>6.000000</td>\n",
              "      <td>512.329200</td>\n",
              "    </tr>\n",
              "  </tbody>\n",
              "</table>\n",
              "</div>"
            ],
            "text/plain": [
              "       PassengerId    Survived      Pclass  ...       SibSp       Parch        Fare\n",
              "count   891.000000  891.000000  891.000000  ...  891.000000  891.000000  891.000000\n",
              "mean    446.000000    0.383838    2.308642  ...    0.523008    0.381594   32.204208\n",
              "std     257.353842    0.486592    0.836071  ...    1.102743    0.806057   49.693429\n",
              "min       1.000000    0.000000    1.000000  ...    0.000000    0.000000    0.000000\n",
              "25%     223.500000    0.000000    2.000000  ...    0.000000    0.000000    7.910400\n",
              "50%     446.000000    0.000000    3.000000  ...    0.000000    0.000000   14.454200\n",
              "75%     668.500000    1.000000    3.000000  ...    1.000000    0.000000   31.000000\n",
              "max     891.000000    1.000000    3.000000  ...    8.000000    6.000000  512.329200\n",
              "\n",
              "[8 rows x 7 columns]"
            ]
          },
          "metadata": {
            "tags": []
          },
          "execution_count": 184
        }
      ]
    },
    {
      "cell_type": "code",
      "metadata": {
        "id": "zVK05CZ6e88-",
        "colab_type": "code",
        "colab": {}
      },
      "source": [
        "meanTrain = dfTrain.Age.mean()"
      ],
      "execution_count": 0,
      "outputs": []
    },
    {
      "cell_type": "code",
      "metadata": {
        "id": "x9XES8KDfF1y",
        "colab_type": "code",
        "colab": {}
      },
      "source": [
        "dfTrain.Age.fillna(meanTrain,inplace=True)"
      ],
      "execution_count": 0,
      "outputs": []
    },
    {
      "cell_type": "code",
      "metadata": {
        "id": "IQCbY5EpfSjC",
        "colab_type": "code",
        "outputId": "bf16a0df-41b0-4ad6-a51e-b6f878be099b",
        "colab": {
          "base_uri": "https://localhost:8080/",
          "height": 306
        }
      },
      "source": [
        "dfTrain.info()"
      ],
      "execution_count": 0,
      "outputs": [
        {
          "output_type": "stream",
          "text": [
            "<class 'pandas.core.frame.DataFrame'>\n",
            "RangeIndex: 891 entries, 0 to 890\n",
            "Data columns (total 12 columns):\n",
            "PassengerId    891 non-null int64\n",
            "Survived       891 non-null int64\n",
            "Pclass         891 non-null int64\n",
            "Name           891 non-null object\n",
            "Sex            891 non-null object\n",
            "Age            891 non-null float64\n",
            "SibSp          891 non-null int64\n",
            "Parch          891 non-null int64\n",
            "Ticket         891 non-null object\n",
            "Fare           891 non-null float64\n",
            "Cabin          204 non-null object\n",
            "Embarked       889 non-null object\n",
            "dtypes: float64(2), int64(5), object(5)\n",
            "memory usage: 83.7+ KB\n"
          ],
          "name": "stdout"
        }
      ]
    },
    {
      "cell_type": "code",
      "metadata": {
        "id": "nlR-6uybfVW_",
        "colab_type": "code",
        "colab": {}
      },
      "source": [
        "dfTrain.drop([\"PassengerId\",\"Pclass\",\"Name\",\"SibSp\",\"Parch\",\"Ticket\",\"Fare\",\"Cabin\",\"Embarked\"],axis=1,inplace=True)"
      ],
      "execution_count": 0,
      "outputs": []
    },
    {
      "cell_type": "code",
      "metadata": {
        "id": "HQiytDoafhOs",
        "colab_type": "code",
        "outputId": "6364d555-b854-42cb-cbd2-cecc99ddea54",
        "colab": {
          "base_uri": "https://localhost:8080/",
          "height": 204
        }
      },
      "source": [
        "dfTrain.head()"
      ],
      "execution_count": 0,
      "outputs": [
        {
          "output_type": "execute_result",
          "data": {
            "text/html": [
              "<div>\n",
              "<style scoped>\n",
              "    .dataframe tbody tr th:only-of-type {\n",
              "        vertical-align: middle;\n",
              "    }\n",
              "\n",
              "    .dataframe tbody tr th {\n",
              "        vertical-align: top;\n",
              "    }\n",
              "\n",
              "    .dataframe thead th {\n",
              "        text-align: right;\n",
              "    }\n",
              "</style>\n",
              "<table border=\"1\" class=\"dataframe\">\n",
              "  <thead>\n",
              "    <tr style=\"text-align: right;\">\n",
              "      <th></th>\n",
              "      <th>Survived</th>\n",
              "      <th>Sex</th>\n",
              "      <th>Age</th>\n",
              "    </tr>\n",
              "  </thead>\n",
              "  <tbody>\n",
              "    <tr>\n",
              "      <th>0</th>\n",
              "      <td>0</td>\n",
              "      <td>male</td>\n",
              "      <td>22.0</td>\n",
              "    </tr>\n",
              "    <tr>\n",
              "      <th>1</th>\n",
              "      <td>1</td>\n",
              "      <td>female</td>\n",
              "      <td>38.0</td>\n",
              "    </tr>\n",
              "    <tr>\n",
              "      <th>2</th>\n",
              "      <td>1</td>\n",
              "      <td>female</td>\n",
              "      <td>26.0</td>\n",
              "    </tr>\n",
              "    <tr>\n",
              "      <th>3</th>\n",
              "      <td>1</td>\n",
              "      <td>female</td>\n",
              "      <td>35.0</td>\n",
              "    </tr>\n",
              "    <tr>\n",
              "      <th>4</th>\n",
              "      <td>0</td>\n",
              "      <td>male</td>\n",
              "      <td>35.0</td>\n",
              "    </tr>\n",
              "  </tbody>\n",
              "</table>\n",
              "</div>"
            ],
            "text/plain": [
              "   Survived     Sex   Age\n",
              "0         0    male  22.0\n",
              "1         1  female  38.0\n",
              "2         1  female  26.0\n",
              "3         1  female  35.0\n",
              "4         0    male  35.0"
            ]
          },
          "metadata": {
            "tags": []
          },
          "execution_count": 189
        }
      ]
    },
    {
      "cell_type": "code",
      "metadata": {
        "id": "F6lyyZ9qgEPe",
        "colab_type": "code",
        "outputId": "d3f46e85-2125-4e66-9829-ad27b10ddff5",
        "colab": {
          "base_uri": "https://localhost:8080/",
          "height": 34
        }
      },
      "source": [
        "dfTrain.shape"
      ],
      "execution_count": 0,
      "outputs": [
        {
          "output_type": "execute_result",
          "data": {
            "text/plain": [
              "(891, 3)"
            ]
          },
          "metadata": {
            "tags": []
          },
          "execution_count": 190
        }
      ]
    },
    {
      "cell_type": "code",
      "metadata": {
        "id": "sEdV3vqagJsE",
        "colab_type": "code",
        "colab": {}
      },
      "source": [
        "dfTrain.Age = dfTrain.Age.astype(\"int64\")"
      ],
      "execution_count": 0,
      "outputs": []
    },
    {
      "cell_type": "code",
      "metadata": {
        "id": "ekNCU8qagRso",
        "colab_type": "code",
        "outputId": "51bb3813-8be2-4771-e974-1477b9a7b56d",
        "colab": {
          "base_uri": "https://localhost:8080/",
          "height": 85
        }
      },
      "source": [
        "dfTrain.dtypes"
      ],
      "execution_count": 0,
      "outputs": [
        {
          "output_type": "execute_result",
          "data": {
            "text/plain": [
              "Survived     int64\n",
              "Sex         object\n",
              "Age          int64\n",
              "dtype: object"
            ]
          },
          "metadata": {
            "tags": []
          },
          "execution_count": 192
        }
      ]
    },
    {
      "cell_type": "code",
      "metadata": {
        "id": "THTlpzvQgVv1",
        "colab_type": "code",
        "colab": {}
      },
      "source": [
        "df3 = dfTrain.iloc[:,1:]"
      ],
      "execution_count": 0,
      "outputs": []
    },
    {
      "cell_type": "code",
      "metadata": {
        "id": "c0wCquXb-d3I",
        "colab_type": "code",
        "colab": {}
      },
      "source": [
        "df4 = pd.get_dummies(df3.Sex)"
      ],
      "execution_count": 0,
      "outputs": []
    },
    {
      "cell_type": "code",
      "metadata": {
        "id": "woIl-tHX-unx",
        "colab_type": "code",
        "colab": {}
      },
      "source": [
        "train_x = pd.concat([df3,df4],axis=1)"
      ],
      "execution_count": 0,
      "outputs": []
    },
    {
      "cell_type": "code",
      "metadata": {
        "id": "TUKoC-sO-5fI",
        "colab_type": "code",
        "colab": {}
      },
      "source": [
        "train_x.drop([\"Sex\"],axis=1,inplace=True)"
      ],
      "execution_count": 0,
      "outputs": []
    },
    {
      "cell_type": "code",
      "metadata": {
        "id": "gbxpLoIlx2S-",
        "colab_type": "code",
        "outputId": "180ecdf4-f1ce-4155-9189-41cdebdee137",
        "colab": {
          "base_uri": "https://localhost:8080/",
          "height": 111
        }
      },
      "source": [
        "train_x.head(2)"
      ],
      "execution_count": 0,
      "outputs": [
        {
          "output_type": "execute_result",
          "data": {
            "text/html": [
              "<div>\n",
              "<style scoped>\n",
              "    .dataframe tbody tr th:only-of-type {\n",
              "        vertical-align: middle;\n",
              "    }\n",
              "\n",
              "    .dataframe tbody tr th {\n",
              "        vertical-align: top;\n",
              "    }\n",
              "\n",
              "    .dataframe thead th {\n",
              "        text-align: right;\n",
              "    }\n",
              "</style>\n",
              "<table border=\"1\" class=\"dataframe\">\n",
              "  <thead>\n",
              "    <tr style=\"text-align: right;\">\n",
              "      <th></th>\n",
              "      <th>Age</th>\n",
              "      <th>female</th>\n",
              "      <th>male</th>\n",
              "    </tr>\n",
              "  </thead>\n",
              "  <tbody>\n",
              "    <tr>\n",
              "      <th>0</th>\n",
              "      <td>22</td>\n",
              "      <td>0</td>\n",
              "      <td>1</td>\n",
              "    </tr>\n",
              "    <tr>\n",
              "      <th>1</th>\n",
              "      <td>38</td>\n",
              "      <td>1</td>\n",
              "      <td>0</td>\n",
              "    </tr>\n",
              "  </tbody>\n",
              "</table>\n",
              "</div>"
            ],
            "text/plain": [
              "   Age  female  male\n",
              "0   22       0     1\n",
              "1   38       1     0"
            ]
          },
          "metadata": {
            "tags": []
          },
          "execution_count": 197
        }
      ]
    },
    {
      "cell_type": "code",
      "metadata": {
        "id": "5MFG6729ySgY",
        "colab_type": "code",
        "colab": {}
      },
      "source": [
        "train_x = train_x.values"
      ],
      "execution_count": 0,
      "outputs": []
    },
    {
      "cell_type": "code",
      "metadata": {
        "id": "SZ4CczkCyXbi",
        "colab_type": "code",
        "outputId": "4d593412-cfc0-484d-dbe9-e0fdcbf15e68",
        "colab": {
          "base_uri": "https://localhost:8080/",
          "height": 136
        }
      },
      "source": [
        "train_x"
      ],
      "execution_count": 0,
      "outputs": [
        {
          "output_type": "execute_result",
          "data": {
            "text/plain": [
              "array([[22,  0,  1],\n",
              "       [38,  1,  0],\n",
              "       [26,  1,  0],\n",
              "       ...,\n",
              "       [29,  1,  0],\n",
              "       [26,  0,  1],\n",
              "       [32,  0,  1]])"
            ]
          },
          "metadata": {
            "tags": []
          },
          "execution_count": 199
        }
      ]
    },
    {
      "cell_type": "code",
      "metadata": {
        "id": "eH7eovC5gj3H",
        "colab_type": "code",
        "colab": {}
      },
      "source": [
        "train_y = dfTrain.iloc[:,0]"
      ],
      "execution_count": 0,
      "outputs": []
    },
    {
      "cell_type": "code",
      "metadata": {
        "id": "NUYKkujWgqkI",
        "colab_type": "code",
        "outputId": "e21e494a-0272-4b0a-86b7-b71ce0ee87f1",
        "colab": {
          "base_uri": "https://localhost:8080/",
          "height": 119
        }
      },
      "source": [
        "train_y.head()"
      ],
      "execution_count": 0,
      "outputs": [
        {
          "output_type": "execute_result",
          "data": {
            "text/plain": [
              "0    0\n",
              "1    1\n",
              "2    1\n",
              "3    1\n",
              "4    0\n",
              "Name: Survived, dtype: int64"
            ]
          },
          "metadata": {
            "tags": []
          },
          "execution_count": 201
        }
      ]
    },
    {
      "cell_type": "code",
      "metadata": {
        "id": "yjiNaVrqgsfa",
        "colab_type": "code",
        "outputId": "52af64be-e0f7-407d-ae30-81a35ad1951a",
        "colab": {
          "base_uri": "https://localhost:8080/",
          "height": 34
        }
      },
      "source": [
        "train_x.shape,train_y.shape"
      ],
      "execution_count": 0,
      "outputs": [
        {
          "output_type": "execute_result",
          "data": {
            "text/plain": [
              "((891, 3), (891,))"
            ]
          },
          "metadata": {
            "tags": []
          },
          "execution_count": 202
        }
      ]
    },
    {
      "cell_type": "code",
      "metadata": {
        "id": "uncMjLn9yigF",
        "colab_type": "code",
        "outputId": "3afd7228-140b-414d-bd55-8746537e8ba5",
        "colab": {
          "base_uri": "https://localhost:8080/",
          "height": 34
        }
      },
      "source": [
        "test_x.shape"
      ],
      "execution_count": 0,
      "outputs": [
        {
          "output_type": "execute_result",
          "data": {
            "text/plain": [
              "(418, 3)"
            ]
          },
          "metadata": {
            "tags": []
          },
          "execution_count": 203
        }
      ]
    },
    {
      "cell_type": "markdown",
      "metadata": {
        "id": "WUosWtNshdm2",
        "colab_type": "text"
      },
      "source": [
        "# Create Model"
      ]
    },
    {
      "cell_type": "code",
      "metadata": {
        "id": "-uu90pvghhLN",
        "colab_type": "code",
        "colab": {}
      },
      "source": [
        "from tensorflow.keras import models\n",
        "from tensorflow.keras import layers"
      ],
      "execution_count": 0,
      "outputs": []
    },
    {
      "cell_type": "code",
      "metadata": {
        "id": "CBRCwEifiAmI",
        "colab_type": "code",
        "colab": {}
      },
      "source": [
        "def build_model():\n",
        "  model = models.Sequential()\n",
        "  model.add(layers.Dense(100,input_dim = 3,activation=\"relu\"))\n",
        "  model.add(layers.Dense(1,activation=\"sigmoid\"))\n",
        "  model.compile(optimizer='Adam',loss='binary_crossentropy',metrics=['accuracy'])\n",
        "  return model"
      ],
      "execution_count": 0,
      "outputs": []
    },
    {
      "cell_type": "code",
      "metadata": {
        "id": "AADqxg62jpl6",
        "colab_type": "code",
        "colab": {}
      },
      "source": [
        "model = build_model()"
      ],
      "execution_count": 0,
      "outputs": []
    },
    {
      "cell_type": "code",
      "metadata": {
        "id": "tovOMJ9ikQX1",
        "colab_type": "code",
        "outputId": "462c071d-d730-4ffc-8f78-dd9ac1c02d30",
        "colab": {
          "base_uri": "https://localhost:8080/",
          "height": 34
        }
      },
      "source": [
        "model"
      ],
      "execution_count": 0,
      "outputs": [
        {
          "output_type": "execute_result",
          "data": {
            "text/plain": [
              "<tensorflow.python.keras.engine.sequential.Sequential at 0x7fab2dd02e80>"
            ]
          },
          "metadata": {
            "tags": []
          },
          "execution_count": 207
        }
      ]
    },
    {
      "cell_type": "code",
      "metadata": {
        "id": "zSg2TjTOk9Pn",
        "colab_type": "code",
        "outputId": "3546a7dc-c7d7-4439-94cd-b08b51cee1aa",
        "colab": {
          "base_uri": "https://localhost:8080/",
          "height": 34
        }
      },
      "source": [
        "print(type(train_x))"
      ],
      "execution_count": 0,
      "outputs": [
        {
          "output_type": "stream",
          "text": [
            "<class 'numpy.ndarray'>\n"
          ],
          "name": "stdout"
        }
      ]
    },
    {
      "cell_type": "code",
      "metadata": {
        "id": "3gmgS68C517b",
        "colab_type": "code",
        "colab": {}
      },
      "source": [
        "train_x = train_x.astype(\"int64\")"
      ],
      "execution_count": 0,
      "outputs": []
    },
    {
      "cell_type": "code",
      "metadata": {
        "id": "_pNlTbntzF_n",
        "colab_type": "code",
        "colab": {}
      },
      "source": [
        "train_y = np.asarray(train_y)"
      ],
      "execution_count": 0,
      "outputs": []
    },
    {
      "cell_type": "code",
      "metadata": {
        "id": "3FaK4nyy7aV3",
        "colab_type": "code",
        "colab": {}
      },
      "source": [
        "train_y = train_y.astype(\"int64\")"
      ],
      "execution_count": 0,
      "outputs": []
    },
    {
      "cell_type": "code",
      "metadata": {
        "id": "Ghi-cM55zf-S",
        "colab_type": "code",
        "outputId": "e78a7dd4-18e5-4ebe-abd0-17fc04cbc61b",
        "colab": {
          "base_uri": "https://localhost:8080/",
          "height": 34
        }
      },
      "source": [
        "print(type(train_y))"
      ],
      "execution_count": 0,
      "outputs": [
        {
          "output_type": "stream",
          "text": [
            "<class 'numpy.ndarray'>\n"
          ],
          "name": "stdout"
        }
      ]
    },
    {
      "cell_type": "code",
      "metadata": {
        "id": "F-a7Dpzl_mon",
        "colab_type": "code",
        "outputId": "0600252e-1aae-4db8-8984-6bce765ee22a",
        "colab": {
          "base_uri": "https://localhost:8080/",
          "height": 833
        }
      },
      "source": [
        "train_x,train_y"
      ],
      "execution_count": 0,
      "outputs": [
        {
          "output_type": "execute_result",
          "data": {
            "text/plain": [
              "(array([[22,  0,  1],\n",
              "        [38,  1,  0],\n",
              "        [26,  1,  0],\n",
              "        ...,\n",
              "        [29,  1,  0],\n",
              "        [26,  0,  1],\n",
              "        [32,  0,  1]]),\n",
              " array([0, 1, 1, 1, 0, 0, 0, 0, 1, 1, 1, 1, 0, 0, 0, 1, 0, 1, 0, 1, 0, 1,\n",
              "        1, 1, 0, 1, 0, 0, 1, 0, 0, 1, 1, 0, 0, 0, 1, 0, 0, 1, 0, 0, 0, 1,\n",
              "        1, 0, 0, 1, 0, 0, 0, 0, 1, 1, 0, 1, 1, 0, 1, 0, 0, 1, 0, 0, 0, 1,\n",
              "        1, 0, 1, 0, 0, 0, 0, 0, 1, 0, 0, 0, 1, 1, 0, 1, 1, 0, 1, 1, 0, 0,\n",
              "        1, 0, 0, 0, 0, 0, 0, 0, 0, 1, 1, 0, 0, 0, 0, 0, 0, 0, 1, 1, 0, 1,\n",
              "        0, 0, 0, 0, 0, 0, 0, 0, 0, 0, 0, 0, 0, 1, 0, 1, 0, 1, 1, 0, 0, 0,\n",
              "        0, 1, 0, 0, 1, 0, 0, 0, 0, 1, 1, 0, 0, 0, 1, 0, 0, 0, 0, 1, 0, 0,\n",
              "        0, 0, 1, 0, 0, 0, 0, 1, 0, 0, 0, 1, 1, 0, 0, 0, 0, 0, 1, 0, 0, 0,\n",
              "        0, 0, 0, 0, 0, 0, 0, 1, 1, 0, 1, 1, 0, 0, 1, 0, 1, 1, 1, 1, 0, 0,\n",
              "        1, 0, 0, 0, 0, 0, 1, 0, 0, 1, 1, 1, 0, 1, 0, 0, 0, 1, 1, 0, 1, 0,\n",
              "        1, 0, 0, 0, 1, 0, 1, 0, 0, 0, 1, 0, 0, 1, 0, 0, 0, 1, 0, 0, 0, 1,\n",
              "        0, 0, 0, 0, 0, 1, 1, 0, 0, 0, 0, 0, 0, 1, 1, 1, 1, 1, 0, 1, 0, 0,\n",
              "        0, 0, 0, 1, 1, 1, 0, 1, 1, 0, 1, 1, 0, 0, 0, 1, 0, 0, 0, 1, 0, 0,\n",
              "        1, 0, 1, 1, 1, 1, 0, 0, 0, 0, 0, 0, 1, 1, 1, 1, 0, 1, 0, 1, 1, 1,\n",
              "        0, 1, 1, 1, 0, 0, 0, 1, 1, 0, 1, 1, 0, 0, 1, 1, 0, 1, 0, 1, 1, 1,\n",
              "        1, 0, 0, 0, 1, 0, 0, 1, 1, 0, 1, 1, 0, 0, 0, 1, 1, 1, 1, 0, 0, 0,\n",
              "        0, 0, 0, 0, 1, 0, 1, 1, 0, 0, 0, 0, 0, 0, 1, 1, 1, 1, 1, 0, 0, 0,\n",
              "        0, 1, 1, 0, 0, 0, 1, 1, 0, 1, 0, 0, 0, 1, 0, 1, 1, 1, 0, 1, 1, 0,\n",
              "        0, 0, 0, 1, 1, 0, 0, 0, 0, 0, 0, 1, 0, 0, 0, 0, 1, 0, 1, 0, 1, 1,\n",
              "        0, 0, 0, 0, 0, 0, 0, 0, 1, 1, 0, 1, 1, 1, 1, 0, 0, 1, 0, 1, 0, 0,\n",
              "        1, 0, 0, 1, 1, 1, 1, 1, 1, 1, 0, 0, 0, 1, 0, 1, 0, 1, 1, 0, 1, 0,\n",
              "        0, 0, 0, 0, 0, 0, 0, 1, 0, 0, 1, 1, 0, 0, 0, 0, 0, 1, 0, 0, 0, 1,\n",
              "        1, 0, 1, 0, 0, 1, 0, 0, 0, 0, 0, 0, 1, 0, 0, 0, 0, 0, 0, 0, 1, 0,\n",
              "        1, 1, 0, 1, 1, 0, 1, 1, 0, 0, 1, 0, 1, 0, 1, 0, 0, 1, 0, 0, 1, 0,\n",
              "        0, 0, 1, 0, 0, 1, 0, 1, 0, 1, 0, 1, 1, 0, 0, 1, 0, 0, 1, 1, 0, 1,\n",
              "        1, 0, 0, 1, 1, 0, 1, 0, 1, 1, 0, 0, 0, 0, 0, 0, 0, 0, 0, 1, 1, 1,\n",
              "        1, 1, 0, 0, 1, 1, 0, 1, 1, 1, 0, 0, 0, 1, 0, 1, 0, 0, 0, 1, 0, 0,\n",
              "        0, 0, 1, 0, 0, 1, 1, 0, 0, 0, 1, 0, 0, 1, 1, 1, 0, 0, 1, 0, 0, 1,\n",
              "        0, 0, 1, 0, 0, 1, 1, 0, 0, 0, 0, 1, 0, 0, 1, 0, 1, 0, 0, 1, 0, 0,\n",
              "        0, 0, 0, 1, 0, 1, 1, 1, 0, 1, 0, 1, 0, 1, 0, 1, 0, 0, 0, 0, 0, 0,\n",
              "        1, 0, 0, 0, 1, 0, 0, 0, 0, 1, 1, 0, 0, 1, 0, 0, 0, 1, 0, 1, 0, 1,\n",
              "        0, 0, 0, 0, 0, 0, 0, 1, 1, 1, 1, 0, 0, 0, 0, 1, 0, 0, 1, 1, 0, 0,\n",
              "        0, 0, 1, 1, 1, 1, 1, 0, 1, 0, 0, 0, 1, 1, 0, 0, 1, 0, 0, 0, 1, 0,\n",
              "        1, 1, 0, 0, 1, 0, 0, 0, 0, 0, 0, 1, 0, 0, 1, 0, 1, 0, 1, 0, 0, 1,\n",
              "        0, 0, 1, 1, 0, 0, 1, 1, 0, 0, 0, 1, 0, 0, 1, 1, 0, 1, 0, 0, 0, 0,\n",
              "        0, 0, 0, 0, 1, 0, 0, 1, 0, 1, 1, 1, 0, 0, 0, 0, 1, 0, 1, 0, 0, 0,\n",
              "        0, 0, 0, 0, 1, 1, 0, 0, 0, 1, 1, 1, 1, 0, 0, 0, 0, 1, 0, 0, 0, 0,\n",
              "        0, 0, 0, 0, 0, 0, 1, 1, 0, 1, 0, 0, 0, 1, 1, 1, 1, 1, 0, 0, 0, 1,\n",
              "        0, 0, 1, 1, 0, 0, 1, 0, 0, 0, 0, 0, 0, 1, 0, 0, 0, 1, 0, 1, 1, 1,\n",
              "        1, 0, 0, 0, 1, 0, 0, 1, 1, 0, 0, 1, 0, 1, 0, 0, 1, 1, 0, 0, 0, 1,\n",
              "        1, 0, 0, 0, 0, 0, 0, 1, 0, 1, 0]))"
            ]
          },
          "metadata": {
            "tags": []
          },
          "execution_count": 213
        }
      ]
    },
    {
      "cell_type": "code",
      "metadata": {
        "id": "bmhbS-jA1N2X",
        "colab_type": "code",
        "outputId": "69a57b1c-6c09-4eb7-b01f-620cfb781d75",
        "colab": {
          "base_uri": "https://localhost:8080/",
          "height": 34
        }
      },
      "source": [
        "'''from tensorflow.keras.utils import to_categorical\n",
        "train_y = to_categorical(train_y)'''"
      ],
      "execution_count": 0,
      "outputs": [
        {
          "output_type": "execute_result",
          "data": {
            "text/plain": [
              "'from tensorflow.keras.utils import to_categorical\\ntrain_y = to_categorical(train_y)'"
            ]
          },
          "metadata": {
            "tags": []
          },
          "execution_count": 214
        }
      ]
    },
    {
      "cell_type": "code",
      "metadata": {
        "id": "eyi-i-rq1s0v",
        "colab_type": "code",
        "outputId": "98b24ae7-9f5a-481f-f782-37cf8bb798aa",
        "colab": {
          "base_uri": "https://localhost:8080/",
          "height": 442
        }
      },
      "source": [
        "print(train_y)"
      ],
      "execution_count": 0,
      "outputs": [
        {
          "output_type": "stream",
          "text": [
            "[0 1 1 1 0 0 0 0 1 1 1 1 0 0 0 1 0 1 0 1 0 1 1 1 0 1 0 0 1 0 0 1 1 0 0 0 1\n",
            " 0 0 1 0 0 0 1 1 0 0 1 0 0 0 0 1 1 0 1 1 0 1 0 0 1 0 0 0 1 1 0 1 0 0 0 0 0\n",
            " 1 0 0 0 1 1 0 1 1 0 1 1 0 0 1 0 0 0 0 0 0 0 0 1 1 0 0 0 0 0 0 0 1 1 0 1 0\n",
            " 0 0 0 0 0 0 0 0 0 0 0 0 1 0 1 0 1 1 0 0 0 0 1 0 0 1 0 0 0 0 1 1 0 0 0 1 0\n",
            " 0 0 0 1 0 0 0 0 1 0 0 0 0 1 0 0 0 1 1 0 0 0 0 0 1 0 0 0 0 0 0 0 0 0 0 1 1\n",
            " 0 1 1 0 0 1 0 1 1 1 1 0 0 1 0 0 0 0 0 1 0 0 1 1 1 0 1 0 0 0 1 1 0 1 0 1 0\n",
            " 0 0 1 0 1 0 0 0 1 0 0 1 0 0 0 1 0 0 0 1 0 0 0 0 0 1 1 0 0 0 0 0 0 1 1 1 1\n",
            " 1 0 1 0 0 0 0 0 1 1 1 0 1 1 0 1 1 0 0 0 1 0 0 0 1 0 0 1 0 1 1 1 1 0 0 0 0\n",
            " 0 0 1 1 1 1 0 1 0 1 1 1 0 1 1 1 0 0 0 1 1 0 1 1 0 0 1 1 0 1 0 1 1 1 1 0 0\n",
            " 0 1 0 0 1 1 0 1 1 0 0 0 1 1 1 1 0 0 0 0 0 0 0 1 0 1 1 0 0 0 0 0 0 1 1 1 1\n",
            " 1 0 0 0 0 1 1 0 0 0 1 1 0 1 0 0 0 1 0 1 1 1 0 1 1 0 0 0 0 1 1 0 0 0 0 0 0\n",
            " 1 0 0 0 0 1 0 1 0 1 1 0 0 0 0 0 0 0 0 1 1 0 1 1 1 1 0 0 1 0 1 0 0 1 0 0 1\n",
            " 1 1 1 1 1 1 0 0 0 1 0 1 0 1 1 0 1 0 0 0 0 0 0 0 0 1 0 0 1 1 0 0 0 0 0 1 0\n",
            " 0 0 1 1 0 1 0 0 1 0 0 0 0 0 0 1 0 0 0 0 0 0 0 1 0 1 1 0 1 1 0 1 1 0 0 1 0\n",
            " 1 0 1 0 0 1 0 0 1 0 0 0 1 0 0 1 0 1 0 1 0 1 1 0 0 1 0 0 1 1 0 1 1 0 0 1 1\n",
            " 0 1 0 1 1 0 0 0 0 0 0 0 0 0 1 1 1 1 1 0 0 1 1 0 1 1 1 0 0 0 1 0 1 0 0 0 1\n",
            " 0 0 0 0 1 0 0 1 1 0 0 0 1 0 0 1 1 1 0 0 1 0 0 1 0 0 1 0 0 1 1 0 0 0 0 1 0\n",
            " 0 1 0 1 0 0 1 0 0 0 0 0 1 0 1 1 1 0 1 0 1 0 1 0 1 0 0 0 0 0 0 1 0 0 0 1 0\n",
            " 0 0 0 1 1 0 0 1 0 0 0 1 0 1 0 1 0 0 0 0 0 0 0 1 1 1 1 0 0 0 0 1 0 0 1 1 0\n",
            " 0 0 0 1 1 1 1 1 0 1 0 0 0 1 1 0 0 1 0 0 0 1 0 1 1 0 0 1 0 0 0 0 0 0 1 0 0\n",
            " 1 0 1 0 1 0 0 1 0 0 1 1 0 0 1 1 0 0 0 1 0 0 1 1 0 1 0 0 0 0 0 0 0 0 1 0 0\n",
            " 1 0 1 1 1 0 0 0 0 1 0 1 0 0 0 0 0 0 0 1 1 0 0 0 1 1 1 1 0 0 0 0 1 0 0 0 0\n",
            " 0 0 0 0 0 0 1 1 0 1 0 0 0 1 1 1 1 1 0 0 0 1 0 0 1 1 0 0 1 0 0 0 0 0 0 1 0\n",
            " 0 0 1 0 1 1 1 1 0 0 0 1 0 0 1 1 0 0 1 0 1 0 0 1 1 0 0 0 1 1 0 0 0 0 0 0 1\n",
            " 0 1 0]\n"
          ],
          "name": "stdout"
        }
      ]
    },
    {
      "cell_type": "code",
      "metadata": {
        "id": "Y5M4HQEICxML",
        "colab_type": "code",
        "outputId": "a5c4000b-c424-4c7d-bf42-913530b84040",
        "colab": {
          "base_uri": "https://localhost:8080/",
          "height": 34
        }
      },
      "source": [
        "train_y.shape"
      ],
      "execution_count": 0,
      "outputs": [
        {
          "output_type": "execute_result",
          "data": {
            "text/plain": [
              "(891,)"
            ]
          },
          "metadata": {
            "tags": []
          },
          "execution_count": 216
        }
      ]
    },
    {
      "cell_type": "code",
      "metadata": {
        "id": "RkKuajh5C5Sq",
        "colab_type": "code",
        "colab": {}
      },
      "source": [
        "#train_y.reshape(1,891)"
      ],
      "execution_count": 0,
      "outputs": []
    },
    {
      "cell_type": "markdown",
      "metadata": {
        "id": "BjjjOyaq5W-l",
        "colab_type": "text"
      },
      "source": [
        "# K-Fold Method"
      ]
    },
    {
      "cell_type": "code",
      "metadata": {
        "id": "PixrC4ygAz_u",
        "colab_type": "code",
        "outputId": "e724be8a-975d-479f-e726-1c57d35cf15b",
        "colab": {
          "base_uri": "https://localhost:8080/",
          "height": 34
        }
      },
      "source": [
        "'''from keras.utils import to_categorical\n",
        "df5 = to_categorical(train_x[:,0])'''"
      ],
      "execution_count": 0,
      "outputs": [
        {
          "output_type": "execute_result",
          "data": {
            "text/plain": [
              "'from keras.utils import to_categorical\\ndf5 = to_categorical(train_x[:,0])'"
            ]
          },
          "metadata": {
            "tags": []
          },
          "execution_count": 137
        }
      ]
    },
    {
      "cell_type": "code",
      "metadata": {
        "id": "_gfV5jTUAdRa",
        "colab_type": "code",
        "outputId": "5170fdc3-f3b7-456c-e33c-2d0ede779fa3",
        "colab": {
          "base_uri": "https://localhost:8080/",
          "height": 34
        }
      },
      "source": [
        "'''df5 = df5.astype('int64')'''"
      ],
      "execution_count": 0,
      "outputs": [
        {
          "output_type": "execute_result",
          "data": {
            "text/plain": [
              "\"df5 = df5.astype('int64')\""
            ]
          },
          "metadata": {
            "tags": []
          },
          "execution_count": 138
        }
      ]
    },
    {
      "cell_type": "code",
      "metadata": {
        "id": "H9ESZCV46lg4",
        "colab_type": "code",
        "colab": {}
      },
      "source": [
        "#df5"
      ],
      "execution_count": 0,
      "outputs": []
    },
    {
      "cell_type": "code",
      "metadata": {
        "id": "Z2Qw6TqxByfO",
        "colab_type": "code",
        "colab": {}
      },
      "source": [
        "#df6 = train_x[:,0]"
      ],
      "execution_count": 0,
      "outputs": []
    },
    {
      "cell_type": "code",
      "metadata": {
        "id": "q3_782t0B_er",
        "colab_type": "code",
        "colab": {}
      },
      "source": [
        ""
      ],
      "execution_count": 0,
      "outputs": []
    },
    {
      "cell_type": "code",
      "metadata": {
        "id": "x2A0ZOg1z1QD",
        "colab_type": "code",
        "outputId": "86aea71e-f72d-4631-a8ab-4bbeba46bda4",
        "colab": {
          "base_uri": "https://localhost:8080/",
          "height": 1000
        }
      },
      "source": [
        "model.fit(train_x , train_y,epochs=200,batch_size=10)"
      ],
      "execution_count": 0,
      "outputs": [
        {
          "output_type": "stream",
          "text": [
            "Train on 891 samples\n",
            "Epoch 1/200\n",
            "891/891 [==============================] - 1s 566us/sample - loss: 0.6421 - accuracy: 0.6431\n",
            "Epoch 2/200\n",
            "891/891 [==============================] - 0s 195us/sample - loss: 0.5718 - accuracy: 0.7441\n",
            "Epoch 3/200\n",
            "891/891 [==============================] - 0s 201us/sample - loss: 0.5420 - accuracy: 0.7632\n",
            "Epoch 4/200\n",
            "891/891 [==============================] - 0s 215us/sample - loss: 0.5174 - accuracy: 0.7901\n",
            "Epoch 5/200\n",
            "891/891 [==============================] - 0s 198us/sample - loss: 0.5184 - accuracy: 0.7868\n",
            "Epoch 6/200\n",
            "891/891 [==============================] - 0s 193us/sample - loss: 0.5150 - accuracy: 0.7912\n",
            "Epoch 7/200\n",
            "891/891 [==============================] - 0s 196us/sample - loss: 0.5048 - accuracy: 0.7912\n",
            "Epoch 8/200\n",
            "891/891 [==============================] - 0s 208us/sample - loss: 0.5053 - accuracy: 0.7935\n",
            "Epoch 9/200\n",
            "891/891 [==============================] - 0s 200us/sample - loss: 0.5096 - accuracy: 0.7924\n",
            "Epoch 10/200\n",
            "891/891 [==============================] - 0s 203us/sample - loss: 0.5080 - accuracy: 0.7912\n",
            "Epoch 11/200\n",
            "891/891 [==============================] - 0s 191us/sample - loss: 0.5343 - accuracy: 0.7767\n",
            "Epoch 12/200\n",
            "891/891 [==============================] - 0s 200us/sample - loss: 0.5015 - accuracy: 0.7901\n",
            "Epoch 13/200\n",
            "891/891 [==============================] - 0s 202us/sample - loss: 0.5123 - accuracy: 0.7890\n",
            "Epoch 14/200\n",
            "891/891 [==============================] - 0s 198us/sample - loss: 0.5020 - accuracy: 0.7901\n",
            "Epoch 15/200\n",
            "891/891 [==============================] - 0s 205us/sample - loss: 0.5137 - accuracy: 0.7912\n",
            "Epoch 16/200\n",
            "891/891 [==============================] - 0s 204us/sample - loss: 0.5054 - accuracy: 0.7879\n",
            "Epoch 17/200\n",
            "891/891 [==============================] - 0s 205us/sample - loss: 0.5106 - accuracy: 0.7924\n",
            "Epoch 18/200\n",
            "891/891 [==============================] - 0s 206us/sample - loss: 0.5081 - accuracy: 0.7912\n",
            "Epoch 19/200\n",
            "891/891 [==============================] - 0s 222us/sample - loss: 0.4996 - accuracy: 0.7912\n",
            "Epoch 20/200\n",
            "891/891 [==============================] - 0s 217us/sample - loss: 0.5080 - accuracy: 0.7912\n",
            "Epoch 21/200\n",
            "891/891 [==============================] - 0s 220us/sample - loss: 0.5089 - accuracy: 0.7868\n",
            "Epoch 22/200\n",
            "891/891 [==============================] - 0s 197us/sample - loss: 0.5020 - accuracy: 0.7890\n",
            "Epoch 23/200\n",
            "891/891 [==============================] - 0s 206us/sample - loss: 0.5126 - accuracy: 0.7868\n",
            "Epoch 24/200\n",
            "891/891 [==============================] - 0s 200us/sample - loss: 0.5000 - accuracy: 0.7935\n",
            "Epoch 25/200\n",
            "891/891 [==============================] - 0s 201us/sample - loss: 0.5125 - accuracy: 0.7890\n",
            "Epoch 26/200\n",
            "891/891 [==============================] - 0s 197us/sample - loss: 0.5039 - accuracy: 0.7912\n",
            "Epoch 27/200\n",
            "891/891 [==============================] - 0s 202us/sample - loss: 0.5028 - accuracy: 0.7935\n",
            "Epoch 28/200\n",
            "891/891 [==============================] - 0s 196us/sample - loss: 0.5131 - accuracy: 0.7946\n",
            "Epoch 29/200\n",
            "891/891 [==============================] - 0s 198us/sample - loss: 0.5097 - accuracy: 0.7890\n",
            "Epoch 30/200\n",
            "891/891 [==============================] - 0s 214us/sample - loss: 0.5081 - accuracy: 0.7946\n",
            "Epoch 31/200\n",
            "891/891 [==============================] - 0s 194us/sample - loss: 0.5084 - accuracy: 0.7879\n",
            "Epoch 32/200\n",
            "891/891 [==============================] - 0s 189us/sample - loss: 0.5040 - accuracy: 0.7912\n",
            "Epoch 33/200\n",
            "891/891 [==============================] - 0s 197us/sample - loss: 0.5018 - accuracy: 0.7912\n",
            "Epoch 34/200\n",
            "891/891 [==============================] - 0s 192us/sample - loss: 0.5001 - accuracy: 0.7946\n",
            "Epoch 35/200\n",
            "891/891 [==============================] - 0s 194us/sample - loss: 0.5065 - accuracy: 0.7868\n",
            "Epoch 36/200\n",
            "891/891 [==============================] - 0s 198us/sample - loss: 0.5029 - accuracy: 0.7957\n",
            "Epoch 37/200\n",
            "891/891 [==============================] - 0s 196us/sample - loss: 0.5046 - accuracy: 0.7924\n",
            "Epoch 38/200\n",
            "891/891 [==============================] - 0s 200us/sample - loss: 0.5027 - accuracy: 0.7924\n",
            "Epoch 39/200\n",
            "891/891 [==============================] - 0s 209us/sample - loss: 0.5076 - accuracy: 0.7912\n",
            "Epoch 40/200\n",
            "891/891 [==============================] - 0s 197us/sample - loss: 0.5029 - accuracy: 0.7946\n",
            "Epoch 41/200\n",
            "891/891 [==============================] - 0s 208us/sample - loss: 0.5072 - accuracy: 0.7901\n",
            "Epoch 42/200\n",
            "891/891 [==============================] - 0s 197us/sample - loss: 0.5034 - accuracy: 0.7946\n",
            "Epoch 43/200\n",
            "891/891 [==============================] - 0s 192us/sample - loss: 0.5123 - accuracy: 0.7957\n",
            "Epoch 44/200\n",
            "891/891 [==============================] - 0s 199us/sample - loss: 0.4991 - accuracy: 0.7969\n",
            "Epoch 45/200\n",
            "891/891 [==============================] - 0s 232us/sample - loss: 0.5067 - accuracy: 0.7946\n",
            "Epoch 46/200\n",
            "891/891 [==============================] - 0s 214us/sample - loss: 0.4964 - accuracy: 0.7957\n",
            "Epoch 47/200\n",
            "891/891 [==============================] - 0s 205us/sample - loss: 0.5048 - accuracy: 0.7912\n",
            "Epoch 48/200\n",
            "891/891 [==============================] - 0s 200us/sample - loss: 0.5063 - accuracy: 0.7946\n",
            "Epoch 49/200\n",
            "891/891 [==============================] - 0s 212us/sample - loss: 0.5003 - accuracy: 0.7957\n",
            "Epoch 50/200\n",
            "891/891 [==============================] - 0s 223us/sample - loss: 0.5087 - accuracy: 0.7890\n",
            "Epoch 51/200\n",
            "891/891 [==============================] - 0s 205us/sample - loss: 0.5063 - accuracy: 0.7924\n",
            "Epoch 52/200\n",
            "891/891 [==============================] - 0s 199us/sample - loss: 0.5061 - accuracy: 0.7946\n",
            "Epoch 53/200\n",
            "891/891 [==============================] - 0s 201us/sample - loss: 0.5052 - accuracy: 0.7957\n",
            "Epoch 54/200\n",
            "891/891 [==============================] - 0s 221us/sample - loss: 0.5053 - accuracy: 0.7912\n",
            "Epoch 55/200\n",
            "891/891 [==============================] - 0s 208us/sample - loss: 0.4987 - accuracy: 0.7935\n",
            "Epoch 56/200\n",
            "891/891 [==============================] - 0s 201us/sample - loss: 0.4970 - accuracy: 0.7969\n",
            "Epoch 57/200\n",
            "891/891 [==============================] - 0s 199us/sample - loss: 0.5029 - accuracy: 0.7957\n",
            "Epoch 58/200\n",
            "891/891 [==============================] - 0s 203us/sample - loss: 0.5013 - accuracy: 0.7946\n",
            "Epoch 59/200\n",
            "891/891 [==============================] - 0s 183us/sample - loss: 0.4976 - accuracy: 0.7935\n",
            "Epoch 60/200\n",
            "891/891 [==============================] - 0s 173us/sample - loss: 0.4994 - accuracy: 0.7935\n",
            "Epoch 61/200\n",
            "891/891 [==============================] - 0s 186us/sample - loss: 0.5009 - accuracy: 0.7946\n",
            "Epoch 62/200\n",
            "891/891 [==============================] - 0s 199us/sample - loss: 0.5053 - accuracy: 0.7957\n",
            "Epoch 63/200\n",
            "891/891 [==============================] - 0s 206us/sample - loss: 0.4988 - accuracy: 0.7901\n",
            "Epoch 64/200\n",
            "891/891 [==============================] - 0s 198us/sample - loss: 0.4986 - accuracy: 0.7935\n",
            "Epoch 65/200\n",
            "891/891 [==============================] - 0s 191us/sample - loss: 0.4989 - accuracy: 0.7957\n",
            "Epoch 66/200\n",
            "891/891 [==============================] - 0s 199us/sample - loss: 0.5031 - accuracy: 0.7969\n",
            "Epoch 67/200\n",
            "891/891 [==============================] - 0s 201us/sample - loss: 0.5042 - accuracy: 0.7924\n",
            "Epoch 68/200\n",
            "891/891 [==============================] - 0s 197us/sample - loss: 0.5052 - accuracy: 0.7946\n",
            "Epoch 69/200\n",
            "891/891 [==============================] - 0s 192us/sample - loss: 0.4971 - accuracy: 0.7946\n",
            "Epoch 70/200\n",
            "891/891 [==============================] - 0s 213us/sample - loss: 0.5167 - accuracy: 0.7901\n",
            "Epoch 71/200\n",
            "891/891 [==============================] - 0s 208us/sample - loss: 0.5311 - accuracy: 0.7834\n",
            "Epoch 72/200\n",
            "891/891 [==============================] - 0s 200us/sample - loss: 0.5054 - accuracy: 0.7935\n",
            "Epoch 73/200\n",
            "891/891 [==============================] - 0s 203us/sample - loss: 0.5027 - accuracy: 0.7935\n",
            "Epoch 74/200\n",
            "891/891 [==============================] - 0s 207us/sample - loss: 0.4963 - accuracy: 0.7957\n",
            "Epoch 75/200\n",
            "891/891 [==============================] - 0s 201us/sample - loss: 0.5006 - accuracy: 0.7957\n",
            "Epoch 76/200\n",
            "891/891 [==============================] - 0s 215us/sample - loss: 0.4968 - accuracy: 0.7957\n",
            "Epoch 77/200\n",
            "891/891 [==============================] - 0s 208us/sample - loss: 0.4918 - accuracy: 0.7924\n",
            "Epoch 78/200\n",
            "891/891 [==============================] - 0s 201us/sample - loss: 0.4951 - accuracy: 0.7957\n",
            "Epoch 79/200\n",
            "891/891 [==============================] - 0s 200us/sample - loss: 0.5007 - accuracy: 0.7946\n",
            "Epoch 80/200\n",
            "891/891 [==============================] - 0s 230us/sample - loss: 0.5083 - accuracy: 0.7946\n",
            "Epoch 81/200\n",
            "891/891 [==============================] - 0s 199us/sample - loss: 0.5053 - accuracy: 0.7924\n",
            "Epoch 82/200\n",
            "891/891 [==============================] - 0s 206us/sample - loss: 0.5024 - accuracy: 0.7969\n",
            "Epoch 83/200\n",
            "891/891 [==============================] - 0s 207us/sample - loss: 0.4973 - accuracy: 0.7912\n",
            "Epoch 84/200\n",
            "891/891 [==============================] - 0s 195us/sample - loss: 0.5020 - accuracy: 0.7980\n",
            "Epoch 85/200\n",
            "891/891 [==============================] - 0s 202us/sample - loss: 0.4956 - accuracy: 0.7935\n",
            "Epoch 86/200\n",
            "891/891 [==============================] - 0s 196us/sample - loss: 0.4997 - accuracy: 0.7991\n",
            "Epoch 87/200\n",
            "891/891 [==============================] - 0s 204us/sample - loss: 0.4988 - accuracy: 0.7924\n",
            "Epoch 88/200\n",
            "891/891 [==============================] - 0s 216us/sample - loss: 0.5064 - accuracy: 0.7980\n",
            "Epoch 89/200\n",
            "891/891 [==============================] - 0s 197us/sample - loss: 0.4956 - accuracy: 0.7935\n",
            "Epoch 90/200\n",
            "891/891 [==============================] - 0s 221us/sample - loss: 0.4953 - accuracy: 0.7969\n",
            "Epoch 91/200\n",
            "891/891 [==============================] - 0s 226us/sample - loss: 0.4968 - accuracy: 0.7957\n",
            "Epoch 92/200\n",
            "891/891 [==============================] - 0s 218us/sample - loss: 0.4984 - accuracy: 0.7980\n",
            "Epoch 93/200\n",
            "891/891 [==============================] - 0s 213us/sample - loss: 0.5020 - accuracy: 0.7957\n",
            "Epoch 94/200\n",
            "891/891 [==============================] - 0s 220us/sample - loss: 0.4957 - accuracy: 0.7969\n",
            "Epoch 95/200\n",
            "891/891 [==============================] - 0s 211us/sample - loss: 0.5079 - accuracy: 0.7901\n",
            "Epoch 96/200\n",
            "891/891 [==============================] - 0s 208us/sample - loss: 0.5054 - accuracy: 0.7924\n",
            "Epoch 97/200\n",
            "891/891 [==============================] - 0s 207us/sample - loss: 0.4977 - accuracy: 0.7980\n",
            "Epoch 98/200\n",
            "891/891 [==============================] - 0s 204us/sample - loss: 0.5021 - accuracy: 0.7991\n",
            "Epoch 99/200\n",
            "891/891 [==============================] - 0s 214us/sample - loss: 0.4957 - accuracy: 0.7969\n",
            "Epoch 100/200\n",
            "891/891 [==============================] - 0s 208us/sample - loss: 0.5004 - accuracy: 0.7946\n",
            "Epoch 101/200\n",
            "891/891 [==============================] - 0s 210us/sample - loss: 0.4945 - accuracy: 0.7969\n",
            "Epoch 102/200\n",
            "891/891 [==============================] - 0s 202us/sample - loss: 0.5032 - accuracy: 0.7957\n",
            "Epoch 103/200\n",
            "891/891 [==============================] - 0s 208us/sample - loss: 0.5043 - accuracy: 0.7991\n",
            "Epoch 104/200\n",
            "891/891 [==============================] - 0s 196us/sample - loss: 0.5014 - accuracy: 0.7980\n",
            "Epoch 105/200\n",
            "891/891 [==============================] - 0s 191us/sample - loss: 0.4984 - accuracy: 0.7980\n",
            "Epoch 106/200\n",
            "891/891 [==============================] - 0s 202us/sample - loss: 0.5032 - accuracy: 0.7946\n",
            "Epoch 107/200\n",
            "891/891 [==============================] - 0s 202us/sample - loss: 0.4981 - accuracy: 0.7980\n",
            "Epoch 108/200\n",
            "891/891 [==============================] - 0s 189us/sample - loss: 0.5014 - accuracy: 0.7980\n",
            "Epoch 109/200\n",
            "891/891 [==============================] - 0s 197us/sample - loss: 0.4994 - accuracy: 0.7969\n",
            "Epoch 110/200\n",
            "891/891 [==============================] - 0s 209us/sample - loss: 0.4981 - accuracy: 0.7946\n",
            "Epoch 111/200\n",
            "891/891 [==============================] - 0s 181us/sample - loss: 0.4949 - accuracy: 0.7980\n",
            "Epoch 112/200\n",
            "891/891 [==============================] - 0s 197us/sample - loss: 0.4994 - accuracy: 0.7969\n",
            "Epoch 113/200\n",
            "891/891 [==============================] - 0s 182us/sample - loss: 0.4940 - accuracy: 0.7935\n",
            "Epoch 114/200\n",
            "891/891 [==============================] - 0s 181us/sample - loss: 0.5051 - accuracy: 0.7935\n",
            "Epoch 115/200\n",
            "891/891 [==============================] - 0s 197us/sample - loss: 0.4956 - accuracy: 0.7969\n",
            "Epoch 116/200\n",
            "891/891 [==============================] - 0s 189us/sample - loss: 0.5013 - accuracy: 0.7980\n",
            "Epoch 117/200\n",
            "891/891 [==============================] - 0s 218us/sample - loss: 0.4938 - accuracy: 0.7980\n",
            "Epoch 118/200\n",
            "891/891 [==============================] - 0s 209us/sample - loss: 0.5054 - accuracy: 0.7957\n",
            "Epoch 119/200\n",
            "891/891 [==============================] - 0s 198us/sample - loss: 0.5058 - accuracy: 0.7946\n",
            "Epoch 120/200\n",
            "891/891 [==============================] - 0s 217us/sample - loss: 0.5061 - accuracy: 0.7924\n",
            "Epoch 121/200\n",
            "891/891 [==============================] - 0s 216us/sample - loss: 0.4971 - accuracy: 0.7969\n",
            "Epoch 122/200\n",
            "891/891 [==============================] - 0s 208us/sample - loss: 0.5040 - accuracy: 0.7980\n",
            "Epoch 123/200\n",
            "891/891 [==============================] - 0s 232us/sample - loss: 0.4972 - accuracy: 0.7980\n",
            "Epoch 124/200\n",
            "891/891 [==============================] - 0s 210us/sample - loss: 0.4992 - accuracy: 0.7957\n",
            "Epoch 125/200\n",
            "891/891 [==============================] - 0s 218us/sample - loss: 0.4979 - accuracy: 0.7980\n",
            "Epoch 126/200\n",
            "891/891 [==============================] - 0s 226us/sample - loss: 0.5062 - accuracy: 0.7980\n",
            "Epoch 127/200\n",
            "891/891 [==============================] - 0s 239us/sample - loss: 0.5054 - accuracy: 0.7935\n",
            "Epoch 128/200\n",
            "891/891 [==============================] - 0s 227us/sample - loss: 0.5049 - accuracy: 0.7946\n",
            "Epoch 129/200\n",
            "891/891 [==============================] - 0s 244us/sample - loss: 0.5017 - accuracy: 0.7969\n",
            "Epoch 130/200\n",
            "891/891 [==============================] - 0s 234us/sample - loss: 0.4997 - accuracy: 0.7969\n",
            "Epoch 131/200\n",
            "891/891 [==============================] - 0s 239us/sample - loss: 0.4961 - accuracy: 0.7980\n",
            "Epoch 132/200\n",
            "891/891 [==============================] - 0s 242us/sample - loss: 0.4975 - accuracy: 0.7957\n",
            "Epoch 133/200\n",
            "891/891 [==============================] - 0s 220us/sample - loss: 0.4962 - accuracy: 0.7969\n",
            "Epoch 134/200\n",
            "891/891 [==============================] - 0s 256us/sample - loss: 0.4993 - accuracy: 0.7969\n",
            "Epoch 135/200\n",
            "891/891 [==============================] - 0s 228us/sample - loss: 0.4986 - accuracy: 0.7957\n",
            "Epoch 136/200\n",
            "891/891 [==============================] - 0s 231us/sample - loss: 0.4955 - accuracy: 0.7912\n",
            "Epoch 137/200\n",
            "891/891 [==============================] - 0s 226us/sample - loss: 0.5013 - accuracy: 0.7969\n",
            "Epoch 138/200\n",
            "891/891 [==============================] - 0s 229us/sample - loss: 0.4965 - accuracy: 0.7969\n",
            "Epoch 139/200\n",
            "891/891 [==============================] - 0s 226us/sample - loss: 0.4997 - accuracy: 0.7969\n",
            "Epoch 140/200\n",
            "891/891 [==============================] - 0s 252us/sample - loss: 0.4951 - accuracy: 0.7957\n",
            "Epoch 141/200\n",
            "891/891 [==============================] - 0s 247us/sample - loss: 0.4958 - accuracy: 0.7969\n",
            "Epoch 142/200\n",
            "891/891 [==============================] - 0s 232us/sample - loss: 0.4980 - accuracy: 0.7957\n",
            "Epoch 143/200\n",
            "891/891 [==============================] - 0s 227us/sample - loss: 0.5021 - accuracy: 0.7980\n",
            "Epoch 144/200\n",
            "891/891 [==============================] - 0s 220us/sample - loss: 0.4940 - accuracy: 0.7969\n",
            "Epoch 145/200\n",
            "891/891 [==============================] - 0s 236us/sample - loss: 0.5015 - accuracy: 0.7969\n",
            "Epoch 146/200\n",
            "891/891 [==============================] - 0s 228us/sample - loss: 0.4971 - accuracy: 0.7957\n",
            "Epoch 147/200\n",
            "891/891 [==============================] - 0s 250us/sample - loss: 0.5023 - accuracy: 0.7969\n",
            "Epoch 148/200\n",
            "891/891 [==============================] - 0s 242us/sample - loss: 0.5063 - accuracy: 0.7957\n",
            "Epoch 149/200\n",
            "891/891 [==============================] - 0s 261us/sample - loss: 0.4972 - accuracy: 0.7980\n",
            "Epoch 150/200\n",
            "891/891 [==============================] - 0s 222us/sample - loss: 0.4965 - accuracy: 0.7957\n",
            "Epoch 151/200\n",
            "891/891 [==============================] - 0s 230us/sample - loss: 0.4966 - accuracy: 0.7969\n",
            "Epoch 152/200\n",
            "891/891 [==============================] - 0s 235us/sample - loss: 0.4987 - accuracy: 0.7969\n",
            "Epoch 153/200\n",
            "891/891 [==============================] - 0s 243us/sample - loss: 0.4981 - accuracy: 0.7991\n",
            "Epoch 154/200\n",
            "891/891 [==============================] - 0s 247us/sample - loss: 0.4951 - accuracy: 0.7969\n",
            "Epoch 155/200\n",
            "891/891 [==============================] - 0s 243us/sample - loss: 0.5016 - accuracy: 0.7957\n",
            "Epoch 156/200\n",
            "891/891 [==============================] - 0s 238us/sample - loss: 0.5116 - accuracy: 0.7991\n",
            "Epoch 157/200\n",
            "891/891 [==============================] - 0s 218us/sample - loss: 0.5085 - accuracy: 0.7924\n",
            "Epoch 158/200\n",
            "891/891 [==============================] - 0s 217us/sample - loss: 0.4987 - accuracy: 0.7969\n",
            "Epoch 159/200\n",
            "891/891 [==============================] - 0s 224us/sample - loss: 0.4984 - accuracy: 0.7969\n",
            "Epoch 160/200\n",
            "891/891 [==============================] - 0s 241us/sample - loss: 0.5000 - accuracy: 0.7980\n",
            "Epoch 161/200\n",
            "891/891 [==============================] - 0s 249us/sample - loss: 0.5036 - accuracy: 0.7980\n",
            "Epoch 162/200\n",
            "891/891 [==============================] - 0s 225us/sample - loss: 0.4951 - accuracy: 0.7957\n",
            "Epoch 163/200\n",
            "891/891 [==============================] - 0s 229us/sample - loss: 0.5003 - accuracy: 0.7980\n",
            "Epoch 164/200\n",
            "891/891 [==============================] - 0s 221us/sample - loss: 0.4958 - accuracy: 0.7969\n",
            "Epoch 165/200\n",
            "891/891 [==============================] - 0s 227us/sample - loss: 0.5101 - accuracy: 0.7969\n",
            "Epoch 166/200\n",
            "891/891 [==============================] - 0s 223us/sample - loss: 0.4944 - accuracy: 0.7969\n",
            "Epoch 167/200\n",
            "891/891 [==============================] - 0s 253us/sample - loss: 0.4998 - accuracy: 0.7969\n",
            "Epoch 168/200\n",
            "891/891 [==============================] - 0s 236us/sample - loss: 0.5014 - accuracy: 0.7969\n",
            "Epoch 169/200\n",
            "891/891 [==============================] - 0s 218us/sample - loss: 0.4965 - accuracy: 0.7957\n",
            "Epoch 170/200\n",
            "891/891 [==============================] - 0s 204us/sample - loss: 0.4948 - accuracy: 0.7957\n",
            "Epoch 171/200\n",
            "891/891 [==============================] - 0s 199us/sample - loss: 0.5007 - accuracy: 0.7969\n",
            "Epoch 172/200\n",
            "891/891 [==============================] - 0s 201us/sample - loss: 0.4969 - accuracy: 0.7969\n",
            "Epoch 173/200\n",
            "891/891 [==============================] - 0s 206us/sample - loss: 0.5002 - accuracy: 0.7957\n",
            "Epoch 174/200\n",
            "891/891 [==============================] - 0s 205us/sample - loss: 0.4996 - accuracy: 0.7969\n",
            "Epoch 175/200\n",
            "891/891 [==============================] - 0s 205us/sample - loss: 0.5031 - accuracy: 0.7980\n",
            "Epoch 176/200\n",
            "891/891 [==============================] - 0s 213us/sample - loss: 0.4961 - accuracy: 0.7969\n",
            "Epoch 177/200\n",
            "891/891 [==============================] - 0s 228us/sample - loss: 0.5074 - accuracy: 0.7901\n",
            "Epoch 178/200\n",
            "891/891 [==============================] - 0s 251us/sample - loss: 0.5021 - accuracy: 0.7980\n",
            "Epoch 179/200\n",
            "891/891 [==============================] - 0s 204us/sample - loss: 0.4959 - accuracy: 0.7991\n",
            "Epoch 180/200\n",
            "891/891 [==============================] - 0s 214us/sample - loss: 0.4958 - accuracy: 0.7980\n",
            "Epoch 181/200\n",
            "891/891 [==============================] - 0s 221us/sample - loss: 0.4899 - accuracy: 0.8002\n",
            "Epoch 182/200\n",
            "891/891 [==============================] - 0s 223us/sample - loss: 0.4946 - accuracy: 0.7946\n",
            "Epoch 183/200\n",
            "891/891 [==============================] - 0s 246us/sample - loss: 0.5015 - accuracy: 0.7969\n",
            "Epoch 184/200\n",
            "891/891 [==============================] - 0s 214us/sample - loss: 0.4949 - accuracy: 0.7980\n",
            "Epoch 185/200\n",
            "891/891 [==============================] - 0s 202us/sample - loss: 0.4939 - accuracy: 0.7957\n",
            "Epoch 186/200\n",
            "891/891 [==============================] - 0s 213us/sample - loss: 0.4970 - accuracy: 0.8002\n",
            "Epoch 187/200\n",
            "891/891 [==============================] - 0s 212us/sample - loss: 0.4977 - accuracy: 0.7957\n",
            "Epoch 188/200\n",
            "891/891 [==============================] - 0s 209us/sample - loss: 0.4944 - accuracy: 0.7969\n",
            "Epoch 189/200\n",
            "891/891 [==============================] - 0s 229us/sample - loss: 0.4936 - accuracy: 0.7980\n",
            "Epoch 190/200\n",
            "891/891 [==============================] - 0s 209us/sample - loss: 0.4983 - accuracy: 0.7957\n",
            "Epoch 191/200\n",
            "891/891 [==============================] - 0s 226us/sample - loss: 0.4900 - accuracy: 0.7924\n",
            "Epoch 192/200\n",
            "891/891 [==============================] - 0s 226us/sample - loss: 0.4972 - accuracy: 0.7957\n",
            "Epoch 193/200\n",
            "891/891 [==============================] - 0s 222us/sample - loss: 0.5008 - accuracy: 0.7957\n",
            "Epoch 194/200\n",
            "891/891 [==============================] - 0s 222us/sample - loss: 0.4948 - accuracy: 0.7969\n",
            "Epoch 195/200\n",
            "891/891 [==============================] - 0s 216us/sample - loss: 0.4986 - accuracy: 0.7957\n",
            "Epoch 196/200\n",
            "891/891 [==============================] - 0s 207us/sample - loss: 0.4924 - accuracy: 0.7969\n",
            "Epoch 197/200\n",
            "891/891 [==============================] - 0s 205us/sample - loss: 0.4941 - accuracy: 0.7969\n",
            "Epoch 198/200\n",
            "891/891 [==============================] - 0s 201us/sample - loss: 0.4948 - accuracy: 0.7969\n",
            "Epoch 199/200\n",
            "891/891 [==============================] - 0s 208us/sample - loss: 0.5056 - accuracy: 0.7946\n",
            "Epoch 200/200\n",
            "891/891 [==============================] - 0s 227us/sample - loss: 0.5062 - accuracy: 0.7969\n"
          ],
          "name": "stdout"
        },
        {
          "output_type": "execute_result",
          "data": {
            "text/plain": [
              "<tensorflow.python.keras.callbacks.History at 0x7fab2dcdeef0>"
            ]
          },
          "metadata": {
            "tags": []
          },
          "execution_count": 219
        }
      ]
    },
    {
      "cell_type": "code",
      "metadata": {
        "id": "yzKHwIGPDyoM",
        "colab_type": "code",
        "colab": {}
      },
      "source": [
        "model.save('my_titanic_model.h5')"
      ],
      "execution_count": 0,
      "outputs": []
    },
    {
      "cell_type": "code",
      "metadata": {
        "id": "Y_Tp7pQnE3IE",
        "colab_type": "code",
        "colab": {}
      },
      "source": [
        "#new_model = tf.keras.models.load_model('my_model.h5')\n",
        "#new model load"
      ],
      "execution_count": 0,
      "outputs": []
    },
    {
      "cell_type": "code",
      "metadata": {
        "id": "isZ82O-iFJaa",
        "colab_type": "code",
        "colab": {}
      },
      "source": [
        "new_model = tf.keras.models.load_model('my_titanic_model.h5')"
      ],
      "execution_count": 0,
      "outputs": []
    },
    {
      "cell_type": "code",
      "metadata": {
        "id": "5AC_Sig_FWdd",
        "colab_type": "code",
        "colab": {}
      },
      "source": [
        "a = new_model.predict(test_x)"
      ],
      "execution_count": 0,
      "outputs": []
    },
    {
      "cell_type": "code",
      "metadata": {
        "id": "ZjFMrhguFq4z",
        "colab_type": "code",
        "outputId": "3017b884-c992-41bc-fed7-d5e8a18f63fb",
        "colab": {
          "base_uri": "https://localhost:8080/",
          "height": 1000
        }
      },
      "source": [
        "a"
      ],
      "execution_count": 0,
      "outputs": [
        {
          "output_type": "execute_result",
          "data": {
            "text/plain": [
              "array([[0.13914894],\n",
              "       [0.76934326],\n",
              "       [0.14935166],\n",
              "       [0.13669132],\n",
              "       [0.70871884],\n",
              "       [0.17080984],\n",
              "       [0.7291095 ],\n",
              "       [0.13634321],\n",
              "       [0.6981914 ],\n",
              "       [0.13458723],\n",
              "       [0.13774009],\n",
              "       [0.14344811],\n",
              "       [0.7113167 ],\n",
              "       [0.14972717],\n",
              "       [0.76934326],\n",
              "       [0.7139007 ],\n",
              "       [0.13950305],\n",
              "       [0.13458723],\n",
              "       [0.7215689 ],\n",
              "       [0.7648349 ],\n",
              "       [0.14674458],\n",
              "       [0.30665722],\n",
              "       [0.7291095 ],\n",
              "       [0.13458723],\n",
              "       [0.7715746 ],\n",
              "       [0.14490557],\n",
              "       [0.70871884],\n",
              "       [0.1349387 ],\n",
              "       [0.14164348],\n",
              "       [0.13774009],\n",
              "       [0.14490557],\n",
              "       [0.135644  ],\n",
              "       [0.7365205 ],\n",
              "       [0.7291095 ],\n",
              "       [0.13774009],\n",
              "       [0.1352573 ],\n",
              "       [0.7291095 ],\n",
              "       [0.7061074 ],\n",
              "       [0.13599592],\n",
              "       [0.13774009],\n",
              "       [0.14092699],\n",
              "       [0.13774009],\n",
              "       [0.14164348],\n",
              "       [0.7291095 ],\n",
              "       [0.7648349 ],\n",
              "       [0.13599592],\n",
              "       [0.14308563],\n",
              "       [0.13774009],\n",
              "       [0.7905728 ],\n",
              "       [0.7438001 ],\n",
              "       [0.13564402],\n",
              "       [0.13669132],\n",
              "       [0.70348215],\n",
              "       [0.7240967 ],\n",
              "       [0.13774009],\n",
              "       [0.27498528],\n",
              "       [0.13950305],\n",
              "       [0.13599592],\n",
              "       [0.13774009],\n",
              "       [0.7438001 ],\n",
              "       [0.13642327],\n",
              "       [0.13844302],\n",
              "       [0.13525732],\n",
              "       [0.70871884],\n",
              "       [0.19328225],\n",
              "       [0.7291095 ],\n",
              "       [0.6981914 ],\n",
              "       [0.14381137],\n",
              "       [0.13809116],\n",
              "       [0.7905728 ],\n",
              "       [0.7139007 ],\n",
              "       [0.13458723],\n",
              "       [0.72661024],\n",
              "       [0.13704018],\n",
              "       [0.7413883 ],\n",
              "       [0.13844302],\n",
              "       [0.13774009],\n",
              "       [0.78676695],\n",
              "       [0.13774009],\n",
              "       [0.7139007 ],\n",
              "       [0.4191339 ],\n",
              "       [0.15123717],\n",
              "       [0.14454001],\n",
              "       [0.13774009],\n",
              "       [0.13774009],\n",
              "       [0.13774009],\n",
              "       [0.7215689 ],\n",
              "       [0.6981914 ],\n",
              "       [0.7291095 ],\n",
              "       [0.57880205],\n",
              "       [0.70871884],\n",
              "       [0.13774009],\n",
              "       [0.7215689 ],\n",
              "       [0.13774009],\n",
              "       [0.13599592],\n",
              "       [0.13599592],\n",
              "       [0.79829174],\n",
              "       [0.13738976],\n",
              "       [0.70348215],\n",
              "       [0.13879564],\n",
              "       [0.7602656 ],\n",
              "       [0.13669132],\n",
              "       [0.13774009],\n",
              "       [0.13634321],\n",
              "       [0.6928473 ],\n",
              "       [0.13704018],\n",
              "       [0.13458723],\n",
              "       [0.13774009],\n",
              "       [0.13774009],\n",
              "       [0.1352573 ],\n",
              "       [0.14164348],\n",
              "       [0.7291095 ],\n",
              "       [0.7438001 ],\n",
              "       [0.6981914 ],\n",
              "       [0.7920357 ],\n",
              "       [0.1352573 ],\n",
              "       [0.13774009],\n",
              "       [0.998946  ],\n",
              "       [0.13985789],\n",
              "       [0.72661024],\n",
              "       [0.68196726],\n",
              "       [0.13774009],\n",
              "       [0.7413883 ],\n",
              "       [0.13704018],\n",
              "       [0.13774009],\n",
              "       [0.695526  ],\n",
              "       [0.1349387 ],\n",
              "       [0.7291095 ],\n",
              "       [0.14200291],\n",
              "       [0.13564402],\n",
              "       [0.13844302],\n",
              "       [0.14600663],\n",
              "       [0.7291095 ],\n",
              "       [0.13774009],\n",
              "       [0.14236307],\n",
              "       [0.13564402],\n",
              "       [0.13634321],\n",
              "       [0.13634321],\n",
              "       [0.7113167 ],\n",
              "       [0.14128484],\n",
              "       [0.6764432 ],\n",
              "       [0.7365205 ],\n",
              "       [0.14897694],\n",
              "       [0.13704018],\n",
              "       [0.14200291],\n",
              "       [0.13809116],\n",
              "       [0.13774009],\n",
              "       [0.1349387 ],\n",
              "       [0.13774009],\n",
              "       [0.13774009],\n",
              "       [0.7113167 ],\n",
              "       [0.13774009],\n",
              "       [0.14860293],\n",
              "       [0.7438001 ],\n",
              "       [0.19328225],\n",
              "       [0.13564402],\n",
              "       [0.72661024],\n",
              "       [0.7113167 ],\n",
              "       [0.14200296],\n",
              "       [0.71902686],\n",
              "       [0.7291095 ],\n",
              "       [0.37920582],\n",
              "       [0.71902686],\n",
              "       [0.13774009],\n",
              "       [0.14164348],\n",
              "       [0.71902686],\n",
              "       [0.14417528],\n",
              "       [0.1352573 ],\n",
              "       [0.7291095 ],\n",
              "       [0.70871884],\n",
              "       [0.13774009],\n",
              "       [0.13669132],\n",
              "       [0.13529095],\n",
              "       [0.13774009],\n",
              "       [0.14128484],\n",
              "       [0.6901547 ],\n",
              "       [0.70348215],\n",
              "       [0.14637522],\n",
              "       [0.7438001 ],\n",
              "       [0.7925217 ],\n",
              "       [0.13774009],\n",
              "       [0.14021353],\n",
              "       [0.6981914 ],\n",
              "       [0.13774009],\n",
              "       [0.7215689 ],\n",
              "       [0.14128484],\n",
              "       [0.7061074 ],\n",
              "       [0.13642327],\n",
              "       [0.7291095 ],\n",
              "       [0.14128484],\n",
              "       [0.13914895],\n",
              "       [0.13774012],\n",
              "       [0.24542652],\n",
              "       [0.14897694],\n",
              "       [0.34084663],\n",
              "       [0.13879564],\n",
              "       [0.4191339 ],\n",
              "       [0.6981914 ],\n",
              "       [0.13529095],\n",
              "       [0.7291095 ],\n",
              "       [0.7291095 ],\n",
              "       [0.99993   ],\n",
              "       [0.14381137],\n",
              "       [0.6888297 ],\n",
              "       [0.13599592],\n",
              "       [0.13774009],\n",
              "       [0.7413883 ],\n",
              "       [0.13564402],\n",
              "       [0.7365205 ],\n",
              "       [0.13599592],\n",
              "       [0.13844302],\n",
              "       [0.13774009],\n",
              "       [0.13642327],\n",
              "       [0.7905728 ],\n",
              "       [0.74857926],\n",
              "       [0.14200291],\n",
              "       [0.7291095 ],\n",
              "       [0.14748555],\n",
              "       [0.7759917 ],\n",
              "       [0.13774009],\n",
              "       [0.7291095 ],\n",
              "       [0.13458723],\n",
              "       [0.70871884],\n",
              "       [0.13458723],\n",
              "       [0.7825028 ],\n",
              "       [0.7291095 ],\n",
              "       [0.13529095],\n",
              "       [0.7291095 ],\n",
              "       [0.14128484],\n",
              "       [0.13985789],\n",
              "       [0.17080984],\n",
              "       [0.7061074 ],\n",
              "       [0.13458723],\n",
              "       [0.13774009],\n",
              "       [0.14092699],\n",
              "       [0.13423648],\n",
              "       [0.15010354],\n",
              "       [0.13423648],\n",
              "       [0.6981914 ],\n",
              "       [0.7715746 ],\n",
              "       [0.78676695],\n",
              "       [0.7648349 ],\n",
              "       [0.14308563],\n",
              "       [0.13774009],\n",
              "       [0.13774009],\n",
              "       [0.14164348],\n",
              "       [0.70871884],\n",
              "       [0.14200291],\n",
              "       [0.72661024],\n",
              "       [0.7291095 ],\n",
              "       [0.9999999 ],\n",
              "       [0.13423648],\n",
              "       [0.13669132],\n",
              "       [0.13564402],\n",
              "       [0.13844302],\n",
              "       [0.13774012],\n",
              "       [0.13774009],\n",
              "       [0.13704018],\n",
              "       [0.70084345],\n",
              "       [0.13458723],\n",
              "       [0.13985789],\n",
              "       [0.13458723],\n",
              "       [0.72661024],\n",
              "       [0.998946  ],\n",
              "       [0.13774009],\n",
              "       [0.13774009],\n",
              "       [0.13774009],\n",
              "       [0.13774009],\n",
              "       [0.7291095 ],\n",
              "       [0.13642327],\n",
              "       [0.14344811],\n",
              "       [0.13774009],\n",
              "       [0.71902686],\n",
              "       [0.7291095 ],\n",
              "       [0.13774009],\n",
              "       [0.70348215],\n",
              "       [0.13704018],\n",
              "       [0.14128484],\n",
              "       [0.13774009],\n",
              "       [0.1349387 ],\n",
              "       [0.7113167 ],\n",
              "       [0.99993   ],\n",
              "       [0.7291095 ],\n",
              "       [0.67676467],\n",
              "       [0.35966253],\n",
              "       [0.13985789],\n",
              "       [0.13774012],\n",
              "       [0.135644  ],\n",
              "       [0.13774009],\n",
              "       [0.13774009],\n",
              "       [0.13774009],\n",
              "       [0.7291095 ],\n",
              "       [0.13774009],\n",
              "       [0.14600663],\n",
              "       [0.13985789],\n",
              "       [0.13634321],\n",
              "       [0.998946  ],\n",
              "       [0.13774009],\n",
              "       [0.13774009],\n",
              "       [0.13738976],\n",
              "       [0.13844302],\n",
              "       [0.13774009],\n",
              "       [0.14236307],\n",
              "       [0.13564402],\n",
              "       [0.7291095 ],\n",
              "       [0.7925217 ],\n",
              "       [0.13774009],\n",
              "       [0.99993   ],\n",
              "       [0.14674458],\n",
              "       [0.7648349 ],\n",
              "       [0.1352573 ],\n",
              "       [0.1349387 ],\n",
              "       [0.13774009],\n",
              "       [0.74619716],\n",
              "       [0.78676695],\n",
              "       [0.695526  ],\n",
              "       [0.14748555],\n",
              "       [0.134269  ],\n",
              "       [0.13669132],\n",
              "       [0.1349387 ],\n",
              "       [0.13634321],\n",
              "       [0.13599592],\n",
              "       [0.13634321],\n",
              "       [0.13879564],\n",
              "       [0.7509465 ],\n",
              "       [0.13529095],\n",
              "       [0.68196726],\n",
              "       [0.14344811],\n",
              "       [0.13738976],\n",
              "       [0.13458723],\n",
              "       [0.7715746 ],\n",
              "       [0.14092699],\n",
              "       [0.13774009],\n",
              "       [0.70084345],\n",
              "       [0.13669132],\n",
              "       [0.13774009],\n",
              "       [0.13844302],\n",
              "       [0.14092699],\n",
              "       [0.13599592],\n",
              "       [0.13774009],\n",
              "       [0.1352573 ],\n",
              "       [0.13844302],\n",
              "       [0.13774009],\n",
              "       [0.78959334],\n",
              "       [0.13774009],\n",
              "       [0.6928473 ],\n",
              "       [0.13634321],\n",
              "       [0.74857926],\n",
              "       [0.13564402],\n",
              "       [0.7315944 ],\n",
              "       [0.7648349 ],\n",
              "       [0.13599592],\n",
              "       [0.1352573 ],\n",
              "       [0.14454001],\n",
              "       [0.9999999 ],\n",
              "       [0.14490557],\n",
              "       [0.7900836 ],\n",
              "       [0.13774009],\n",
              "       [0.13774009],\n",
              "       [0.7291095 ],\n",
              "       [0.17080984],\n",
              "       [0.7139007 ],\n",
              "       [0.7315944 ],\n",
              "       [0.13669132],\n",
              "       [0.71647084],\n",
              "       [0.7291095 ],\n",
              "       [0.13774009],\n",
              "       [0.70871884],\n",
              "       [0.7648349 ],\n",
              "       [0.13738976],\n",
              "       [0.13458723],\n",
              "       [0.7315944 ],\n",
              "       [0.14454001],\n",
              "       [0.14272396],\n",
              "       [0.7846426 ],\n",
              "       [0.7648349 ],\n",
              "       [0.70871884],\n",
              "       [0.13458723],\n",
              "       [0.14674458],\n",
              "       [0.46005177],\n",
              "       [0.13774009],\n",
              "       [0.13634321],\n",
              "       [0.7291095 ],\n",
              "       [0.7008435 ],\n",
              "       [0.13774009],\n",
              "       [0.7139007 ],\n",
              "       [0.13564402],\n",
              "       [0.14748555],\n",
              "       [0.13458723],\n",
              "       [0.4191339 ],\n",
              "       [0.13529095],\n",
              "       [0.77817726],\n",
              "       [0.19328225],\n",
              "       [0.14381137],\n",
              "       [0.13738976],\n",
              "       [0.6981914 ],\n",
              "       [0.13564402],\n",
              "       [0.7715746 ],\n",
              "       [0.1349387 ],\n",
              "       [0.13809116],\n",
              "       [0.7291095 ],\n",
              "       [0.14056985],\n",
              "       [0.70871884],\n",
              "       [0.13642327],\n",
              "       [0.14236307],\n",
              "       [0.13423648],\n",
              "       [0.13529095],\n",
              "       [0.14490557],\n",
              "       [0.7291095 ],\n",
              "       [0.5701453 ],\n",
              "       [0.7291095 ],\n",
              "       [0.74619716],\n",
              "       [0.7240967 ],\n",
              "       [0.13774009],\n",
              "       [0.7509466 ],\n",
              "       [0.14056985],\n",
              "       [0.13774012],\n",
              "       [0.13774012]], dtype=float32)"
            ]
          },
          "metadata": {
            "tags": []
          },
          "execution_count": 226
        }
      ]
    },
    {
      "cell_type": "code",
      "metadata": {
        "id": "YKFxbzXfGFCC",
        "colab_type": "code",
        "colab": {}
      },
      "source": [
        ""
      ],
      "execution_count": 0,
      "outputs": []
    },
    {
      "cell_type": "code",
      "metadata": {
        "id": "8QMgD9ULz5MA",
        "colab_type": "code",
        "colab": {}
      },
      "source": [
        ""
      ],
      "execution_count": 0,
      "outputs": []
    },
    {
      "cell_type": "code",
      "metadata": {
        "id": "up5R2KIY0aqk",
        "colab_type": "code",
        "colab": {}
      },
      "source": [
        ""
      ],
      "execution_count": 0,
      "outputs": []
    },
    {
      "cell_type": "code",
      "metadata": {
        "id": "8hJW77Qy5jJn",
        "colab_type": "code",
        "colab": {}
      },
      "source": [
        ""
      ],
      "execution_count": 0,
      "outputs": []
    },
    {
      "cell_type": "code",
      "metadata": {
        "id": "JPin7GLW8S6w",
        "colab_type": "code",
        "colab": {}
      },
      "source": [
        ""
      ],
      "execution_count": 0,
      "outputs": []
    },
    {
      "cell_type": "code",
      "metadata": {
        "id": "JtUl3f9X8Vll",
        "colab_type": "code",
        "colab": {}
      },
      "source": [
        ""
      ],
      "execution_count": 0,
      "outputs": []
    },
    {
      "cell_type": "code",
      "metadata": {
        "id": "7izX4jAK8tLr",
        "colab_type": "code",
        "colab": {}
      },
      "source": [
        ""
      ],
      "execution_count": 0,
      "outputs": []
    },
    {
      "cell_type": "code",
      "metadata": {
        "id": "UJ-9hdlR8vV3",
        "colab_type": "code",
        "colab": {}
      },
      "source": [
        ""
      ],
      "execution_count": 0,
      "outputs": []
    },
    {
      "cell_type": "code",
      "metadata": {
        "id": "ovt_ICJ06iOl",
        "colab_type": "code",
        "colab": {}
      },
      "source": [
        ""
      ],
      "execution_count": 0,
      "outputs": []
    },
    {
      "cell_type": "code",
      "metadata": {
        "id": "KS6ifnNV61dz",
        "colab_type": "code",
        "colab": {}
      },
      "source": [
        ""
      ],
      "execution_count": 0,
      "outputs": []
    },
    {
      "cell_type": "code",
      "metadata": {
        "id": "HDAsqVdv7L3z",
        "colab_type": "code",
        "colab": {}
      },
      "source": [
        ""
      ],
      "execution_count": 0,
      "outputs": []
    }
  ]
}