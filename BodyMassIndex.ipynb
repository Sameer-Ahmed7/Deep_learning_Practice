{
  "nbformat": 4,
  "nbformat_minor": 0,
  "metadata": {
    "colab": {
      "name": "BodyMassIndex.ipynb",
      "provenance": [],
      "collapsed_sections": [],
      "authorship_tag": "ABX9TyMMjp9KElQDcb9uAYCvPjMf",
      "include_colab_link": true
    },
    "kernelspec": {
      "name": "python3",
      "display_name": "Python 3"
    }
  },
  "cells": [
    {
      "cell_type": "markdown",
      "metadata": {
        "id": "view-in-github",
        "colab_type": "text"
      },
      "source": [
        "<a href=\"https://colab.research.google.com/github/Sameer-Ahmed7/Deep_learning_Practice/blob/BMI/BodyMassIndex.ipynb\" target=\"_parent\"><img src=\"https://colab.research.google.com/assets/colab-badge.svg\" alt=\"Open In Colab\"/></a>"
      ]
    },
    {
      "cell_type": "code",
      "metadata": {
        "id": "1nUKc6WAXHG8",
        "colab_type": "code",
        "colab": {}
      },
      "source": [
        "#!pip install tensorflow --upgrade"
      ],
      "execution_count": 0,
      "outputs": []
    },
    {
      "cell_type": "code",
      "metadata": {
        "id": "A8InfCXAXQAO",
        "colab_type": "code",
        "colab": {}
      },
      "source": [
        "import tensorflow as tf\n",
        "import pandas as pd\n",
        "import numpy as np\n",
        "import matplotlib.pyplot as plt\n",
        "import seaborn as se"
      ],
      "execution_count": 0,
      "outputs": []
    },
    {
      "cell_type": "code",
      "metadata": {
        "id": "Ae57djnkYbnT",
        "colab_type": "code",
        "colab": {}
      },
      "source": [
        "df = pd.read_csv(\"/content/500_Person_Gender_Height_Weight_Index.csv\")"
      ],
      "execution_count": 0,
      "outputs": []
    },
    {
      "cell_type": "code",
      "metadata": {
        "id": "PXrVR2qWYfeC",
        "colab_type": "code",
        "outputId": "e9e5265c-c238-4fb0-804f-bf8bd509fcdd",
        "colab": {
          "base_uri": "https://localhost:8080/",
          "height": 204
        }
      },
      "source": [
        "df.head()"
      ],
      "execution_count": 4,
      "outputs": [
        {
          "output_type": "execute_result",
          "data": {
            "text/html": [
              "<div>\n",
              "<style scoped>\n",
              "    .dataframe tbody tr th:only-of-type {\n",
              "        vertical-align: middle;\n",
              "    }\n",
              "\n",
              "    .dataframe tbody tr th {\n",
              "        vertical-align: top;\n",
              "    }\n",
              "\n",
              "    .dataframe thead th {\n",
              "        text-align: right;\n",
              "    }\n",
              "</style>\n",
              "<table border=\"1\" class=\"dataframe\">\n",
              "  <thead>\n",
              "    <tr style=\"text-align: right;\">\n",
              "      <th></th>\n",
              "      <th>Gender</th>\n",
              "      <th>Height</th>\n",
              "      <th>Weight</th>\n",
              "      <th>Index</th>\n",
              "    </tr>\n",
              "  </thead>\n",
              "  <tbody>\n",
              "    <tr>\n",
              "      <th>0</th>\n",
              "      <td>Male</td>\n",
              "      <td>174</td>\n",
              "      <td>96</td>\n",
              "      <td>4</td>\n",
              "    </tr>\n",
              "    <tr>\n",
              "      <th>1</th>\n",
              "      <td>Male</td>\n",
              "      <td>189</td>\n",
              "      <td>87</td>\n",
              "      <td>2</td>\n",
              "    </tr>\n",
              "    <tr>\n",
              "      <th>2</th>\n",
              "      <td>Female</td>\n",
              "      <td>185</td>\n",
              "      <td>110</td>\n",
              "      <td>4</td>\n",
              "    </tr>\n",
              "    <tr>\n",
              "      <th>3</th>\n",
              "      <td>Female</td>\n",
              "      <td>195</td>\n",
              "      <td>104</td>\n",
              "      <td>3</td>\n",
              "    </tr>\n",
              "    <tr>\n",
              "      <th>4</th>\n",
              "      <td>Male</td>\n",
              "      <td>149</td>\n",
              "      <td>61</td>\n",
              "      <td>3</td>\n",
              "    </tr>\n",
              "  </tbody>\n",
              "</table>\n",
              "</div>"
            ],
            "text/plain": [
              "   Gender  Height  Weight  Index\n",
              "0    Male     174      96      4\n",
              "1    Male     189      87      2\n",
              "2  Female     185     110      4\n",
              "3  Female     195     104      3\n",
              "4    Male     149      61      3"
            ]
          },
          "metadata": {
            "tags": []
          },
          "execution_count": 4
        }
      ]
    },
    {
      "cell_type": "code",
      "metadata": {
        "id": "nYWB3YY9ZW_p",
        "colab_type": "code",
        "outputId": "c6efc6cc-5298-4970-e10e-2556f7dfc721",
        "colab": {
          "base_uri": "https://localhost:8080/",
          "height": 170
        }
      },
      "source": [
        "df.info()"
      ],
      "execution_count": 5,
      "outputs": [
        {
          "output_type": "stream",
          "text": [
            "<class 'pandas.core.frame.DataFrame'>\n",
            "RangeIndex: 500 entries, 0 to 499\n",
            "Data columns (total 4 columns):\n",
            "Gender    500 non-null object\n",
            "Height    500 non-null int64\n",
            "Weight    500 non-null int64\n",
            "Index     500 non-null int64\n",
            "dtypes: int64(3), object(1)\n",
            "memory usage: 15.8+ KB\n"
          ],
          "name": "stdout"
        }
      ]
    },
    {
      "cell_type": "code",
      "metadata": {
        "id": "tU68dPN0Zarg",
        "colab_type": "code",
        "outputId": "baf6102d-3196-4fa0-8fb2-b5e816036bce",
        "colab": {
          "base_uri": "https://localhost:8080/",
          "height": 297
        }
      },
      "source": [
        "df.describe()"
      ],
      "execution_count": 6,
      "outputs": [
        {
          "output_type": "execute_result",
          "data": {
            "text/html": [
              "<div>\n",
              "<style scoped>\n",
              "    .dataframe tbody tr th:only-of-type {\n",
              "        vertical-align: middle;\n",
              "    }\n",
              "\n",
              "    .dataframe tbody tr th {\n",
              "        vertical-align: top;\n",
              "    }\n",
              "\n",
              "    .dataframe thead th {\n",
              "        text-align: right;\n",
              "    }\n",
              "</style>\n",
              "<table border=\"1\" class=\"dataframe\">\n",
              "  <thead>\n",
              "    <tr style=\"text-align: right;\">\n",
              "      <th></th>\n",
              "      <th>Height</th>\n",
              "      <th>Weight</th>\n",
              "      <th>Index</th>\n",
              "    </tr>\n",
              "  </thead>\n",
              "  <tbody>\n",
              "    <tr>\n",
              "      <th>count</th>\n",
              "      <td>500.000000</td>\n",
              "      <td>500.000000</td>\n",
              "      <td>500.000000</td>\n",
              "    </tr>\n",
              "    <tr>\n",
              "      <th>mean</th>\n",
              "      <td>169.944000</td>\n",
              "      <td>106.000000</td>\n",
              "      <td>3.748000</td>\n",
              "    </tr>\n",
              "    <tr>\n",
              "      <th>std</th>\n",
              "      <td>16.375261</td>\n",
              "      <td>32.382607</td>\n",
              "      <td>1.355053</td>\n",
              "    </tr>\n",
              "    <tr>\n",
              "      <th>min</th>\n",
              "      <td>140.000000</td>\n",
              "      <td>50.000000</td>\n",
              "      <td>0.000000</td>\n",
              "    </tr>\n",
              "    <tr>\n",
              "      <th>25%</th>\n",
              "      <td>156.000000</td>\n",
              "      <td>80.000000</td>\n",
              "      <td>3.000000</td>\n",
              "    </tr>\n",
              "    <tr>\n",
              "      <th>50%</th>\n",
              "      <td>170.500000</td>\n",
              "      <td>106.000000</td>\n",
              "      <td>4.000000</td>\n",
              "    </tr>\n",
              "    <tr>\n",
              "      <th>75%</th>\n",
              "      <td>184.000000</td>\n",
              "      <td>136.000000</td>\n",
              "      <td>5.000000</td>\n",
              "    </tr>\n",
              "    <tr>\n",
              "      <th>max</th>\n",
              "      <td>199.000000</td>\n",
              "      <td>160.000000</td>\n",
              "      <td>5.000000</td>\n",
              "    </tr>\n",
              "  </tbody>\n",
              "</table>\n",
              "</div>"
            ],
            "text/plain": [
              "           Height      Weight       Index\n",
              "count  500.000000  500.000000  500.000000\n",
              "mean   169.944000  106.000000    3.748000\n",
              "std     16.375261   32.382607    1.355053\n",
              "min    140.000000   50.000000    0.000000\n",
              "25%    156.000000   80.000000    3.000000\n",
              "50%    170.500000  106.000000    4.000000\n",
              "75%    184.000000  136.000000    5.000000\n",
              "max    199.000000  160.000000    5.000000"
            ]
          },
          "metadata": {
            "tags": []
          },
          "execution_count": 6
        }
      ]
    },
    {
      "cell_type": "code",
      "metadata": {
        "id": "503AsG4XYwoU",
        "colab_type": "code",
        "colab": {}
      },
      "source": [
        "male = df[df[\"Gender\"] == \"Male\"]"
      ],
      "execution_count": 0,
      "outputs": []
    },
    {
      "cell_type": "code",
      "metadata": {
        "id": "kfn6fKrhZIoZ",
        "colab_type": "code",
        "outputId": "1540c90f-4756-4415-de57-92f82c71eb1d",
        "colab": {
          "base_uri": "https://localhost:8080/",
          "height": 419
        }
      },
      "source": [
        "male"
      ],
      "execution_count": 8,
      "outputs": [
        {
          "output_type": "execute_result",
          "data": {
            "text/html": [
              "<div>\n",
              "<style scoped>\n",
              "    .dataframe tbody tr th:only-of-type {\n",
              "        vertical-align: middle;\n",
              "    }\n",
              "\n",
              "    .dataframe tbody tr th {\n",
              "        vertical-align: top;\n",
              "    }\n",
              "\n",
              "    .dataframe thead th {\n",
              "        text-align: right;\n",
              "    }\n",
              "</style>\n",
              "<table border=\"1\" class=\"dataframe\">\n",
              "  <thead>\n",
              "    <tr style=\"text-align: right;\">\n",
              "      <th></th>\n",
              "      <th>Gender</th>\n",
              "      <th>Height</th>\n",
              "      <th>Weight</th>\n",
              "      <th>Index</th>\n",
              "    </tr>\n",
              "  </thead>\n",
              "  <tbody>\n",
              "    <tr>\n",
              "      <th>0</th>\n",
              "      <td>Male</td>\n",
              "      <td>174</td>\n",
              "      <td>96</td>\n",
              "      <td>4</td>\n",
              "    </tr>\n",
              "    <tr>\n",
              "      <th>1</th>\n",
              "      <td>Male</td>\n",
              "      <td>189</td>\n",
              "      <td>87</td>\n",
              "      <td>2</td>\n",
              "    </tr>\n",
              "    <tr>\n",
              "      <th>4</th>\n",
              "      <td>Male</td>\n",
              "      <td>149</td>\n",
              "      <td>61</td>\n",
              "      <td>3</td>\n",
              "    </tr>\n",
              "    <tr>\n",
              "      <th>5</th>\n",
              "      <td>Male</td>\n",
              "      <td>189</td>\n",
              "      <td>104</td>\n",
              "      <td>3</td>\n",
              "    </tr>\n",
              "    <tr>\n",
              "      <th>6</th>\n",
              "      <td>Male</td>\n",
              "      <td>147</td>\n",
              "      <td>92</td>\n",
              "      <td>5</td>\n",
              "    </tr>\n",
              "    <tr>\n",
              "      <th>...</th>\n",
              "      <td>...</td>\n",
              "      <td>...</td>\n",
              "      <td>...</td>\n",
              "      <td>...</td>\n",
              "    </tr>\n",
              "    <tr>\n",
              "      <th>487</th>\n",
              "      <td>Male</td>\n",
              "      <td>187</td>\n",
              "      <td>80</td>\n",
              "      <td>2</td>\n",
              "    </tr>\n",
              "    <tr>\n",
              "      <th>488</th>\n",
              "      <td>Male</td>\n",
              "      <td>198</td>\n",
              "      <td>136</td>\n",
              "      <td>4</td>\n",
              "    </tr>\n",
              "    <tr>\n",
              "      <th>494</th>\n",
              "      <td>Male</td>\n",
              "      <td>152</td>\n",
              "      <td>98</td>\n",
              "      <td>5</td>\n",
              "    </tr>\n",
              "    <tr>\n",
              "      <th>498</th>\n",
              "      <td>Male</td>\n",
              "      <td>150</td>\n",
              "      <td>95</td>\n",
              "      <td>5</td>\n",
              "    </tr>\n",
              "    <tr>\n",
              "      <th>499</th>\n",
              "      <td>Male</td>\n",
              "      <td>173</td>\n",
              "      <td>131</td>\n",
              "      <td>5</td>\n",
              "    </tr>\n",
              "  </tbody>\n",
              "</table>\n",
              "<p>245 rows × 4 columns</p>\n",
              "</div>"
            ],
            "text/plain": [
              "    Gender  Height  Weight  Index\n",
              "0     Male     174      96      4\n",
              "1     Male     189      87      2\n",
              "4     Male     149      61      3\n",
              "5     Male     189     104      3\n",
              "6     Male     147      92      5\n",
              "..     ...     ...     ...    ...\n",
              "487   Male     187      80      2\n",
              "488   Male     198     136      4\n",
              "494   Male     152      98      5\n",
              "498   Male     150      95      5\n",
              "499   Male     173     131      5\n",
              "\n",
              "[245 rows x 4 columns]"
            ]
          },
          "metadata": {
            "tags": []
          },
          "execution_count": 8
        }
      ]
    },
    {
      "cell_type": "code",
      "metadata": {
        "id": "tcnuYCo6ZJYq",
        "colab_type": "code",
        "colab": {}
      },
      "source": [
        "female = df[df[\"Gender\"]==\"Female\"]"
      ],
      "execution_count": 0,
      "outputs": []
    },
    {
      "cell_type": "code",
      "metadata": {
        "id": "RR5Xz9XNZO6l",
        "colab_type": "code",
        "outputId": "166d2e35-acff-4cee-d716-a58659375ed3",
        "colab": {
          "base_uri": "https://localhost:8080/",
          "height": 419
        }
      },
      "source": [
        "female"
      ],
      "execution_count": 10,
      "outputs": [
        {
          "output_type": "execute_result",
          "data": {
            "text/html": [
              "<div>\n",
              "<style scoped>\n",
              "    .dataframe tbody tr th:only-of-type {\n",
              "        vertical-align: middle;\n",
              "    }\n",
              "\n",
              "    .dataframe tbody tr th {\n",
              "        vertical-align: top;\n",
              "    }\n",
              "\n",
              "    .dataframe thead th {\n",
              "        text-align: right;\n",
              "    }\n",
              "</style>\n",
              "<table border=\"1\" class=\"dataframe\">\n",
              "  <thead>\n",
              "    <tr style=\"text-align: right;\">\n",
              "      <th></th>\n",
              "      <th>Gender</th>\n",
              "      <th>Height</th>\n",
              "      <th>Weight</th>\n",
              "      <th>Index</th>\n",
              "    </tr>\n",
              "  </thead>\n",
              "  <tbody>\n",
              "    <tr>\n",
              "      <th>2</th>\n",
              "      <td>Female</td>\n",
              "      <td>185</td>\n",
              "      <td>110</td>\n",
              "      <td>4</td>\n",
              "    </tr>\n",
              "    <tr>\n",
              "      <th>3</th>\n",
              "      <td>Female</td>\n",
              "      <td>195</td>\n",
              "      <td>104</td>\n",
              "      <td>3</td>\n",
              "    </tr>\n",
              "    <tr>\n",
              "      <th>9</th>\n",
              "      <td>Female</td>\n",
              "      <td>169</td>\n",
              "      <td>103</td>\n",
              "      <td>4</td>\n",
              "    </tr>\n",
              "    <tr>\n",
              "      <th>11</th>\n",
              "      <td>Female</td>\n",
              "      <td>159</td>\n",
              "      <td>80</td>\n",
              "      <td>4</td>\n",
              "    </tr>\n",
              "    <tr>\n",
              "      <th>12</th>\n",
              "      <td>Female</td>\n",
              "      <td>192</td>\n",
              "      <td>101</td>\n",
              "      <td>3</td>\n",
              "    </tr>\n",
              "    <tr>\n",
              "      <th>...</th>\n",
              "      <td>...</td>\n",
              "      <td>...</td>\n",
              "      <td>...</td>\n",
              "      <td>...</td>\n",
              "    </tr>\n",
              "    <tr>\n",
              "      <th>492</th>\n",
              "      <td>Female</td>\n",
              "      <td>198</td>\n",
              "      <td>50</td>\n",
              "      <td>0</td>\n",
              "    </tr>\n",
              "    <tr>\n",
              "      <th>493</th>\n",
              "      <td>Female</td>\n",
              "      <td>170</td>\n",
              "      <td>53</td>\n",
              "      <td>1</td>\n",
              "    </tr>\n",
              "    <tr>\n",
              "      <th>495</th>\n",
              "      <td>Female</td>\n",
              "      <td>150</td>\n",
              "      <td>153</td>\n",
              "      <td>5</td>\n",
              "    </tr>\n",
              "    <tr>\n",
              "      <th>496</th>\n",
              "      <td>Female</td>\n",
              "      <td>184</td>\n",
              "      <td>121</td>\n",
              "      <td>4</td>\n",
              "    </tr>\n",
              "    <tr>\n",
              "      <th>497</th>\n",
              "      <td>Female</td>\n",
              "      <td>141</td>\n",
              "      <td>136</td>\n",
              "      <td>5</td>\n",
              "    </tr>\n",
              "  </tbody>\n",
              "</table>\n",
              "<p>255 rows × 4 columns</p>\n",
              "</div>"
            ],
            "text/plain": [
              "     Gender  Height  Weight  Index\n",
              "2    Female     185     110      4\n",
              "3    Female     195     104      3\n",
              "9    Female     169     103      4\n",
              "11   Female     159      80      4\n",
              "12   Female     192     101      3\n",
              "..      ...     ...     ...    ...\n",
              "492  Female     198      50      0\n",
              "493  Female     170      53      1\n",
              "495  Female     150     153      5\n",
              "496  Female     184     121      4\n",
              "497  Female     141     136      5\n",
              "\n",
              "[255 rows x 4 columns]"
            ]
          },
          "metadata": {
            "tags": []
          },
          "execution_count": 10
        }
      ]
    },
    {
      "cell_type": "code",
      "metadata": {
        "id": "4QbrMCcEbW1n",
        "colab_type": "code",
        "colab": {}
      },
      "source": [
        ""
      ],
      "execution_count": 0,
      "outputs": []
    },
    {
      "cell_type": "code",
      "metadata": {
        "id": "wBUBKrRjZP2A",
        "colab_type": "code",
        "outputId": "ab234178-4ec7-4c24-b22c-76c512925208",
        "colab": {
          "base_uri": "https://localhost:8080/",
          "height": 54
        }
      },
      "source": [
        "'''fig1 = plt.figure()\n",
        "lab = ['Man', 'Female']\n",
        "gender = [male.Gender.count(),female.Gender.count()]\n",
        "plt.bar(lab,gender,align='center',color=('red','blue'),label=(\"S\",\"Y\"))\n",
        "plt.title(\"Male vs Female\")\n",
        "plt.xlabel(\"Gender\")\n",
        "plt.ylabel(\"Range\")\n",
        "plt.legend()\n",
        "plt.show()'''"
      ],
      "execution_count": 11,
      "outputs": [
        {
          "output_type": "execute_result",
          "data": {
            "text/plain": [
              "'fig1 = plt.figure()\\nlab = [\\'Man\\', \\'Female\\']\\ngender = [male.Gender.count(),female.Gender.count()]\\nplt.bar(lab,gender,align=\\'center\\',color=(\\'red\\',\\'blue\\'),label=(\"S\",\"Y\"))\\nplt.title(\"Male vs Female\")\\nplt.xlabel(\"Gender\")\\nplt.ylabel(\"Range\")\\nplt.legend()\\nplt.show()'"
            ]
          },
          "metadata": {
            "tags": []
          },
          "execution_count": 11
        }
      ]
    },
    {
      "cell_type": "code",
      "metadata": {
        "id": "VKkuVu_SbM7O",
        "colab_type": "code",
        "outputId": "44c90e3e-d3eb-4b10-bb91-ed39706ba15d",
        "colab": {
          "base_uri": "https://localhost:8080/",
          "height": 295
        }
      },
      "source": [
        "plt.bar(\"male\",male.Gender.count(),width=0.3,color=\"red\",label=\"male\",align=\"edge\")\n",
        "plt.bar(\"Female\",female.Gender.count(),width=0.3,color=\"black\",label=\"female\")\n",
        "#plt.bar(lab,gender,align='center',color=('red','blue'),label=(\"S\",\"Y\"))\n",
        "plt.title(\"Male vs Female\")\n",
        "plt.xlabel(\"Gender\")\n",
        "plt.ylabel(\"Total\")\n",
        "plt.legend(loc=\"upper right\")\n",
        "plt.grid(True)\n",
        "plt.show()"
      ],
      "execution_count": 12,
      "outputs": [
        {
          "output_type": "display_data",
          "data": {
            "image/png": "[encoded data removed]",
            "text/plain": [
              "<Figure size 432x288 with 1 Axes>"
            ]
          },
          "metadata": {
            "tags": []
          }
        }
      ]
    },
    {
      "cell_type": "code",
      "metadata": {
        "id": "4V6h-1CsKDHS",
        "colab_type": "code",
        "colab": {
          "base_uri": "https://localhost:8080/",
          "height": 204
        },
        "outputId": "a9f91a7d-4ff7-4f15-dd17-ad2e8efa0c45"
      },
      "source": [
        "df.head()"
      ],
      "execution_count": 13,
      "outputs": [
        {
          "output_type": "execute_result",
          "data": {
            "text/html": [
              "<div>\n",
              "<style scoped>\n",
              "    .dataframe tbody tr th:only-of-type {\n",
              "        vertical-align: middle;\n",
              "    }\n",
              "\n",
              "    .dataframe tbody tr th {\n",
              "        vertical-align: top;\n",
              "    }\n",
              "\n",
              "    .dataframe thead th {\n",
              "        text-align: right;\n",
              "    }\n",
              "</style>\n",
              "<table border=\"1\" class=\"dataframe\">\n",
              "  <thead>\n",
              "    <tr style=\"text-align: right;\">\n",
              "      <th></th>\n",
              "      <th>Gender</th>\n",
              "      <th>Height</th>\n",
              "      <th>Weight</th>\n",
              "      <th>Index</th>\n",
              "    </tr>\n",
              "  </thead>\n",
              "  <tbody>\n",
              "    <tr>\n",
              "      <th>0</th>\n",
              "      <td>Male</td>\n",
              "      <td>174</td>\n",
              "      <td>96</td>\n",
              "      <td>4</td>\n",
              "    </tr>\n",
              "    <tr>\n",
              "      <th>1</th>\n",
              "      <td>Male</td>\n",
              "      <td>189</td>\n",
              "      <td>87</td>\n",
              "      <td>2</td>\n",
              "    </tr>\n",
              "    <tr>\n",
              "      <th>2</th>\n",
              "      <td>Female</td>\n",
              "      <td>185</td>\n",
              "      <td>110</td>\n",
              "      <td>4</td>\n",
              "    </tr>\n",
              "    <tr>\n",
              "      <th>3</th>\n",
              "      <td>Female</td>\n",
              "      <td>195</td>\n",
              "      <td>104</td>\n",
              "      <td>3</td>\n",
              "    </tr>\n",
              "    <tr>\n",
              "      <th>4</th>\n",
              "      <td>Male</td>\n",
              "      <td>149</td>\n",
              "      <td>61</td>\n",
              "      <td>3</td>\n",
              "    </tr>\n",
              "  </tbody>\n",
              "</table>\n",
              "</div>"
            ],
            "text/plain": [
              "   Gender  Height  Weight  Index\n",
              "0    Male     174      96      4\n",
              "1    Male     189      87      2\n",
              "2  Female     185     110      4\n",
              "3  Female     195     104      3\n",
              "4    Male     149      61      3"
            ]
          },
          "metadata": {
            "tags": []
          },
          "execution_count": 13
        }
      ]
    },
    {
      "cell_type": "code",
      "metadata": {
        "id": "hSjlYQ97VuKl",
        "colab_type": "code",
        "colab": {
          "base_uri": "https://localhost:8080/",
          "height": 295
        },
        "outputId": "7605a991-0386-496c-b06b-e0e1868df4f4"
      },
      "source": [
        "#plt.plot(male.Index,male.Height,color=\"red\",label=\"male\",ls=\"--\",marker=\"o\")\n",
        "#plt.plot(female.Index,female.Height,color=\"black\",label=\"female\")\n",
        "#plt.bar(lab,gender,align='center',color=('red','blue'),label=(\"S\",\"Y\"))\n",
        "plt.hist(male.Height,color=\"green\")\n",
        "plt.title(\"Male\")\n",
        "plt.xlabel(\"Height\")\n",
        "plt.ylabel(\"Total\")\n",
        "plt.grid(True)\n",
        "plt.show()"
      ],
      "execution_count": 14,
      "outputs": [
        {
          "output_type": "display_data",
          "data": {
            "image/png": "[encoded data removed]",
            "text/plain": [
              "<Figure size 432x288 with 1 Axes>"
            ]
          },
          "metadata": {
            "tags": []
          }
        }
      ]
    },
    {
      "cell_type": "code",
      "metadata": {
        "id": "CJqgx6zZmV5d",
        "colab_type": "code",
        "colab": {
          "base_uri": "https://localhost:8080/",
          "height": 295
        },
        "outputId": "cc1b2a7d-172f-41e7-d979-a757d87ddb76"
      },
      "source": [
        "plt.hist(female.Height,color=\"blue\")\n",
        "plt.title(\"Female\")\n",
        "plt.xlabel(\"Height\")\n",
        "plt.ylabel(\"Total\")\n",
        "plt.grid(True)\n",
        "plt.show()"
      ],
      "execution_count": 15,
      "outputs": [
        {
          "output_type": "display_data",
          "data": {
            "image/png": "[encoded data removed]",
            "text/plain": [
              "<Figure size 432x288 with 1 Axes>"
            ]
          },
          "metadata": {
            "tags": []
          }
        }
      ]
    },
    {
      "cell_type": "code",
      "metadata": {
        "id": "m4EZNrxeomXT",
        "colab_type": "code",
        "colab": {
          "base_uri": "https://localhost:8080/",
          "height": 173
        },
        "outputId": "28e191f4-a523-46cc-fef4-908530cfa5ed"
      },
      "source": [
        "df.head(4)"
      ],
      "execution_count": 16,
      "outputs": [
        {
          "output_type": "execute_result",
          "data": {
            "text/html": [
              "<div>\n",
              "<style scoped>\n",
              "    .dataframe tbody tr th:only-of-type {\n",
              "        vertical-align: middle;\n",
              "    }\n",
              "\n",
              "    .dataframe tbody tr th {\n",
              "        vertical-align: top;\n",
              "    }\n",
              "\n",
              "    .dataframe thead th {\n",
              "        text-align: right;\n",
              "    }\n",
              "</style>\n",
              "<table border=\"1\" class=\"dataframe\">\n",
              "  <thead>\n",
              "    <tr style=\"text-align: right;\">\n",
              "      <th></th>\n",
              "      <th>Gender</th>\n",
              "      <th>Height</th>\n",
              "      <th>Weight</th>\n",
              "      <th>Index</th>\n",
              "    </tr>\n",
              "  </thead>\n",
              "  <tbody>\n",
              "    <tr>\n",
              "      <th>0</th>\n",
              "      <td>Male</td>\n",
              "      <td>174</td>\n",
              "      <td>96</td>\n",
              "      <td>4</td>\n",
              "    </tr>\n",
              "    <tr>\n",
              "      <th>1</th>\n",
              "      <td>Male</td>\n",
              "      <td>189</td>\n",
              "      <td>87</td>\n",
              "      <td>2</td>\n",
              "    </tr>\n",
              "    <tr>\n",
              "      <th>2</th>\n",
              "      <td>Female</td>\n",
              "      <td>185</td>\n",
              "      <td>110</td>\n",
              "      <td>4</td>\n",
              "    </tr>\n",
              "    <tr>\n",
              "      <th>3</th>\n",
              "      <td>Female</td>\n",
              "      <td>195</td>\n",
              "      <td>104</td>\n",
              "      <td>3</td>\n",
              "    </tr>\n",
              "  </tbody>\n",
              "</table>\n",
              "</div>"
            ],
            "text/plain": [
              "   Gender  Height  Weight  Index\n",
              "0    Male     174      96      4\n",
              "1    Male     189      87      2\n",
              "2  Female     185     110      4\n",
              "3  Female     195     104      3"
            ]
          },
          "metadata": {
            "tags": []
          },
          "execution_count": 16
        }
      ]
    },
    {
      "cell_type": "markdown",
      "metadata": {
        "id": "s66SUiqYtTZS",
        "colab_type": "text"
      },
      "source": [
        "# Male and Female Convert to dummy variables"
      ]
    },
    {
      "cell_type": "code",
      "metadata": {
        "id": "jvr6CmEso9Oh",
        "colab_type": "code",
        "colab": {}
      },
      "source": [
        "dummy = pd.get_dummies(df.Gender)"
      ],
      "execution_count": 0,
      "outputs": []
    },
    {
      "cell_type": "code",
      "metadata": {
        "id": "jlSECO5etKbc",
        "colab_type": "code",
        "colab": {
          "base_uri": "https://localhost:8080/",
          "height": 204
        },
        "outputId": "4b5ee943-931c-4e6a-bbb8-f76735d3f2f6"
      },
      "source": [
        "dummy.head()"
      ],
      "execution_count": 18,
      "outputs": [
        {
          "output_type": "execute_result",
          "data": {
            "text/html": [
              "<div>\n",
              "<style scoped>\n",
              "    .dataframe tbody tr th:only-of-type {\n",
              "        vertical-align: middle;\n",
              "    }\n",
              "\n",
              "    .dataframe tbody tr th {\n",
              "        vertical-align: top;\n",
              "    }\n",
              "\n",
              "    .dataframe thead th {\n",
              "        text-align: right;\n",
              "    }\n",
              "</style>\n",
              "<table border=\"1\" class=\"dataframe\">\n",
              "  <thead>\n",
              "    <tr style=\"text-align: right;\">\n",
              "      <th></th>\n",
              "      <th>Female</th>\n",
              "      <th>Male</th>\n",
              "    </tr>\n",
              "  </thead>\n",
              "  <tbody>\n",
              "    <tr>\n",
              "      <th>0</th>\n",
              "      <td>0</td>\n",
              "      <td>1</td>\n",
              "    </tr>\n",
              "    <tr>\n",
              "      <th>1</th>\n",
              "      <td>0</td>\n",
              "      <td>1</td>\n",
              "    </tr>\n",
              "    <tr>\n",
              "      <th>2</th>\n",
              "      <td>1</td>\n",
              "      <td>0</td>\n",
              "    </tr>\n",
              "    <tr>\n",
              "      <th>3</th>\n",
              "      <td>1</td>\n",
              "      <td>0</td>\n",
              "    </tr>\n",
              "    <tr>\n",
              "      <th>4</th>\n",
              "      <td>0</td>\n",
              "      <td>1</td>\n",
              "    </tr>\n",
              "  </tbody>\n",
              "</table>\n",
              "</div>"
            ],
            "text/plain": [
              "   Female  Male\n",
              "0       0     1\n",
              "1       0     1\n",
              "2       1     0\n",
              "3       1     0\n",
              "4       0     1"
            ]
          },
          "metadata": {
            "tags": []
          },
          "execution_count": 18
        }
      ]
    },
    {
      "cell_type": "code",
      "metadata": {
        "id": "nnqUBjPStMAl",
        "colab_type": "code",
        "colab": {}
      },
      "source": [
        "df = pd.concat([dummy,df],axis=1)"
      ],
      "execution_count": 0,
      "outputs": []
    },
    {
      "cell_type": "code",
      "metadata": {
        "id": "vkyHcdIJt-6R",
        "colab_type": "code",
        "colab": {}
      },
      "source": [
        "df.drop(\"Gender\",inplace=True,axis=1)"
      ],
      "execution_count": 0,
      "outputs": []
    },
    {
      "cell_type": "code",
      "metadata": {
        "id": "n2K4pLUWuEgN",
        "colab_type": "code",
        "colab": {
          "base_uri": "https://localhost:8080/",
          "height": 204
        },
        "outputId": "5513234d-6c3e-4d6a-ab31-eda880f52544"
      },
      "source": [
        "df.head()"
      ],
      "execution_count": 21,
      "outputs": [
        {
          "output_type": "execute_result",
          "data": {
            "text/html": [
              "<div>\n",
              "<style scoped>\n",
              "    .dataframe tbody tr th:only-of-type {\n",
              "        vertical-align: middle;\n",
              "    }\n",
              "\n",
              "    .dataframe tbody tr th {\n",
              "        vertical-align: top;\n",
              "    }\n",
              "\n",
              "    .dataframe thead th {\n",
              "        text-align: right;\n",
              "    }\n",
              "</style>\n",
              "<table border=\"1\" class=\"dataframe\">\n",
              "  <thead>\n",
              "    <tr style=\"text-align: right;\">\n",
              "      <th></th>\n",
              "      <th>Female</th>\n",
              "      <th>Male</th>\n",
              "      <th>Height</th>\n",
              "      <th>Weight</th>\n",
              "      <th>Index</th>\n",
              "    </tr>\n",
              "  </thead>\n",
              "  <tbody>\n",
              "    <tr>\n",
              "      <th>0</th>\n",
              "      <td>0</td>\n",
              "      <td>1</td>\n",
              "      <td>174</td>\n",
              "      <td>96</td>\n",
              "      <td>4</td>\n",
              "    </tr>\n",
              "    <tr>\n",
              "      <th>1</th>\n",
              "      <td>0</td>\n",
              "      <td>1</td>\n",
              "      <td>189</td>\n",
              "      <td>87</td>\n",
              "      <td>2</td>\n",
              "    </tr>\n",
              "    <tr>\n",
              "      <th>2</th>\n",
              "      <td>1</td>\n",
              "      <td>0</td>\n",
              "      <td>185</td>\n",
              "      <td>110</td>\n",
              "      <td>4</td>\n",
              "    </tr>\n",
              "    <tr>\n",
              "      <th>3</th>\n",
              "      <td>1</td>\n",
              "      <td>0</td>\n",
              "      <td>195</td>\n",
              "      <td>104</td>\n",
              "      <td>3</td>\n",
              "    </tr>\n",
              "    <tr>\n",
              "      <th>4</th>\n",
              "      <td>0</td>\n",
              "      <td>1</td>\n",
              "      <td>149</td>\n",
              "      <td>61</td>\n",
              "      <td>3</td>\n",
              "    </tr>\n",
              "  </tbody>\n",
              "</table>\n",
              "</div>"
            ],
            "text/plain": [
              "   Female  Male  Height  Weight  Index\n",
              "0       0     1     174      96      4\n",
              "1       0     1     189      87      2\n",
              "2       1     0     185     110      4\n",
              "3       1     0     195     104      3\n",
              "4       0     1     149      61      3"
            ]
          },
          "metadata": {
            "tags": []
          },
          "execution_count": 21
        }
      ]
    },
    {
      "cell_type": "code",
      "metadata": {
        "id": "U6E2oVzauOIp",
        "colab_type": "code",
        "colab": {
          "base_uri": "https://localhost:8080/",
          "height": 34
        },
        "outputId": "275d17ce-e745-4e35-cd79-ff4cf35d2895"
      },
      "source": [
        "df.shape"
      ],
      "execution_count": 22,
      "outputs": [
        {
          "output_type": "execute_result",
          "data": {
            "text/plain": [
              "(500, 5)"
            ]
          },
          "metadata": {
            "tags": []
          },
          "execution_count": 22
        }
      ]
    },
    {
      "cell_type": "code",
      "metadata": {
        "id": "_miY2BgfuSyz",
        "colab_type": "code",
        "colab": {}
      },
      "source": [
        "train_x = df.iloc[:400,:4]"
      ],
      "execution_count": 0,
      "outputs": []
    },
    {
      "cell_type": "code",
      "metadata": {
        "id": "XBYNPLVNuktR",
        "colab_type": "code",
        "colab": {
          "base_uri": "https://localhost:8080/",
          "height": 34
        },
        "outputId": "e2d4cef6-506c-4e65-fa48-27c97dda6493"
      },
      "source": [
        "train_x.shape"
      ],
      "execution_count": 24,
      "outputs": [
        {
          "output_type": "execute_result",
          "data": {
            "text/plain": [
              "(400, 4)"
            ]
          },
          "metadata": {
            "tags": []
          },
          "execution_count": 24
        }
      ]
    },
    {
      "cell_type": "code",
      "metadata": {
        "id": "83ROtgVfusMi",
        "colab_type": "code",
        "colab": {}
      },
      "source": [
        "train_y = df.iloc[:400,4]"
      ],
      "execution_count": 0,
      "outputs": []
    },
    {
      "cell_type": "code",
      "metadata": {
        "id": "lh7fE5pDu1Q7",
        "colab_type": "code",
        "colab": {}
      },
      "source": [
        "test_x = df.iloc[400:,:4]\n",
        "test_y = df.iloc[400:,4]"
      ],
      "execution_count": 0,
      "outputs": []
    },
    {
      "cell_type": "code",
      "metadata": {
        "id": "T_50IhqGu2Yb",
        "colab_type": "code",
        "colab": {
          "base_uri": "https://localhost:8080/",
          "height": 34
        },
        "outputId": "4a38cc8a-9499-44a0-d495-b835820c54ef"
      },
      "source": [
        "train_x.shape,train_y.shape,test_x.shape,test_y.shape"
      ],
      "execution_count": 27,
      "outputs": [
        {
          "output_type": "execute_result",
          "data": {
            "text/plain": [
              "((400, 4), (400,), (100, 4), (100,))"
            ]
          },
          "metadata": {
            "tags": []
          },
          "execution_count": 27
        }
      ]
    },
    {
      "cell_type": "code",
      "metadata": {
        "id": "K_noLge0vH_Y",
        "colab_type": "code",
        "colab": {}
      },
      "source": [
        "trainMandF = train_x.iloc[:,:2]"
      ],
      "execution_count": 0,
      "outputs": []
    },
    {
      "cell_type": "code",
      "metadata": {
        "id": "GMqWTAy3w6bP",
        "colab_type": "code",
        "colab": {
          "base_uri": "https://localhost:8080/",
          "height": 419
        },
        "outputId": "9d616886-12c1-4585-df12-e00ca6d64474"
      },
      "source": [
        "trainMandF"
      ],
      "execution_count": 29,
      "outputs": [
        {
          "output_type": "execute_result",
          "data": {
            "text/html": [
              "<div>\n",
              "<style scoped>\n",
              "    .dataframe tbody tr th:only-of-type {\n",
              "        vertical-align: middle;\n",
              "    }\n",
              "\n",
              "    .dataframe tbody tr th {\n",
              "        vertical-align: top;\n",
              "    }\n",
              "\n",
              "    .dataframe thead th {\n",
              "        text-align: right;\n",
              "    }\n",
              "</style>\n",
              "<table border=\"1\" class=\"dataframe\">\n",
              "  <thead>\n",
              "    <tr style=\"text-align: right;\">\n",
              "      <th></th>\n",
              "      <th>Female</th>\n",
              "      <th>Male</th>\n",
              "    </tr>\n",
              "  </thead>\n",
              "  <tbody>\n",
              "    <tr>\n",
              "      <th>0</th>\n",
              "      <td>0</td>\n",
              "      <td>1</td>\n",
              "    </tr>\n",
              "    <tr>\n",
              "      <th>1</th>\n",
              "      <td>0</td>\n",
              "      <td>1</td>\n",
              "    </tr>\n",
              "    <tr>\n",
              "      <th>2</th>\n",
              "      <td>1</td>\n",
              "      <td>0</td>\n",
              "    </tr>\n",
              "    <tr>\n",
              "      <th>3</th>\n",
              "      <td>1</td>\n",
              "      <td>0</td>\n",
              "    </tr>\n",
              "    <tr>\n",
              "      <th>4</th>\n",
              "      <td>0</td>\n",
              "      <td>1</td>\n",
              "    </tr>\n",
              "    <tr>\n",
              "      <th>...</th>\n",
              "      <td>...</td>\n",
              "      <td>...</td>\n",
              "    </tr>\n",
              "    <tr>\n",
              "      <th>395</th>\n",
              "      <td>1</td>\n",
              "      <td>0</td>\n",
              "    </tr>\n",
              "    <tr>\n",
              "      <th>396</th>\n",
              "      <td>0</td>\n",
              "      <td>1</td>\n",
              "    </tr>\n",
              "    <tr>\n",
              "      <th>397</th>\n",
              "      <td>0</td>\n",
              "      <td>1</td>\n",
              "    </tr>\n",
              "    <tr>\n",
              "      <th>398</th>\n",
              "      <td>1</td>\n",
              "      <td>0</td>\n",
              "    </tr>\n",
              "    <tr>\n",
              "      <th>399</th>\n",
              "      <td>0</td>\n",
              "      <td>1</td>\n",
              "    </tr>\n",
              "  </tbody>\n",
              "</table>\n",
              "<p>400 rows × 2 columns</p>\n",
              "</div>"
            ],
            "text/plain": [
              "     Female  Male\n",
              "0         0     1\n",
              "1         0     1\n",
              "2         1     0\n",
              "3         1     0\n",
              "4         0     1\n",
              "..      ...   ...\n",
              "395       1     0\n",
              "396       0     1\n",
              "397       0     1\n",
              "398       1     0\n",
              "399       0     1\n",
              "\n",
              "[400 rows x 2 columns]"
            ]
          },
          "metadata": {
            "tags": []
          },
          "execution_count": 29
        }
      ]
    },
    {
      "cell_type": "code",
      "metadata": {
        "id": "BwiZnzc5xVac",
        "colab_type": "code",
        "colab": {
          "base_uri": "https://localhost:8080/",
          "height": 419
        },
        "outputId": "27f59378-c7ee-4c43-a9aa-ff1c0d140482"
      },
      "source": [
        "testMandF = test_x.iloc[:,:2]\n",
        "testMandF"
      ],
      "execution_count": 30,
      "outputs": [
        {
          "output_type": "execute_result",
          "data": {
            "text/html": [
              "<div>\n",
              "<style scoped>\n",
              "    .dataframe tbody tr th:only-of-type {\n",
              "        vertical-align: middle;\n",
              "    }\n",
              "\n",
              "    .dataframe tbody tr th {\n",
              "        vertical-align: top;\n",
              "    }\n",
              "\n",
              "    .dataframe thead th {\n",
              "        text-align: right;\n",
              "    }\n",
              "</style>\n",
              "<table border=\"1\" class=\"dataframe\">\n",
              "  <thead>\n",
              "    <tr style=\"text-align: right;\">\n",
              "      <th></th>\n",
              "      <th>Female</th>\n",
              "      <th>Male</th>\n",
              "    </tr>\n",
              "  </thead>\n",
              "  <tbody>\n",
              "    <tr>\n",
              "      <th>400</th>\n",
              "      <td>1</td>\n",
              "      <td>0</td>\n",
              "    </tr>\n",
              "    <tr>\n",
              "      <th>401</th>\n",
              "      <td>0</td>\n",
              "      <td>1</td>\n",
              "    </tr>\n",
              "    <tr>\n",
              "      <th>402</th>\n",
              "      <td>0</td>\n",
              "      <td>1</td>\n",
              "    </tr>\n",
              "    <tr>\n",
              "      <th>403</th>\n",
              "      <td>0</td>\n",
              "      <td>1</td>\n",
              "    </tr>\n",
              "    <tr>\n",
              "      <th>404</th>\n",
              "      <td>0</td>\n",
              "      <td>1</td>\n",
              "    </tr>\n",
              "    <tr>\n",
              "      <th>...</th>\n",
              "      <td>...</td>\n",
              "      <td>...</td>\n",
              "    </tr>\n",
              "    <tr>\n",
              "      <th>495</th>\n",
              "      <td>1</td>\n",
              "      <td>0</td>\n",
              "    </tr>\n",
              "    <tr>\n",
              "      <th>496</th>\n",
              "      <td>1</td>\n",
              "      <td>0</td>\n",
              "    </tr>\n",
              "    <tr>\n",
              "      <th>497</th>\n",
              "      <td>1</td>\n",
              "      <td>0</td>\n",
              "    </tr>\n",
              "    <tr>\n",
              "      <th>498</th>\n",
              "      <td>0</td>\n",
              "      <td>1</td>\n",
              "    </tr>\n",
              "    <tr>\n",
              "      <th>499</th>\n",
              "      <td>0</td>\n",
              "      <td>1</td>\n",
              "    </tr>\n",
              "  </tbody>\n",
              "</table>\n",
              "<p>100 rows × 2 columns</p>\n",
              "</div>"
            ],
            "text/plain": [
              "     Female  Male\n",
              "400       1     0\n",
              "401       0     1\n",
              "402       0     1\n",
              "403       0     1\n",
              "404       0     1\n",
              "..      ...   ...\n",
              "495       1     0\n",
              "496       1     0\n",
              "497       1     0\n",
              "498       0     1\n",
              "499       0     1\n",
              "\n",
              "[100 rows x 2 columns]"
            ]
          },
          "metadata": {
            "tags": []
          },
          "execution_count": 30
        }
      ]
    },
    {
      "cell_type": "code",
      "metadata": {
        "id": "Rkg7lMQqxfWY",
        "colab_type": "code",
        "colab": {}
      },
      "source": [
        ""
      ],
      "execution_count": 0,
      "outputs": []
    },
    {
      "cell_type": "markdown",
      "metadata": {
        "id": "JcIh4UDZvTQm",
        "colab_type": "text"
      },
      "source": [
        "# Normiliztion"
      ]
    },
    {
      "cell_type": "code",
      "metadata": {
        "id": "AdrtZuudvVej",
        "colab_type": "code",
        "colab": {}
      },
      "source": [
        "mean = train_x.mean(axis=0)\n",
        "train_x -= mean\n",
        "std = train_x.std(axis=0)\n",
        "train_x /= std\n",
        "test_x -= mean\n",
        "test_x /= std"
      ],
      "execution_count": 0,
      "outputs": []
    },
    {
      "cell_type": "code",
      "metadata": {
        "id": "qEDacK4dvfgG",
        "colab_type": "code",
        "colab": {}
      },
      "source": [
        "test_x.drop([\"Female\",\"Male\"],inplace=True,axis=1)"
      ],
      "execution_count": 0,
      "outputs": []
    },
    {
      "cell_type": "code",
      "metadata": {
        "id": "oRYusXfBvhJx",
        "colab_type": "code",
        "colab": {}
      },
      "source": [
        "train_x.drop([\"Female\",\"Male\"],axis=1,inplace=True)"
      ],
      "execution_count": 0,
      "outputs": []
    },
    {
      "cell_type": "code",
      "metadata": {
        "id": "7DGDWUp1yBFK",
        "colab_type": "code",
        "colab": {}
      },
      "source": [
        "train_x = pd.concat([trainMandF,train_x],axis=1)"
      ],
      "execution_count": 0,
      "outputs": []
    },
    {
      "cell_type": "code",
      "metadata": {
        "id": "N7OUBvJpyXFu",
        "colab_type": "code",
        "colab": {}
      },
      "source": [
        "test_x = pd.concat([testMandF,test_x],axis=1)"
      ],
      "execution_count": 0,
      "outputs": []
    },
    {
      "cell_type": "code",
      "metadata": {
        "id": "yA79SGl2yh7B",
        "colab_type": "code",
        "colab": {
          "base_uri": "https://localhost:8080/",
          "height": 111
        },
        "outputId": "885ccdb5-a29d-4170-e42f-02c55977191f"
      },
      "source": [
        "train_x.head(2)"
      ],
      "execution_count": 36,
      "outputs": [
        {
          "output_type": "execute_result",
          "data": {
            "text/html": [
              "<div>\n",
              "<style scoped>\n",
              "    .dataframe tbody tr th:only-of-type {\n",
              "        vertical-align: middle;\n",
              "    }\n",
              "\n",
              "    .dataframe tbody tr th {\n",
              "        vertical-align: top;\n",
              "    }\n",
              "\n",
              "    .dataframe thead th {\n",
              "        text-align: right;\n",
              "    }\n",
              "</style>\n",
              "<table border=\"1\" class=\"dataframe\">\n",
              "  <thead>\n",
              "    <tr style=\"text-align: right;\">\n",
              "      <th></th>\n",
              "      <th>Female</th>\n",
              "      <th>Male</th>\n",
              "      <th>Height</th>\n",
              "      <th>Weight</th>\n",
              "    </tr>\n",
              "  </thead>\n",
              "  <tbody>\n",
              "    <tr>\n",
              "      <th>0</th>\n",
              "      <td>0</td>\n",
              "      <td>1</td>\n",
              "      <td>0.227033</td>\n",
              "      <td>-0.287508</td>\n",
              "    </tr>\n",
              "    <tr>\n",
              "      <th>1</th>\n",
              "      <td>0</td>\n",
              "      <td>1</td>\n",
              "      <td>1.133955</td>\n",
              "      <td>-0.565666</td>\n",
              "    </tr>\n",
              "  </tbody>\n",
              "</table>\n",
              "</div>"
            ],
            "text/plain": [
              "   Female  Male    Height    Weight\n",
              "0       0     1  0.227033 -0.287508\n",
              "1       0     1  1.133955 -0.565666"
            ]
          },
          "metadata": {
            "tags": []
          },
          "execution_count": 36
        }
      ]
    },
    {
      "cell_type": "code",
      "metadata": {
        "id": "h7ehp0f-yj9A",
        "colab_type": "code",
        "colab": {
          "base_uri": "https://localhost:8080/",
          "height": 111
        },
        "outputId": "ee7b1cc6-a218-4a29-fbb5-6f2843a80159"
      },
      "source": [
        "test_x.head(2)"
      ],
      "execution_count": 37,
      "outputs": [
        {
          "output_type": "execute_result",
          "data": {
            "text/html": [
              "<div>\n",
              "<style scoped>\n",
              "    .dataframe tbody tr th:only-of-type {\n",
              "        vertical-align: middle;\n",
              "    }\n",
              "\n",
              "    .dataframe tbody tr th {\n",
              "        vertical-align: top;\n",
              "    }\n",
              "\n",
              "    .dataframe thead th {\n",
              "        text-align: right;\n",
              "    }\n",
              "</style>\n",
              "<table border=\"1\" class=\"dataframe\">\n",
              "  <thead>\n",
              "    <tr style=\"text-align: right;\">\n",
              "      <th></th>\n",
              "      <th>Female</th>\n",
              "      <th>Male</th>\n",
              "      <th>Height</th>\n",
              "      <th>Weight</th>\n",
              "    </tr>\n",
              "  </thead>\n",
              "  <tbody>\n",
              "    <tr>\n",
              "      <th>400</th>\n",
              "      <td>1</td>\n",
              "      <td>0</td>\n",
              "      <td>1.496723</td>\n",
              "      <td>-0.040256</td>\n",
              "    </tr>\n",
              "    <tr>\n",
              "      <th>401</th>\n",
              "      <td>0</td>\n",
              "      <td>1</td>\n",
              "      <td>0.227033</td>\n",
              "      <td>0.052464</td>\n",
              "    </tr>\n",
              "  </tbody>\n",
              "</table>\n",
              "</div>"
            ],
            "text/plain": [
              "     Female  Male    Height    Weight\n",
              "400       1     0  1.496723 -0.040256\n",
              "401       0     1  0.227033  0.052464"
            ]
          },
          "metadata": {
            "tags": []
          },
          "execution_count": 37
        }
      ]
    },
    {
      "cell_type": "code",
      "metadata": {
        "id": "2KW_TRI8yl2y",
        "colab_type": "code",
        "colab": {
          "base_uri": "https://localhost:8080/",
          "height": 34
        },
        "outputId": "eb40f38f-9f66-4671-a21d-f11081923896"
      },
      "source": [
        "test_x.shape,train_x.shape"
      ],
      "execution_count": 38,
      "outputs": [
        {
          "output_type": "execute_result",
          "data": {
            "text/plain": [
              "((100, 4), (400, 4))"
            ]
          },
          "metadata": {
            "tags": []
          },
          "execution_count": 38
        }
      ]
    },
    {
      "cell_type": "code",
      "metadata": {
        "id": "00qhY3vO0M5A",
        "colab_type": "code",
        "colab": {
          "base_uri": "https://localhost:8080/",
          "height": 34
        },
        "outputId": "fd6435ee-9ee1-4527-be6e-e62c9ad4f8fe"
      },
      "source": [
        "df.Index.unique()"
      ],
      "execution_count": 39,
      "outputs": [
        {
          "output_type": "execute_result",
          "data": {
            "text/plain": [
              "array([4, 2, 3, 5, 1, 0])"
            ]
          },
          "metadata": {
            "tags": []
          },
          "execution_count": 39
        }
      ]
    },
    {
      "cell_type": "markdown",
      "metadata": {
        "id": "RBTSeURi_u11",
        "colab_type": "text"
      },
      "source": [
        "# Create Model"
      ]
    },
    {
      "cell_type": "code",
      "metadata": {
        "id": "H5Opp5SdyqQz",
        "colab_type": "code",
        "colab": {}
      },
      "source": [
        "from tensorflow.keras import models , layers"
      ],
      "execution_count": 0,
      "outputs": []
    },
    {
      "cell_type": "code",
      "metadata": {
        "id": "7CyNdM1Ozyfo",
        "colab_type": "code",
        "colab": {}
      },
      "source": [
        "def buildModel():\n",
        "  model = models.Sequential()\n",
        "  model.add(layers.Dense(50,activation=\"relu\"))\n",
        "  model.add(layers.Dense(6,activation=\"softmax\"))\n",
        "  model.compile(optimizer=\"rmsprop\",loss=\"categorical_crossentropy\",metrics=['accuracy'])\n",
        "  return model"
      ],
      "execution_count": 0,
      "outputs": []
    },
    {
      "cell_type": "code",
      "metadata": {
        "id": "uq5fbRut0YeP",
        "colab_type": "code",
        "colab": {}
      },
      "source": [
        "from tensorflow.keras.utils import  to_categorical\n",
        "train_labels = to_categorical(train_y)\n",
        "test_labels = to_categorical(test_y)"
      ],
      "execution_count": 0,
      "outputs": []
    },
    {
      "cell_type": "code",
      "metadata": {
        "id": "ugaCnch9-gtY",
        "colab_type": "code",
        "colab": {}
      },
      "source": [
        "model = buildModel()"
      ],
      "execution_count": 0,
      "outputs": []
    },
    {
      "cell_type": "code",
      "metadata": {
        "id": "wiQG48RR2PP-",
        "colab_type": "code",
        "colab": {}
      },
      "source": [
        "train_x = train_x.values\n",
        "test_x = test_x.values"
      ],
      "execution_count": 0,
      "outputs": []
    },
    {
      "cell_type": "markdown",
      "metadata": {
        "id": "WsZupJxK_5HC",
        "colab_type": "text"
      },
      "source": [
        "# Train Model"
      ]
    },
    {
      "cell_type": "code",
      "metadata": {
        "id": "WUXBeHgt1pGl",
        "colab_type": "code",
        "colab": {
          "base_uri": "https://localhost:8080/",
          "height": 1000
        },
        "outputId": "50c39547-01ea-41ab-f7cc-b05497241415"
      },
      "source": [
        "model.fit(train_x,train_labels,epochs=150)"
      ],
      "execution_count": 45,
      "outputs": [
        {
          "output_type": "stream",
          "text": [
            "Train on 400 samples\n",
            "Epoch 1/150\n",
            "400/400 [==============================] - 0s 831us/sample - loss: 1.6479 - accuracy: 0.3775\n",
            "Epoch 2/150\n",
            "400/400 [==============================] - 0s 55us/sample - loss: 1.5226 - accuracy: 0.5600\n",
            "Epoch 3/150\n",
            "400/400 [==============================] - 0s 58us/sample - loss: 1.4283 - accuracy: 0.5850\n",
            "Epoch 4/150\n",
            "400/400 [==============================] - 0s 52us/sample - loss: 1.3473 - accuracy: 0.5800\n",
            "Epoch 5/150\n",
            "400/400 [==============================] - 0s 53us/sample - loss: 1.2742 - accuracy: 0.5900\n",
            "Epoch 6/150\n",
            "400/400 [==============================] - 0s 54us/sample - loss: 1.2117 - accuracy: 0.5875\n",
            "Epoch 7/150\n",
            "400/400 [==============================] - 0s 57us/sample - loss: 1.1572 - accuracy: 0.5850\n",
            "Epoch 8/150\n",
            "400/400 [==============================] - 0s 61us/sample - loss: 1.1078 - accuracy: 0.5950\n",
            "Epoch 9/150\n",
            "400/400 [==============================] - 0s 61us/sample - loss: 1.0635 - accuracy: 0.5925\n",
            "Epoch 10/150\n",
            "400/400 [==============================] - 0s 54us/sample - loss: 1.0244 - accuracy: 0.6025\n",
            "Epoch 11/150\n",
            "400/400 [==============================] - 0s 51us/sample - loss: 0.9885 - accuracy: 0.6250\n",
            "Epoch 12/150\n",
            "400/400 [==============================] - 0s 51us/sample - loss: 0.9567 - accuracy: 0.6425\n",
            "Epoch 13/150\n",
            "400/400 [==============================] - 0s 53us/sample - loss: 0.9270 - accuracy: 0.6550\n",
            "Epoch 14/150\n",
            "400/400 [==============================] - 0s 52us/sample - loss: 0.8996 - accuracy: 0.6575\n",
            "Epoch 15/150\n",
            "400/400 [==============================] - 0s 54us/sample - loss: 0.8745 - accuracy: 0.6750\n",
            "Epoch 16/150\n",
            "400/400 [==============================] - 0s 57us/sample - loss: 0.8510 - accuracy: 0.6750\n",
            "Epoch 17/150\n",
            "400/400 [==============================] - 0s 49us/sample - loss: 0.8295 - accuracy: 0.6950\n",
            "Epoch 18/150\n",
            "400/400 [==============================] - 0s 54us/sample - loss: 0.8085 - accuracy: 0.6950\n",
            "Epoch 19/150\n",
            "400/400 [==============================] - 0s 50us/sample - loss: 0.7894 - accuracy: 0.7075\n",
            "Epoch 20/150\n",
            "400/400 [==============================] - 0s 52us/sample - loss: 0.7716 - accuracy: 0.7175\n",
            "Epoch 21/150\n",
            "400/400 [==============================] - 0s 61us/sample - loss: 0.7543 - accuracy: 0.7325\n",
            "Epoch 22/150\n",
            "400/400 [==============================] - 0s 57us/sample - loss: 0.7375 - accuracy: 0.7475\n",
            "Epoch 23/150\n",
            "400/400 [==============================] - 0s 56us/sample - loss: 0.7225 - accuracy: 0.7500\n",
            "Epoch 24/150\n",
            "400/400 [==============================] - 0s 61us/sample - loss: 0.7078 - accuracy: 0.7575\n",
            "Epoch 25/150\n",
            "400/400 [==============================] - 0s 56us/sample - loss: 0.6926 - accuracy: 0.7700\n",
            "Epoch 26/150\n",
            "400/400 [==============================] - 0s 55us/sample - loss: 0.6787 - accuracy: 0.7650\n",
            "Epoch 27/150\n",
            "400/400 [==============================] - 0s 57us/sample - loss: 0.6658 - accuracy: 0.7750\n",
            "Epoch 28/150\n",
            "400/400 [==============================] - 0s 58us/sample - loss: 0.6528 - accuracy: 0.7850\n",
            "Epoch 29/150\n",
            "400/400 [==============================] - 0s 61us/sample - loss: 0.6411 - accuracy: 0.7825\n",
            "Epoch 30/150\n",
            "400/400 [==============================] - 0s 63us/sample - loss: 0.6298 - accuracy: 0.7975\n",
            "Epoch 31/150\n",
            "400/400 [==============================] - 0s 67us/sample - loss: 0.6182 - accuracy: 0.7975\n",
            "Epoch 32/150\n",
            "400/400 [==============================] - 0s 60us/sample - loss: 0.6071 - accuracy: 0.7975\n",
            "Epoch 33/150\n",
            "400/400 [==============================] - 0s 59us/sample - loss: 0.5966 - accuracy: 0.8150\n",
            "Epoch 34/150\n",
            "400/400 [==============================] - 0s 56us/sample - loss: 0.5878 - accuracy: 0.8200\n",
            "Epoch 35/150\n",
            "400/400 [==============================] - 0s 49us/sample - loss: 0.5767 - accuracy: 0.8175\n",
            "Epoch 36/150\n",
            "400/400 [==============================] - 0s 51us/sample - loss: 0.5695 - accuracy: 0.8175\n",
            "Epoch 37/150\n",
            "400/400 [==============================] - 0s 64us/sample - loss: 0.5603 - accuracy: 0.8375\n",
            "Epoch 38/150\n",
            "400/400 [==============================] - 0s 64us/sample - loss: 0.5523 - accuracy: 0.8325\n",
            "Epoch 39/150\n",
            "400/400 [==============================] - 0s 56us/sample - loss: 0.5437 - accuracy: 0.8400\n",
            "Epoch 40/150\n",
            "400/400 [==============================] - 0s 59us/sample - loss: 0.5361 - accuracy: 0.8375\n",
            "Epoch 41/150\n",
            "400/400 [==============================] - 0s 60us/sample - loss: 0.5293 - accuracy: 0.8525\n",
            "Epoch 42/150\n",
            "400/400 [==============================] - 0s 60us/sample - loss: 0.5229 - accuracy: 0.8550\n",
            "Epoch 43/150\n",
            "400/400 [==============================] - 0s 56us/sample - loss: 0.5166 - accuracy: 0.8500\n",
            "Epoch 44/150\n",
            "400/400 [==============================] - 0s 57us/sample - loss: 0.5090 - accuracy: 0.8550\n",
            "Epoch 45/150\n",
            "400/400 [==============================] - 0s 56us/sample - loss: 0.5052 - accuracy: 0.8575\n",
            "Epoch 46/150\n",
            "400/400 [==============================] - 0s 63us/sample - loss: 0.4971 - accuracy: 0.8725\n",
            "Epoch 47/150\n",
            "400/400 [==============================] - 0s 50us/sample - loss: 0.4932 - accuracy: 0.8675\n",
            "Epoch 48/150\n",
            "400/400 [==============================] - 0s 65us/sample - loss: 0.4871 - accuracy: 0.8675\n",
            "Epoch 49/150\n",
            "400/400 [==============================] - 0s 67us/sample - loss: 0.4826 - accuracy: 0.8675\n",
            "Epoch 50/150\n",
            "400/400 [==============================] - 0s 58us/sample - loss: 0.4770 - accuracy: 0.8725\n",
            "Epoch 51/150\n",
            "400/400 [==============================] - 0s 62us/sample - loss: 0.4718 - accuracy: 0.8650\n",
            "Epoch 52/150\n",
            "400/400 [==============================] - 0s 80us/sample - loss: 0.4667 - accuracy: 0.8825\n",
            "Epoch 53/150\n",
            "400/400 [==============================] - 0s 56us/sample - loss: 0.4625 - accuracy: 0.8825\n",
            "Epoch 54/150\n",
            "400/400 [==============================] - 0s 63us/sample - loss: 0.4577 - accuracy: 0.8775\n",
            "Epoch 55/150\n",
            "400/400 [==============================] - 0s 57us/sample - loss: 0.4536 - accuracy: 0.8800\n",
            "Epoch 56/150\n",
            "400/400 [==============================] - 0s 55us/sample - loss: 0.4487 - accuracy: 0.8875\n",
            "Epoch 57/150\n",
            "400/400 [==============================] - 0s 63us/sample - loss: 0.4454 - accuracy: 0.8775\n",
            "Epoch 58/150\n",
            "400/400 [==============================] - 0s 65us/sample - loss: 0.4409 - accuracy: 0.8875\n",
            "Epoch 59/150\n",
            "400/400 [==============================] - 0s 59us/sample - loss: 0.4373 - accuracy: 0.8800\n",
            "Epoch 60/150\n",
            "400/400 [==============================] - 0s 62us/sample - loss: 0.4338 - accuracy: 0.8900\n",
            "Epoch 61/150\n",
            "400/400 [==============================] - 0s 51us/sample - loss: 0.4298 - accuracy: 0.8875\n",
            "Epoch 62/150\n",
            "400/400 [==============================] - 0s 56us/sample - loss: 0.4259 - accuracy: 0.8925\n",
            "Epoch 63/150\n",
            "400/400 [==============================] - 0s 57us/sample - loss: 0.4220 - accuracy: 0.8950\n",
            "Epoch 64/150\n",
            "400/400 [==============================] - 0s 58us/sample - loss: 0.4191 - accuracy: 0.9025\n",
            "Epoch 65/150\n",
            "400/400 [==============================] - 0s 55us/sample - loss: 0.4148 - accuracy: 0.8950\n",
            "Epoch 66/150\n",
            "400/400 [==============================] - 0s 65us/sample - loss: 0.4134 - accuracy: 0.9025\n",
            "Epoch 67/150\n",
            "400/400 [==============================] - 0s 53us/sample - loss: 0.4086 - accuracy: 0.9050\n",
            "Epoch 68/150\n",
            "400/400 [==============================] - 0s 59us/sample - loss: 0.4067 - accuracy: 0.9050\n",
            "Epoch 69/150\n",
            "400/400 [==============================] - 0s 74us/sample - loss: 0.4029 - accuracy: 0.9075\n",
            "Epoch 70/150\n",
            "400/400 [==============================] - 0s 74us/sample - loss: 0.4000 - accuracy: 0.8975\n",
            "Epoch 71/150\n",
            "400/400 [==============================] - 0s 58us/sample - loss: 0.3982 - accuracy: 0.9075\n",
            "Epoch 72/150\n",
            "400/400 [==============================] - 0s 58us/sample - loss: 0.3945 - accuracy: 0.9075\n",
            "Epoch 73/150\n",
            "400/400 [==============================] - 0s 57us/sample - loss: 0.3921 - accuracy: 0.9125\n",
            "Epoch 74/150\n",
            "400/400 [==============================] - 0s 56us/sample - loss: 0.3896 - accuracy: 0.9150\n",
            "Epoch 75/150\n",
            "400/400 [==============================] - 0s 58us/sample - loss: 0.3868 - accuracy: 0.9200\n",
            "Epoch 76/150\n",
            "400/400 [==============================] - 0s 56us/sample - loss: 0.3841 - accuracy: 0.9150\n",
            "Epoch 77/150\n",
            "400/400 [==============================] - 0s 60us/sample - loss: 0.3829 - accuracy: 0.9050\n",
            "Epoch 78/150\n",
            "400/400 [==============================] - 0s 50us/sample - loss: 0.3803 - accuracy: 0.9075\n",
            "Epoch 79/150\n",
            "400/400 [==============================] - 0s 55us/sample - loss: 0.3768 - accuracy: 0.9150\n",
            "Epoch 80/150\n",
            "400/400 [==============================] - 0s 55us/sample - loss: 0.3750 - accuracy: 0.9175\n",
            "Epoch 81/150\n",
            "400/400 [==============================] - 0s 51us/sample - loss: 0.3728 - accuracy: 0.9100\n",
            "Epoch 82/150\n",
            "400/400 [==============================] - 0s 49us/sample - loss: 0.3715 - accuracy: 0.9125\n",
            "Epoch 83/150\n",
            "400/400 [==============================] - 0s 51us/sample - loss: 0.3683 - accuracy: 0.9050\n",
            "Epoch 84/150\n",
            "400/400 [==============================] - 0s 53us/sample - loss: 0.3661 - accuracy: 0.9175\n",
            "Epoch 85/150\n",
            "400/400 [==============================] - 0s 53us/sample - loss: 0.3647 - accuracy: 0.9200\n",
            "Epoch 86/150\n",
            "400/400 [==============================] - 0s 52us/sample - loss: 0.3631 - accuracy: 0.9150\n",
            "Epoch 87/150\n",
            "400/400 [==============================] - 0s 59us/sample - loss: 0.3607 - accuracy: 0.9200\n",
            "Epoch 88/150\n",
            "400/400 [==============================] - 0s 52us/sample - loss: 0.3588 - accuracy: 0.9200\n",
            "Epoch 89/150\n",
            "400/400 [==============================] - 0s 50us/sample - loss: 0.3569 - accuracy: 0.9200\n",
            "Epoch 90/150\n",
            "400/400 [==============================] - 0s 52us/sample - loss: 0.3558 - accuracy: 0.9100\n",
            "Epoch 91/150\n",
            "400/400 [==============================] - 0s 52us/sample - loss: 0.3547 - accuracy: 0.9125\n",
            "Epoch 92/150\n",
            "400/400 [==============================] - 0s 50us/sample - loss: 0.3520 - accuracy: 0.9150\n",
            "Epoch 93/150\n",
            "400/400 [==============================] - 0s 54us/sample - loss: 0.3500 - accuracy: 0.9125\n",
            "Epoch 94/150\n",
            "400/400 [==============================] - 0s 58us/sample - loss: 0.3493 - accuracy: 0.9150\n",
            "Epoch 95/150\n",
            "400/400 [==============================] - 0s 55us/sample - loss: 0.3471 - accuracy: 0.9225\n",
            "Epoch 96/150\n",
            "400/400 [==============================] - 0s 56us/sample - loss: 0.3455 - accuracy: 0.9275\n",
            "Epoch 97/150\n",
            "400/400 [==============================] - 0s 59us/sample - loss: 0.3438 - accuracy: 0.9125\n",
            "Epoch 98/150\n",
            "400/400 [==============================] - 0s 53us/sample - loss: 0.3418 - accuracy: 0.9225\n",
            "Epoch 99/150\n",
            "400/400 [==============================] - 0s 50us/sample - loss: 0.3414 - accuracy: 0.9150\n",
            "Epoch 100/150\n",
            "400/400 [==============================] - 0s 52us/sample - loss: 0.3394 - accuracy: 0.9225\n",
            "Epoch 101/150\n",
            "400/400 [==============================] - 0s 52us/sample - loss: 0.3385 - accuracy: 0.9250\n",
            "Epoch 102/150\n",
            "400/400 [==============================] - 0s 50us/sample - loss: 0.3370 - accuracy: 0.9250\n",
            "Epoch 103/150\n",
            "400/400 [==============================] - 0s 56us/sample - loss: 0.3359 - accuracy: 0.9300\n",
            "Epoch 104/150\n",
            "400/400 [==============================] - 0s 52us/sample - loss: 0.3344 - accuracy: 0.9250\n",
            "Epoch 105/150\n",
            "400/400 [==============================] - 0s 49us/sample - loss: 0.3330 - accuracy: 0.9200\n",
            "Epoch 106/150\n",
            "400/400 [==============================] - 0s 59us/sample - loss: 0.3316 - accuracy: 0.9275\n",
            "Epoch 107/150\n",
            "400/400 [==============================] - 0s 58us/sample - loss: 0.3304 - accuracy: 0.9225\n",
            "Epoch 108/150\n",
            "400/400 [==============================] - 0s 61us/sample - loss: 0.3293 - accuracy: 0.9175\n",
            "Epoch 109/150\n",
            "400/400 [==============================] - 0s 54us/sample - loss: 0.3278 - accuracy: 0.9325\n",
            "Epoch 110/150\n",
            "400/400 [==============================] - 0s 61us/sample - loss: 0.3264 - accuracy: 0.9275\n",
            "Epoch 111/150\n",
            "400/400 [==============================] - 0s 65us/sample - loss: 0.3262 - accuracy: 0.9200\n",
            "Epoch 112/150\n",
            "400/400 [==============================] - 0s 65us/sample - loss: 0.3237 - accuracy: 0.9350\n",
            "Epoch 113/150\n",
            "400/400 [==============================] - 0s 64us/sample - loss: 0.3225 - accuracy: 0.9300\n",
            "Epoch 114/150\n",
            "400/400 [==============================] - 0s 57us/sample - loss: 0.3216 - accuracy: 0.9275\n",
            "Epoch 115/150\n",
            "400/400 [==============================] - 0s 54us/sample - loss: 0.3216 - accuracy: 0.9225\n",
            "Epoch 116/150\n",
            "400/400 [==============================] - 0s 50us/sample - loss: 0.3195 - accuracy: 0.9275\n",
            "Epoch 117/150\n",
            "400/400 [==============================] - 0s 61us/sample - loss: 0.3189 - accuracy: 0.9275\n",
            "Epoch 118/150\n",
            "400/400 [==============================] - 0s 58us/sample - loss: 0.3176 - accuracy: 0.9225\n",
            "Epoch 119/150\n",
            "400/400 [==============================] - 0s 51us/sample - loss: 0.3163 - accuracy: 0.9275\n",
            "Epoch 120/150\n",
            "400/400 [==============================] - 0s 71us/sample - loss: 0.3163 - accuracy: 0.9275\n",
            "Epoch 121/150\n",
            "400/400 [==============================] - 0s 95us/sample - loss: 0.3142 - accuracy: 0.9225\n",
            "Epoch 122/150\n",
            "400/400 [==============================] - 0s 57us/sample - loss: 0.3140 - accuracy: 0.9250\n",
            "Epoch 123/150\n",
            "400/400 [==============================] - 0s 58us/sample - loss: 0.3121 - accuracy: 0.9350\n",
            "Epoch 124/150\n",
            "400/400 [==============================] - 0s 60us/sample - loss: 0.3119 - accuracy: 0.9275\n",
            "Epoch 125/150\n",
            "400/400 [==============================] - 0s 57us/sample - loss: 0.3101 - accuracy: 0.9300\n",
            "Epoch 126/150\n",
            "400/400 [==============================] - 0s 65us/sample - loss: 0.3098 - accuracy: 0.9350\n",
            "Epoch 127/150\n",
            "400/400 [==============================] - 0s 96us/sample - loss: 0.3084 - accuracy: 0.9250\n",
            "Epoch 128/150\n",
            "400/400 [==============================] - 0s 77us/sample - loss: 0.3071 - accuracy: 0.9375\n",
            "Epoch 129/150\n",
            "400/400 [==============================] - 0s 60us/sample - loss: 0.3078 - accuracy: 0.9225\n",
            "Epoch 130/150\n",
            "400/400 [==============================] - 0s 57us/sample - loss: 0.3063 - accuracy: 0.9300\n",
            "Epoch 131/150\n",
            "400/400 [==============================] - 0s 68us/sample - loss: 0.3056 - accuracy: 0.9200\n",
            "Epoch 132/150\n",
            "400/400 [==============================] - 0s 57us/sample - loss: 0.3043 - accuracy: 0.9300\n",
            "Epoch 133/150\n",
            "400/400 [==============================] - 0s 61us/sample - loss: 0.3041 - accuracy: 0.9275\n",
            "Epoch 134/150\n",
            "400/400 [==============================] - 0s 70us/sample - loss: 0.3033 - accuracy: 0.9250\n",
            "Epoch 135/150\n",
            "400/400 [==============================] - 0s 57us/sample - loss: 0.3016 - accuracy: 0.9250\n",
            "Epoch 136/150\n",
            "400/400 [==============================] - 0s 64us/sample - loss: 0.3008 - accuracy: 0.9300\n",
            "Epoch 137/150\n",
            "400/400 [==============================] - 0s 63us/sample - loss: 0.3013 - accuracy: 0.9350\n",
            "Epoch 138/150\n",
            "400/400 [==============================] - 0s 69us/sample - loss: 0.3006 - accuracy: 0.9375\n",
            "Epoch 139/150\n",
            "400/400 [==============================] - 0s 64us/sample - loss: 0.2991 - accuracy: 0.9275\n",
            "Epoch 140/150\n",
            "400/400 [==============================] - 0s 67us/sample - loss: 0.2981 - accuracy: 0.9300\n",
            "Epoch 141/150\n",
            "400/400 [==============================] - 0s 67us/sample - loss: 0.2975 - accuracy: 0.9250\n",
            "Epoch 142/150\n",
            "400/400 [==============================] - 0s 66us/sample - loss: 0.2966 - accuracy: 0.9350\n",
            "Epoch 143/150\n",
            "400/400 [==============================] - 0s 65us/sample - loss: 0.2951 - accuracy: 0.9350\n",
            "Epoch 144/150\n",
            "400/400 [==============================] - 0s 67us/sample - loss: 0.2973 - accuracy: 0.9275\n",
            "Epoch 145/150\n",
            "400/400 [==============================] - 0s 78us/sample - loss: 0.2949 - accuracy: 0.9300\n",
            "Epoch 146/150\n",
            "400/400 [==============================] - 0s 121us/sample - loss: 0.2940 - accuracy: 0.9325\n",
            "Epoch 147/150\n",
            "400/400 [==============================] - 0s 56us/sample - loss: 0.2936 - accuracy: 0.9325\n",
            "Epoch 148/150\n",
            "400/400 [==============================] - 0s 73us/sample - loss: 0.2931 - accuracy: 0.9375\n",
            "Epoch 149/150\n",
            "400/400 [==============================] - 0s 63us/sample - loss: 0.2920 - accuracy: 0.9250\n",
            "Epoch 150/150\n",
            "400/400 [==============================] - 0s 62us/sample - loss: 0.2918 - accuracy: 0.9375\n"
          ],
          "name": "stdout"
        },
        {
          "output_type": "execute_result",
          "data": {
            "text/plain": [
              "<tensorflow.python.keras.callbacks.History at 0x7fa0c8182e80>"
            ]
          },
          "metadata": {
            "tags": []
          },
          "execution_count": 45
        }
      ]
    },
    {
      "cell_type": "markdown",
      "metadata": {
        "id": "9osSzo8z__nk",
        "colab_type": "text"
      },
      "source": [
        "# Save Model"
      ]
    },
    {
      "cell_type": "code",
      "metadata": {
        "id": "ApAOZJhr-zV7",
        "colab_type": "code",
        "colab": {}
      },
      "source": [
        "model.save(\"model.h5\")"
      ],
      "execution_count": 0,
      "outputs": []
    },
    {
      "cell_type": "markdown",
      "metadata": {
        "id": "aXGXPkMLAEWf",
        "colab_type": "text"
      },
      "source": [
        "# Load Model"
      ]
    },
    {
      "cell_type": "code",
      "metadata": {
        "id": "8iKV1oFz-4q4",
        "colab_type": "code",
        "colab": {
          "base_uri": "https://localhost:8080/",
          "height": 54
        },
        "outputId": "ccf7a6db-e16d-4217-bf89-be9370d833ac"
      },
      "source": [
        "import tensorflow\n",
        "model = tensorflow.keras.models.load_model(\"model.h5\")"
      ],
      "execution_count": 47,
      "outputs": [
        {
          "output_type": "stream",
          "text": [
            "WARNING:tensorflow:Sequential models without an `input_shape` passed to the first layer cannot reload their optimizer state. As a result, your model isstarting with a freshly initialized optimizer.\n"
          ],
          "name": "stdout"
        }
      ]
    },
    {
      "cell_type": "code",
      "metadata": {
        "id": "tL6hXvqk1rK6",
        "colab_type": "code",
        "colab": {}
      },
      "source": [
        "#test_loss, test_acc = model.evaluate(test_x,test_labels)"
      ],
      "execution_count": 0,
      "outputs": []
    },
    {
      "cell_type": "code",
      "metadata": {
        "id": "8bZKSMrV2aNm",
        "colab_type": "code",
        "colab": {}
      },
      "source": [
        "#print(\"Test loss : \",test_loss)\n",
        "#print(\"Test Accuracy: \",test_acc)"
      ],
      "execution_count": 0,
      "outputs": []
    },
    {
      "cell_type": "code",
      "metadata": {
        "id": "q1mOqbnV3jkY",
        "colab_type": "code",
        "colab": {
          "base_uri": "https://localhost:8080/",
          "height": 221
        },
        "outputId": "b80dd1bc-d83b-4475-997a-849d45166f3d"
      },
      "source": [
        "test_y"
      ],
      "execution_count": 50,
      "outputs": [
        {
          "output_type": "execute_result",
          "data": {
            "text/plain": [
              "400    3\n",
              "401    4\n",
              "402    2\n",
              "403    4\n",
              "404    4\n",
              "      ..\n",
              "495    5\n",
              "496    4\n",
              "497    5\n",
              "498    5\n",
              "499    5\n",
              "Name: Index, Length: 100, dtype: int64"
            ]
          },
          "metadata": {
            "tags": []
          },
          "execution_count": 50
        }
      ]
    },
    {
      "cell_type": "code",
      "metadata": {
        "id": "EaCFGllM3TXn",
        "colab_type": "code",
        "colab": {
          "base_uri": "https://localhost:8080/",
          "height": 1000
        },
        "outputId": "f4f90868-feea-492f-8dd8-22c71430de7e"
      },
      "source": [
        "test_labels"
      ],
      "execution_count": 51,
      "outputs": [
        {
          "output_type": "execute_result",
          "data": {
            "text/plain": [
              "array([[0., 0., 0., 1., 0., 0.],\n",
              "       [0., 0., 0., 0., 1., 0.],\n",
              "       [0., 0., 1., 0., 0., 0.],\n",
              "       [0., 0., 0., 0., 1., 0.],\n",
              "       [0., 0., 0., 0., 1., 0.],\n",
              "       [0., 0., 0., 0., 0., 1.],\n",
              "       [0., 0., 1., 0., 0., 0.],\n",
              "       [0., 0., 0., 0., 0., 1.],\n",
              "       [0., 0., 0., 0., 0., 1.],\n",
              "       [0., 0., 0., 0., 0., 1.],\n",
              "       [0., 1., 0., 0., 0., 0.],\n",
              "       [0., 0., 0., 0., 1., 0.],\n",
              "       [0., 0., 0., 0., 0., 1.],\n",
              "       [0., 0., 0., 0., 0., 1.],\n",
              "       [0., 0., 0., 0., 0., 1.],\n",
              "       [0., 0., 0., 0., 1., 0.],\n",
              "       [0., 0., 0., 0., 0., 1.],\n",
              "       [0., 0., 1., 0., 0., 0.],\n",
              "       [0., 0., 0., 0., 0., 1.],\n",
              "       [0., 0., 1., 0., 0., 0.],\n",
              "       [0., 1., 0., 0., 0., 0.],\n",
              "       [0., 0., 0., 0., 0., 1.],\n",
              "       [0., 0., 0., 0., 0., 1.],\n",
              "       [0., 0., 0., 0., 1., 0.],\n",
              "       [0., 1., 0., 0., 0., 0.],\n",
              "       [0., 1., 0., 0., 0., 0.],\n",
              "       [0., 0., 0., 0., 1., 0.],\n",
              "       [0., 0., 0., 0., 1., 0.],\n",
              "       [0., 0., 0., 0., 1., 0.],\n",
              "       [0., 0., 0., 0., 1., 0.],\n",
              "       [0., 0., 1., 0., 0., 0.],\n",
              "       [0., 0., 0., 0., 0., 1.],\n",
              "       [0., 0., 0., 0., 0., 1.],\n",
              "       [0., 0., 0., 0., 1., 0.],\n",
              "       [0., 0., 1., 0., 0., 0.],\n",
              "       [0., 0., 0., 0., 0., 1.],\n",
              "       [0., 0., 0., 0., 0., 1.],\n",
              "       [0., 0., 0., 0., 0., 1.],\n",
              "       [0., 1., 0., 0., 0., 0.],\n",
              "       [0., 0., 0., 0., 0., 1.],\n",
              "       [0., 0., 0., 0., 1., 0.],\n",
              "       [0., 0., 1., 0., 0., 0.],\n",
              "       [0., 0., 0., 0., 0., 1.],\n",
              "       [0., 0., 0., 0., 0., 1.],\n",
              "       [0., 0., 0., 0., 1., 0.],\n",
              "       [0., 0., 0., 0., 0., 1.],\n",
              "       [0., 0., 0., 0., 1., 0.],\n",
              "       [0., 0., 0., 0., 1., 0.],\n",
              "       [0., 0., 0., 0., 0., 1.],\n",
              "       [0., 0., 0., 0., 0., 1.],\n",
              "       [0., 0., 0., 0., 0., 1.],\n",
              "       [0., 0., 0., 0., 1., 0.],\n",
              "       [0., 0., 0., 0., 0., 1.],\n",
              "       [1., 0., 0., 0., 0., 0.],\n",
              "       [0., 0., 1., 0., 0., 0.],\n",
              "       [0., 0., 1., 0., 0., 0.],\n",
              "       [0., 0., 0., 0., 1., 0.],\n",
              "       [0., 0., 1., 0., 0., 0.],\n",
              "       [0., 0., 0., 0., 1., 0.],\n",
              "       [0., 0., 0., 0., 0., 1.],\n",
              "       [0., 0., 0., 0., 1., 0.],\n",
              "       [0., 0., 0., 0., 0., 1.],\n",
              "       [0., 1., 0., 0., 0., 0.],\n",
              "       [0., 0., 0., 0., 0., 1.],\n",
              "       [0., 0., 1., 0., 0., 0.],\n",
              "       [0., 0., 0., 0., 0., 1.],\n",
              "       [0., 0., 0., 1., 0., 0.],\n",
              "       [0., 0., 0., 0., 0., 1.],\n",
              "       [0., 0., 0., 0., 0., 1.],\n",
              "       [0., 0., 0., 1., 0., 0.],\n",
              "       [0., 0., 0., 0., 0., 1.],\n",
              "       [0., 0., 0., 0., 0., 1.],\n",
              "       [0., 0., 1., 0., 0., 0.],\n",
              "       [0., 0., 0., 0., 0., 1.],\n",
              "       [0., 0., 0., 1., 0., 0.],\n",
              "       [0., 0., 0., 0., 1., 0.],\n",
              "       [0., 0., 0., 0., 0., 1.],\n",
              "       [0., 0., 1., 0., 0., 0.],\n",
              "       [0., 0., 1., 0., 0., 0.],\n",
              "       [0., 0., 0., 0., 0., 1.],\n",
              "       [0., 0., 0., 0., 0., 1.],\n",
              "       [0., 0., 0., 0., 1., 0.],\n",
              "       [0., 0., 0., 0., 0., 1.],\n",
              "       [0., 0., 0., 0., 1., 0.],\n",
              "       [0., 0., 0., 0., 1., 0.],\n",
              "       [0., 0., 0., 0., 1., 0.],\n",
              "       [0., 0., 0., 0., 0., 1.],\n",
              "       [0., 0., 1., 0., 0., 0.],\n",
              "       [0., 0., 0., 0., 1., 0.],\n",
              "       [0., 0., 0., 0., 0., 1.],\n",
              "       [0., 0., 1., 0., 0., 0.],\n",
              "       [0., 0., 0., 0., 0., 1.],\n",
              "       [1., 0., 0., 0., 0., 0.],\n",
              "       [0., 1., 0., 0., 0., 0.],\n",
              "       [0., 0., 0., 0., 0., 1.],\n",
              "       [0., 0., 0., 0., 0., 1.],\n",
              "       [0., 0., 0., 0., 1., 0.],\n",
              "       [0., 0., 0., 0., 0., 1.],\n",
              "       [0., 0., 0., 0., 0., 1.],\n",
              "       [0., 0., 0., 0., 0., 1.]], dtype=float32)"
            ]
          },
          "metadata": {
            "tags": []
          },
          "execution_count": 51
        }
      ]
    },
    {
      "cell_type": "code",
      "metadata": {
        "id": "D61kaV3M3I6d",
        "colab_type": "code",
        "colab": {}
      },
      "source": [
        "pred = model.predict(test_x)"
      ],
      "execution_count": 0,
      "outputs": []
    },
    {
      "cell_type": "code",
      "metadata": {
        "id": "BwfzIWwM3qVs",
        "colab_type": "code",
        "colab": {}
      },
      "source": [
        "predic = []\n",
        "for i in range(len(pred)):\n",
        "  predic.append(pred[i].argmax())"
      ],
      "execution_count": 0,
      "outputs": []
    },
    {
      "cell_type": "code",
      "metadata": {
        "id": "uxrWPwaA8IMU",
        "colab_type": "code",
        "colab": {}
      },
      "source": [
        "predic = np.array(predic)"
      ],
      "execution_count": 0,
      "outputs": []
    },
    {
      "cell_type": "code",
      "metadata": {
        "id": "xy8_iESn8NyW",
        "colab_type": "code",
        "colab": {
          "base_uri": "https://localhost:8080/",
          "height": 34
        },
        "outputId": "27beef6f-1687-4b17-d10f-430a38aa7a05"
      },
      "source": [
        "predic[0]"
      ],
      "execution_count": 55,
      "outputs": [
        {
          "output_type": "execute_result",
          "data": {
            "text/plain": [
              "3"
            ]
          },
          "metadata": {
            "tags": []
          },
          "execution_count": 55
        }
      ]
    },
    {
      "cell_type": "code",
      "metadata": {
        "id": "7lFhKywp3-lj",
        "colab_type": "code",
        "colab": {}
      },
      "source": [
        "import csv\n",
        "with open(\"Test_Data.csv\",'w+') as f:\n",
        "  w = csv.writer(f,delimiter=\",\")\n",
        "  w.writerow([\"BMI\"])\n",
        "  for i in range(len(predic)):\n",
        "    w.writerow([predic[i]])"
      ],
      "execution_count": 0,
      "outputs": []
    },
    {
      "cell_type": "code",
      "metadata": {
        "id": "_IwuCD3E6Scd",
        "colab_type": "code",
        "colab": {}
      },
      "source": [
        "df1 = pd.read_csv(\"Test_Data.csv\")"
      ],
      "execution_count": 0,
      "outputs": []
    },
    {
      "cell_type": "code",
      "metadata": {
        "id": "CxpBP1tB6hjB",
        "colab_type": "code",
        "colab": {
          "base_uri": "https://localhost:8080/",
          "height": 419
        },
        "outputId": "9a65be34-a65a-44e7-84e1-2acd5fe26b9e"
      },
      "source": [
        "df1"
      ],
      "execution_count": 58,
      "outputs": [
        {
          "output_type": "execute_result",
          "data": {
            "text/html": [
              "<div>\n",
              "<style scoped>\n",
              "    .dataframe tbody tr th:only-of-type {\n",
              "        vertical-align: middle;\n",
              "    }\n",
              "\n",
              "    .dataframe tbody tr th {\n",
              "        vertical-align: top;\n",
              "    }\n",
              "\n",
              "    .dataframe thead th {\n",
              "        text-align: right;\n",
              "    }\n",
              "</style>\n",
              "<table border=\"1\" class=\"dataframe\">\n",
              "  <thead>\n",
              "    <tr style=\"text-align: right;\">\n",
              "      <th></th>\n",
              "      <th>BMI</th>\n",
              "    </tr>\n",
              "  </thead>\n",
              "  <tbody>\n",
              "    <tr>\n",
              "      <th>0</th>\n",
              "      <td>3</td>\n",
              "    </tr>\n",
              "    <tr>\n",
              "      <th>1</th>\n",
              "      <td>4</td>\n",
              "    </tr>\n",
              "    <tr>\n",
              "      <th>2</th>\n",
              "      <td>2</td>\n",
              "    </tr>\n",
              "    <tr>\n",
              "      <th>3</th>\n",
              "      <td>4</td>\n",
              "    </tr>\n",
              "    <tr>\n",
              "      <th>4</th>\n",
              "      <td>4</td>\n",
              "    </tr>\n",
              "    <tr>\n",
              "      <th>...</th>\n",
              "      <td>...</td>\n",
              "    </tr>\n",
              "    <tr>\n",
              "      <th>95</th>\n",
              "      <td>5</td>\n",
              "    </tr>\n",
              "    <tr>\n",
              "      <th>96</th>\n",
              "      <td>4</td>\n",
              "    </tr>\n",
              "    <tr>\n",
              "      <th>97</th>\n",
              "      <td>5</td>\n",
              "    </tr>\n",
              "    <tr>\n",
              "      <th>98</th>\n",
              "      <td>5</td>\n",
              "    </tr>\n",
              "    <tr>\n",
              "      <th>99</th>\n",
              "      <td>5</td>\n",
              "    </tr>\n",
              "  </tbody>\n",
              "</table>\n",
              "<p>100 rows × 1 columns</p>\n",
              "</div>"
            ],
            "text/plain": [
              "    BMI\n",
              "0     3\n",
              "1     4\n",
              "2     2\n",
              "3     4\n",
              "4     4\n",
              "..  ...\n",
              "95    5\n",
              "96    4\n",
              "97    5\n",
              "98    5\n",
              "99    5\n",
              "\n",
              "[100 rows x 1 columns]"
            ]
          },
          "metadata": {
            "tags": []
          },
          "execution_count": 58
        }
      ]
    },
    {
      "cell_type": "code",
      "metadata": {
        "id": "az2rJhjJGGSJ",
        "colab_type": "code",
        "colab": {}
      },
      "source": [
        ""
      ],
      "execution_count": 0,
      "outputs": []
    },
    {
      "cell_type": "code",
      "metadata": {
        "id": "nZP5Rf9JGKh1",
        "colab_type": "code",
        "colab": {}
      },
      "source": [
        ""
      ],
      "execution_count": 0,
      "outputs": []
    }
  ]
}